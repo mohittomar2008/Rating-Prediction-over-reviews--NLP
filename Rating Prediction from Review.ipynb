{
 "cells": [
  {
   "cell_type": "code",
   "execution_count": 91,
   "id": "47ee7321",
   "metadata": {},
   "outputs": [
    {
     "name": "stderr",
     "output_type": "stream",
     "text": [
      "[nltk_data] Downloading package punkt to C:\\Users\\Bank of\n",
      "[nltk_data]     America\\AppData\\Roaming\\nltk_data...\n",
      "[nltk_data]   Package punkt is already up-to-date!\n",
      "[nltk_data] Downloading package wordnet to C:\\Users\\Bank of\n",
      "[nltk_data]     America\\AppData\\Roaming\\nltk_data...\n",
      "[nltk_data]   Package wordnet is already up-to-date!\n",
      "[nltk_data] Downloading package stopwords to C:\\Users\\Bank of\n",
      "[nltk_data]     America\\AppData\\Roaming\\nltk_data...\n",
      "[nltk_data]   Package stopwords is already up-to-date!\n"
     ]
    }
   ],
   "source": [
    "# Import required libraries\n",
    "\n",
    "import re\n",
    "import string\n",
    "import pandas as pd\n",
    "import numpy as np\n",
    "from tqdm.auto import tqdm\n",
    "\n",
    "# NLTK\n",
    "import nltk\n",
    "nltk.download('punkt')\n",
    "nltk.download('wordnet')\n",
    "nltk.download('stopwords')\n",
    "\n",
    "from nltk.corpus import stopwords\n",
    "from nltk.stem.porter import PorterStemmer\n",
    "from nltk.stem import WordNetLemmatizer\n",
    "stemmer= PorterStemmer()\n",
    "lemmit=WordNetLemmatizer()\n",
    "\n",
    "from sklearn.model_selection import train_test_split\n",
    "from sklearn.metrics import accuracy_score, classification_report,roc_auc_score\n",
    "\n",
    "# Visualization Libraries\n",
    "import seaborn as sns\n",
    "import matplotlib.pyplot as plt\n",
    "%matplotlib inline\n",
    "\n",
    "\n",
    "import warnings\n",
    "warnings.filterwarnings('ignore')"
   ]
  },
  {
   "cell_type": "code",
   "execution_count": 92,
   "id": "1d0a95bb",
   "metadata": {},
   "outputs": [
    {
     "data": {
      "text/html": [
       "<div>\n",
       "<style scoped>\n",
       "    .dataframe tbody tr th:only-of-type {\n",
       "        vertical-align: middle;\n",
       "    }\n",
       "\n",
       "    .dataframe tbody tr th {\n",
       "        vertical-align: top;\n",
       "    }\n",
       "\n",
       "    .dataframe thead th {\n",
       "        text-align: right;\n",
       "    }\n",
       "</style>\n",
       "<table border=\"1\" class=\"dataframe\">\n",
       "  <thead>\n",
       "    <tr style=\"text-align: right;\">\n",
       "      <th></th>\n",
       "      <th>Title</th>\n",
       "      <th>Review</th>\n",
       "      <th>Rating</th>\n",
       "    </tr>\n",
       "  </thead>\n",
       "  <tbody>\n",
       "    <tr>\n",
       "      <th>0</th>\n",
       "      <td>Terrible product</td>\n",
       "      <td>Its only 7 months I bought this product. It wa...</td>\n",
       "      <td>1</td>\n",
       "    </tr>\n",
       "    <tr>\n",
       "      <th>1</th>\n",
       "      <td>Absolute rubbish!</td>\n",
       "      <td>Automatically Disconnected so many times.</td>\n",
       "      <td>1</td>\n",
       "    </tr>\n",
       "  </tbody>\n",
       "</table>\n",
       "</div>"
      ],
      "text/plain": [
       "               Title                                             Review  \\\n",
       "0   Terrible product  Its only 7 months I bought this product. It wa...   \n",
       "1  Absolute rubbish!          Automatically Disconnected so many times.   \n",
       "\n",
       "   Rating  \n",
       "0       1  \n",
       "1       1  "
      ]
     },
     "execution_count": 92,
     "metadata": {},
     "output_type": "execute_result"
    }
   ],
   "source": [
    "# Import dataset\n",
    "\n",
    "df=pd.read_csv('https://raw.githubusercontent.com/mohittomar2008/Rating-Prediction-over-reviews--NLP/main/review_comments_data.csv', index_col=0)\n",
    "df.head(2)"
   ]
  },
  {
   "cell_type": "code",
   "execution_count": 93,
   "id": "d5f02d2c",
   "metadata": {},
   "outputs": [
    {
     "name": "stdout",
     "output_type": "stream",
     "text": [
      "Dataset have  32431 rows and  3 columns\n"
     ]
    }
   ],
   "source": [
    "print(\"Dataset have \",df.shape[0] , 'rows and ', df.shape[1] ,'columns')"
   ]
  },
  {
   "cell_type": "code",
   "execution_count": 94,
   "id": "cc96ecd2",
   "metadata": {},
   "outputs": [],
   "source": [
    "# We have 32,081 records and 3 features"
   ]
  },
  {
   "cell_type": "code",
   "execution_count": 95,
   "id": "33c56b84",
   "metadata": {},
   "outputs": [
    {
     "data": {
      "text/plain": [
       "5    0.352348\n",
       "1    0.253739\n",
       "4    0.220561\n",
       "3    0.104190\n",
       "2    0.069162\n",
       "Name: Rating, dtype: float64"
      ]
     },
     "execution_count": 95,
     "metadata": {},
     "output_type": "execute_result"
    }
   ],
   "source": [
    "df['Rating'].value_counts(normalize=True)"
   ]
  },
  {
   "cell_type": "code",
   "execution_count": 96,
   "id": "35b4d572",
   "metadata": {},
   "outputs": [
    {
     "data": {
      "text/plain": [
       "8164"
      ]
     },
     "execution_count": 96,
     "metadata": {},
     "output_type": "execute_result"
    }
   ],
   "source": [
    "df.duplicated().sum()"
   ]
  },
  {
   "cell_type": "code",
   "execution_count": 97,
   "id": "918f4c3c",
   "metadata": {},
   "outputs": [],
   "source": [
    "# FIrst of all, we will remove duplicate entries which will not be usful for any prediction other than bias the model\n",
    "\n",
    "df.drop_duplicates(inplace=True)"
   ]
  },
  {
   "cell_type": "code",
   "execution_count": 98,
   "id": "f79ceb34",
   "metadata": {},
   "outputs": [
    {
     "name": "stdout",
     "output_type": "stream",
     "text": [
      "Dataset after removing duplicate entries is   24267 rows and  3 columns\n"
     ]
    }
   ],
   "source": [
    "print(\"Dataset after removing duplicate entries is  \",df.shape[0] , 'rows and ', df.shape[1] ,'columns')"
   ]
  },
  {
   "cell_type": "code",
   "execution_count": 99,
   "id": "0bdf14b0",
   "metadata": {},
   "outputs": [
    {
     "data": {
      "text/html": [
       "<div>\n",
       "<style scoped>\n",
       "    .dataframe tbody tr th:only-of-type {\n",
       "        vertical-align: middle;\n",
       "    }\n",
       "\n",
       "    .dataframe tbody tr th {\n",
       "        vertical-align: top;\n",
       "    }\n",
       "\n",
       "    .dataframe thead th {\n",
       "        text-align: right;\n",
       "    }\n",
       "</style>\n",
       "<table border=\"1\" class=\"dataframe\">\n",
       "  <thead>\n",
       "    <tr style=\"text-align: right;\">\n",
       "      <th></th>\n",
       "      <th>Title</th>\n",
       "      <th>Review</th>\n",
       "      <th>Rating</th>\n",
       "    </tr>\n",
       "  </thead>\n",
       "  <tbody>\n",
       "    <tr>\n",
       "      <th>14845</th>\n",
       "      <td>Very poor</td>\n",
       "      <td>Bad products</td>\n",
       "      <td>1</td>\n",
       "    </tr>\n",
       "    <tr>\n",
       "      <th>15479</th>\n",
       "      <td>Fabulous!</td>\n",
       "      <td>All ok @ 1799&lt; with Extra 2 year warranty @ 69...</td>\n",
       "      <td>5</td>\n",
       "    </tr>\n",
       "    <tr>\n",
       "      <th>17574</th>\n",
       "      <td>Hated it!</td>\n",
       "      <td>After i month display blinking , very very fau...</td>\n",
       "      <td>1</td>\n",
       "    </tr>\n",
       "    <tr>\n",
       "      <th>3413</th>\n",
       "      <td>Must buy!</td>\n",
       "      <td>All over nice product</td>\n",
       "      <td>5</td>\n",
       "    </tr>\n",
       "  </tbody>\n",
       "</table>\n",
       "</div>"
      ],
      "text/plain": [
       "           Title                                             Review  Rating\n",
       "14845  Very poor                                       Bad products       1\n",
       "15479  Fabulous!  All ok @ 1799< with Extra 2 year warranty @ 69...       5\n",
       "17574  Hated it!  After i month display blinking , very very fau...       1\n",
       "3413   Must buy!                              All over nice product       5"
      ]
     },
     "execution_count": 99,
     "metadata": {},
     "output_type": "execute_result"
    }
   ],
   "source": [
    "df.sample(4)"
   ]
  },
  {
   "cell_type": "code",
   "execution_count": 100,
   "id": "868e0869",
   "metadata": {},
   "outputs": [
    {
     "name": "stdout",
     "output_type": "stream",
     "text": [
      "<class 'pandas.core.frame.DataFrame'>\n",
      "Int64Index: 24267 entries, 0 to 32430\n",
      "Data columns (total 3 columns):\n",
      " #   Column  Non-Null Count  Dtype \n",
      "---  ------  --------------  ----- \n",
      " 0   Title   24266 non-null  object\n",
      " 1   Review  24267 non-null  object\n",
      " 2   Rating  24267 non-null  int64 \n",
      "dtypes: int64(1), object(2)\n",
      "memory usage: 758.3+ KB\n"
     ]
    }
   ],
   "source": [
    "df.info()"
   ]
  },
  {
   "cell_type": "markdown",
   "id": "be08bd26",
   "metadata": {},
   "source": [
    "### Missing Values in Text data"
   ]
  },
  {
   "cell_type": "code",
   "execution_count": 101,
   "id": "e6097751",
   "metadata": {},
   "outputs": [
    {
     "data": {
      "text/plain": [
       "Title     1\n",
       "Review    0\n",
       "Rating    0\n",
       "dtype: int64"
      ]
     },
     "execution_count": 101,
     "metadata": {},
     "output_type": "execute_result"
    }
   ],
   "source": [
    "df.isnull().sum()"
   ]
  },
  {
   "cell_type": "code",
   "execution_count": 102,
   "id": "4104e5e4",
   "metadata": {},
   "outputs": [
    {
     "data": {
      "text/plain": [
       "<AxesSubplot:>"
      ]
     },
     "execution_count": 102,
     "metadata": {},
     "output_type": "execute_result"
    },
    {
     "data": {
      "image/png": "[encoded data removed]",
      "text/plain": [
       "<Figure size 432x288 with 2 Axes>"
      ]
     },
     "metadata": {
      "needs_background": "light"
     },
     "output_type": "display_data"
    }
   ],
   "source": [
    "sns.heatmap(df.isnull())"
   ]
  },
  {
   "cell_type": "markdown",
   "id": "0f70b5ad",
   "metadata": {},
   "source": [
    "We have only 1 null value in Title feature which is difficult to see in graph. As the missing value quantity is very less, we can drop this"
   ]
  },
  {
   "cell_type": "code",
   "execution_count": 103,
   "id": "119886fe",
   "metadata": {},
   "outputs": [],
   "source": [
    "df.dropna(inplace=True)"
   ]
  },
  {
   "cell_type": "code",
   "execution_count": null,
   "id": "805cd8d4",
   "metadata": {},
   "outputs": [],
   "source": []
  },
  {
   "cell_type": "markdown",
   "id": "3a914d28",
   "metadata": {},
   "source": [
    "### Both Title and Review features are in Object datatype which should be in String datatype\n",
    "\n"
   ]
  },
  {
   "cell_type": "code",
   "execution_count": 104,
   "id": "a9cc950d",
   "metadata": {},
   "outputs": [],
   "source": [
    "df['Title']=df['Title'].astype('string')\n",
    "df['Review']=df['Review'].astype('string')"
   ]
  },
  {
   "cell_type": "code",
   "execution_count": 105,
   "id": "b3c53004",
   "metadata": {},
   "outputs": [],
   "source": [
    "df['title_len']= df['Title'].apply(lambda x:len(x))\n",
    "df['review_len']= df['Review'].apply(lambda x:len(x))"
   ]
  },
  {
   "cell_type": "code",
   "execution_count": 106,
   "id": "87dd6937",
   "metadata": {},
   "outputs": [
    {
     "data": {
      "text/html": [
       "<div>\n",
       "<style scoped>\n",
       "    .dataframe tbody tr th:only-of-type {\n",
       "        vertical-align: middle;\n",
       "    }\n",
       "\n",
       "    .dataframe tbody tr th {\n",
       "        vertical-align: top;\n",
       "    }\n",
       "\n",
       "    .dataframe thead th {\n",
       "        text-align: right;\n",
       "    }\n",
       "</style>\n",
       "<table border=\"1\" class=\"dataframe\">\n",
       "  <thead>\n",
       "    <tr style=\"text-align: right;\">\n",
       "      <th></th>\n",
       "      <th>Title</th>\n",
       "      <th>Review</th>\n",
       "      <th>Rating</th>\n",
       "      <th>title_len</th>\n",
       "      <th>review_len</th>\n",
       "    </tr>\n",
       "  </thead>\n",
       "  <tbody>\n",
       "    <tr>\n",
       "      <th>26058</th>\n",
       "      <td>Wonderful</td>\n",
       "      <td>Best laptop in this price</td>\n",
       "      <td>5</td>\n",
       "      <td>9</td>\n",
       "      <td>25</td>\n",
       "    </tr>\n",
       "    <tr>\n",
       "      <th>20394</th>\n",
       "      <td>Unsatisfactory</td>\n",
       "      <td>average</td>\n",
       "      <td>1</td>\n",
       "      <td>14</td>\n",
       "      <td>7</td>\n",
       "    </tr>\n",
       "    <tr>\n",
       "      <th>13917</th>\n",
       "      <td>Super!</td>\n",
       "      <td>Very good products....</td>\n",
       "      <td>5</td>\n",
       "      <td>6</td>\n",
       "      <td>22</td>\n",
       "    </tr>\n",
       "  </tbody>\n",
       "</table>\n",
       "</div>"
      ],
      "text/plain": [
       "                Title                     Review  Rating  title_len  \\\n",
       "26058       Wonderful  Best laptop in this price       5          9   \n",
       "20394  Unsatisfactory                    average       1         14   \n",
       "13917          Super!     Very good products....       5          6   \n",
       "\n",
       "       review_len  \n",
       "26058          25  \n",
       "20394           7  \n",
       "13917          22  "
      ]
     },
     "execution_count": 106,
     "metadata": {},
     "output_type": "execute_result"
    }
   ],
   "source": [
    "df.sample(3)"
   ]
  },
  {
   "cell_type": "code",
   "execution_count": null,
   "id": "9797be44",
   "metadata": {},
   "outputs": [],
   "source": []
  },
  {
   "cell_type": "code",
   "execution_count": 107,
   "id": "356672d4",
   "metadata": {},
   "outputs": [
    {
     "data": {
      "text/plain": [
       "'Worthless'"
      ]
     },
     "execution_count": 107,
     "metadata": {},
     "output_type": "execute_result"
    }
   ],
   "source": [
    "# Check any random input\n",
    "\n",
    "df['Title'].loc[100]"
   ]
  },
  {
   "cell_type": "code",
   "execution_count": 108,
   "id": "d72566f6",
   "metadata": {},
   "outputs": [
    {
     "data": {
      "text/plain": [
       "'Bluetooth connectivity is very poor..\\nAfter on or off bluetooth not connect to mobile'"
      ]
     },
     "execution_count": 108,
     "metadata": {},
     "output_type": "execute_result"
    }
   ],
   "source": [
    "df['Review'].loc[100]"
   ]
  },
  {
   "cell_type": "code",
   "execution_count": 109,
   "id": "f2e20b3f",
   "metadata": {},
   "outputs": [
    {
     "data": {
      "text/html": [
       "<div>\n",
       "<style scoped>\n",
       "    .dataframe tbody tr th:only-of-type {\n",
       "        vertical-align: middle;\n",
       "    }\n",
       "\n",
       "    .dataframe tbody tr th {\n",
       "        vertical-align: top;\n",
       "    }\n",
       "\n",
       "    .dataframe thead th {\n",
       "        text-align: right;\n",
       "    }\n",
       "</style>\n",
       "<table border=\"1\" class=\"dataframe\">\n",
       "  <thead>\n",
       "    <tr style=\"text-align: right;\">\n",
       "      <th></th>\n",
       "      <th>Title</th>\n",
       "      <th>Review</th>\n",
       "      <th>Rating</th>\n",
       "      <th>title_len</th>\n",
       "      <th>review_len</th>\n",
       "    </tr>\n",
       "  </thead>\n",
       "  <tbody>\n",
       "    <tr>\n",
       "      <th>0</th>\n",
       "      <td>Terrible product</td>\n",
       "      <td>Its only 7 months I bought this product. It wa...</td>\n",
       "      <td>1</td>\n",
       "      <td>16</td>\n",
       "      <td>357</td>\n",
       "    </tr>\n",
       "  </tbody>\n",
       "</table>\n",
       "</div>"
      ],
      "text/plain": [
       "              Title                                             Review  \\\n",
       "0  Terrible product  Its only 7 months I bought this product. It wa...   \n",
       "\n",
       "   Rating  title_len  review_len  \n",
       "0       1         16         357  "
      ]
     },
     "execution_count": 109,
     "metadata": {},
     "output_type": "execute_result"
    }
   ],
   "source": [
    "df.head(1)"
   ]
  },
  {
   "cell_type": "markdown",
   "id": "71112445",
   "metadata": {},
   "source": [
    "### Text Preprocessing"
   ]
  },
  {
   "cell_type": "markdown",
   "id": "239c1a9b",
   "metadata": {},
   "source": [
    "## Steps to Follow:\n",
    "    Remove all email addresses\n",
    "    Remove all website links if any\n",
    "    Capture emojis\n",
    "    Remove all special character\n",
    "    \n",
    "    Convert into lower case\n",
    "    Stemmer/Lemmitizer to convert into base word"
   ]
  },
  {
   "cell_type": "code",
   "execution_count": 110,
   "id": "f516ab24",
   "metadata": {},
   "outputs": [
    {
     "data": {
      "text/html": [
       "<div>\n",
       "<style scoped>\n",
       "    .dataframe tbody tr th:only-of-type {\n",
       "        vertical-align: middle;\n",
       "    }\n",
       "\n",
       "    .dataframe tbody tr th {\n",
       "        vertical-align: top;\n",
       "    }\n",
       "\n",
       "    .dataframe thead th {\n",
       "        text-align: right;\n",
       "    }\n",
       "</style>\n",
       "<table border=\"1\" class=\"dataframe\">\n",
       "  <thead>\n",
       "    <tr style=\"text-align: right;\">\n",
       "      <th></th>\n",
       "      <th>Title</th>\n",
       "      <th>Review</th>\n",
       "      <th>Rating</th>\n",
       "      <th>title_len</th>\n",
       "      <th>review_len</th>\n",
       "      <th>comment</th>\n",
       "    </tr>\n",
       "  </thead>\n",
       "  <tbody>\n",
       "    <tr>\n",
       "      <th>0</th>\n",
       "      <td>Terrible product</td>\n",
       "      <td>Its only 7 months I bought this product. It wa...</td>\n",
       "      <td>1</td>\n",
       "      <td>16</td>\n",
       "      <td>357</td>\n",
       "      <td>Terrible product Its only 7 months I bought th...</td>\n",
       "    </tr>\n",
       "    <tr>\n",
       "      <th>1</th>\n",
       "      <td>Absolute rubbish!</td>\n",
       "      <td>Automatically Disconnected so many times.</td>\n",
       "      <td>1</td>\n",
       "      <td>17</td>\n",
       "      <td>41</td>\n",
       "      <td>Absolute rubbish! Automatically Disconnected s...</td>\n",
       "    </tr>\n",
       "  </tbody>\n",
       "</table>\n",
       "</div>"
      ],
      "text/plain": [
       "               Title                                             Review  \\\n",
       "0   Terrible product  Its only 7 months I bought this product. It wa...   \n",
       "1  Absolute rubbish!          Automatically Disconnected so many times.   \n",
       "\n",
       "   Rating  title_len  review_len  \\\n",
       "0       1         16         357   \n",
       "1       1         17          41   \n",
       "\n",
       "                                             comment  \n",
       "0  Terrible product Its only 7 months I bought th...  \n",
       "1  Absolute rubbish! Automatically Disconnected s...  "
      ]
     },
     "execution_count": 110,
     "metadata": {},
     "output_type": "execute_result"
    }
   ],
   "source": [
    "# we are going to concat Title and Review features\n",
    "\n",
    "df['comment']=df['Title']+' '+ df['Review']\n",
    "df.head(2)"
   ]
  },
  {
   "cell_type": "code",
   "execution_count": 111,
   "id": "1e0f322b",
   "metadata": {},
   "outputs": [
    {
     "name": "stdout",
     "output_type": "stream",
     "text": [
      "<class 'pandas.core.frame.DataFrame'>\n",
      "Int64Index: 24266 entries, 0 to 32430\n",
      "Data columns (total 6 columns):\n",
      " #   Column      Non-Null Count  Dtype \n",
      "---  ------      --------------  ----- \n",
      " 0   Title       24266 non-null  string\n",
      " 1   Review      24266 non-null  string\n",
      " 2   Rating      24266 non-null  int64 \n",
      " 3   title_len   24266 non-null  int64 \n",
      " 4   review_len  24266 non-null  int64 \n",
      " 5   comment     24266 non-null  string\n",
      "dtypes: int64(3), string(3)\n",
      "memory usage: 1.8 MB\n"
     ]
    }
   ],
   "source": [
    "df.info()"
   ]
  },
  {
   "cell_type": "code",
   "execution_count": null,
   "id": "cc4cd0a9",
   "metadata": {},
   "outputs": [],
   "source": []
  },
  {
   "cell_type": "code",
   "execution_count": null,
   "id": "a32a2df3",
   "metadata": {},
   "outputs": [],
   "source": []
  },
  {
   "cell_type": "code",
   "execution_count": 112,
   "id": "7dadd97f",
   "metadata": {},
   "outputs": [],
   "source": [
    "# Anyhow we are going to analyse words being used to determine whether the comment is good or bad."
   ]
  },
  {
   "cell_type": "code",
   "execution_count": 113,
   "id": "735cdcd2",
   "metadata": {},
   "outputs": [],
   "source": [
    "#stopwords=stopwords.words('english')"
   ]
  },
  {
   "cell_type": "code",
   "execution_count": 114,
   "id": "eb12fb79",
   "metadata": {},
   "outputs": [
    {
     "data": {
      "text/plain": [
       "nltk.corpus.reader.wordlist.WordListCorpusReader"
      ]
     },
     "execution_count": 114,
     "metadata": {},
     "output_type": "execute_result"
    }
   ],
   "source": [
    "type(stopwords)"
   ]
  },
  {
   "cell_type": "code",
   "execution_count": 115,
   "id": "305843df",
   "metadata": {},
   "outputs": [],
   "source": [
    "#stopwords.remove('not')  # remove 'not from stopwords'"
   ]
  },
  {
   "cell_type": "code",
   "execution_count": 116,
   "id": "160bf15f",
   "metadata": {},
   "outputs": [
    {
     "name": "stdout",
     "output_type": "stream",
     "text": [
      "<WordListCorpusReader in 'C:\\\\Users\\\\Bank of America\\\\AppData\\\\Roaming\\\\nltk_data\\\\corpora\\\\stopwords'>\n"
     ]
    }
   ],
   "source": [
    "print(stopwords)"
   ]
  },
  {
   "cell_type": "markdown",
   "id": "e83f3b27",
   "metadata": {},
   "source": [
    "### Handle Emoji's first"
   ]
  },
  {
   "cell_type": "code",
   "execution_count": 117,
   "id": "d5ea1bea",
   "metadata": {},
   "outputs": [],
   "source": [
    "# !pip install emot"
   ]
  },
  {
   "cell_type": "code",
   "execution_count": 118,
   "id": "c2447210",
   "metadata": {},
   "outputs": [],
   "source": [
    "import re\n",
    "import pickle\n",
    "\n",
    "from emot.emo_unicode import UNICODE_EMOJI # For emojis\n",
    "from emot.emo_unicode import EMOTICONS_EMO # For EMOTICONS"
   ]
  },
  {
   "cell_type": "markdown",
   "id": "a989b930",
   "metadata": {},
   "source": [
    "### Handling Emojis"
   ]
  },
  {
   "cell_type": "code",
   "execution_count": 119,
   "id": "74ee5972",
   "metadata": {},
   "outputs": [
    {
     "data": {
      "text/plain": [
       "'I won 1st_place_medal in cricket'"
      ]
     },
     "execution_count": 119,
     "metadata": {},
     "output_type": "execute_result"
    }
   ],
   "source": [
    "# 'Emoji_Dict.p'- download link https://drive.google.com/open?id=1G1vIkkbqPBYPKHcQ8qy0G2zkoab2Qv4v\n",
    "\n",
    "with open('Emoji_Dict.p', 'rb') as fp:\n",
    "    Emoji_Dict = pickle.load(fp)\n",
    "Emoji_Dict = {v: k for k, v in Emoji_Dict.items()}\n",
    "\n",
    "def convert_emojis_to_word(text):\n",
    "    for emot in Emoji_Dict:\n",
    "        text = re.sub(r'('+emot+')', \"_\".join(Emoji_Dict[emot].replace(\",\",\"\").replace(\":\",\"\").split()), text)\n",
    "    return text\n",
    "\n",
    "text = \"I won 🥇 in 🏏\"\n",
    "convert_emojis_to_word(text)"
   ]
  },
  {
   "cell_type": "code",
   "execution_count": 120,
   "id": "672f7250",
   "metadata": {},
   "outputs": [
    {
     "data": {
      "text/plain": [
       "str"
      ]
     },
     "execution_count": 120,
     "metadata": {},
     "output_type": "execute_result"
    }
   ],
   "source": [
    "type(text)"
   ]
  },
  {
   "cell_type": "code",
   "execution_count": 121,
   "id": "aff78e23",
   "metadata": {},
   "outputs": [
    {
     "data": {
      "text/plain": [
       "<function dict.keys>"
      ]
     },
     "execution_count": 121,
     "metadata": {},
     "output_type": "execute_result"
    }
   ],
   "source": [
    "Emoji_Dict.keys"
   ]
  },
  {
   "cell_type": "code",
   "execution_count": 122,
   "id": "1e5308ee",
   "metadata": {},
   "outputs": [
    {
     "data": {
      "text/plain": [
       "str"
      ]
     },
     "execution_count": 122,
     "metadata": {},
     "output_type": "execute_result"
    }
   ],
   "source": [
    "type(df['comment'][0])"
   ]
  },
  {
   "cell_type": "code",
   "execution_count": 123,
   "id": "740aa589",
   "metadata": {},
   "outputs": [
    {
     "data": {
      "text/plain": [
       "0        Terrible product Its only 7 months I bought th...\n",
       "1        Absolute rubbish! Automatically Disconnected s...\n",
       "2        Worst experience ever! everything is good expe...\n",
       "3        Worst experience ever! Worst Product Quality E...\n",
       "4                                Very poor Bakwas flipkart\n",
       "                               ...                        \n",
       "32424                               Just okay I love it 😍😍\n",
       "32425                   Decent product Volume not expected\n",
       "32428    Good I paid extra for stand. Because no hangin...\n",
       "32429                                  Nice Damage project\n",
       "32430           Just okay Product is good in this price...\n",
       "Name: comment, Length: 24266, dtype: string"
      ]
     },
     "execution_count": 123,
     "metadata": {},
     "output_type": "execute_result"
    }
   ],
   "source": [
    "df['comment']"
   ]
  },
  {
   "cell_type": "code",
   "execution_count": null,
   "id": "21e257c3",
   "metadata": {},
   "outputs": [],
   "source": []
  },
  {
   "cell_type": "code",
   "execution_count": 124,
   "id": "e4ecce66",
   "metadata": {},
   "outputs": [],
   "source": [
    "x_train,x_test,y_train,y_test=train_test_split(df['comment'],df['Rating'],test_size=.3,random_state=42)"
   ]
  },
  {
   "cell_type": "code",
   "execution_count": 125,
   "id": "f55d4363",
   "metadata": {},
   "outputs": [
    {
     "data": {
      "text/plain": [
       "((16986,), (7280,))"
      ]
     },
     "execution_count": 125,
     "metadata": {},
     "output_type": "execute_result"
    }
   ],
   "source": [
    "x_train.shape , x_test.shape"
   ]
  },
  {
   "cell_type": "code",
   "execution_count": 126,
   "id": "6fb2ea5e",
   "metadata": {},
   "outputs": [
    {
     "data": {
      "text/plain": [
       "((16986,), (7280,))"
      ]
     },
     "execution_count": 126,
     "metadata": {},
     "output_type": "execute_result"
    }
   ],
   "source": [
    "y_train.shape, y_test.shape"
   ]
  },
  {
   "cell_type": "code",
   "execution_count": 127,
   "id": "5233c9f5",
   "metadata": {},
   "outputs": [],
   "source": [
    "df=df.reset_index()  # because we have deleted duplicate values"
   ]
  },
  {
   "cell_type": "markdown",
   "id": "a6f6dcca",
   "metadata": {},
   "source": [
    "## Data Preprocessing"
   ]
  },
  {
   "cell_type": "code",
   "execution_count": 128,
   "id": "d8388f2d",
   "metadata": {},
   "outputs": [],
   "source": [
    "corpus=[]\n",
    "\n",
    "for i in range(len(df)):\n",
    "    review=re.sub('([a-zA-Z0-9+._-]+@[a-zA-Z0-9._-]+\\.[a-zA-Z0-9_-]+)',' ',df['comment'][i])\n",
    "    review=re.sub('[^a-zA-Z]',' ',df['comment'][i])\n",
    "    review=review.lower()\n",
    "    review=review.split()\n",
    "    \n",
    "    review=[lemmit.lemmatize(word) for word in review if word not in set(stopwords.words('english'))]\n",
    "    review=\" \".join(review)\n",
    "    corpus.append(review)"
   ]
  },
  {
   "cell_type": "code",
   "execution_count": 135,
   "id": "3e8bf78e",
   "metadata": {},
   "outputs": [
    {
     "data": {
      "text/plain": [
       "['terrible product month bought product convenient use sound bass everything good said water sweat resistance power never worked wearing splashed water still one side stopped working second without warning feel like wasted money wired earphone work longer',\n",
       " 'absolute rubbish automatically disconnected many time',\n",
       " 'worst experience ever everything good expect built quality built quality poor another disadvantage use earphone feel pain ear bcz heavy specially right side bud bcz heavy microphone charge socket run bcz due weight stick ear thanks',\n",
       " 'worst experience ever worst product quality ever stop working one side day',\n",
       " 'poor bakwas flipkart',\n",
       " 'poor bad sound quality',\n",
       " 'poor month used right side speaker working',\n",
       " 'waste money bad experience sound problem e u call someone person hear u replacement option return acceptable',\n",
       " 'hated side stopped working day know',\n",
       " 'meet expectation bad',\n",
       " 'utterly disappointed fitting earphone good sound ok main issue fitting product worst fitting ever seller accepting return short waste time money please buy',\n",
       " 'waste money worst product quality never buy product sound quality going day day never bye product',\n",
       " 'worst experience ever power button working properly used day power button working',\n",
       " 'meet expectation right side speaker come slowly',\n",
       " 'unsatisfactory buy waste money plz buy bluetooth connectivity working properly',\n",
       " 'worst experience ever bad experience time flip cart cheated time send cheap mivi earphone instead boat didnt make exchange refund definitely last order flipkart',\n",
       " 'utterly disappointed automatic disconnect',\n",
       " 'absolute rubbish good product buy connectivity weak riding bike',\n",
       " 'waste money ordered product first time got product faulty right earphone make constant crackling sound playing music video replaced second time earphone working well day sometime crackling sound started coming right earphone guess fault earphone please order u want money go waste',\n",
       " 'meet expectation poor quality good flipkart customer review relantionship poor',\n",
       " 'meet expectation build quality good may design fault model fitted properly ear feel uncomfortable one plus z bass headphone much better',\n",
       " 'absolute overhyped simply worth product hyped term sound quality yes economical term price feature providing experience creating distorting sound plugged inside ear also couple minute ear plug make ear pain unacceptable comfort perspective overall great experience using earphone',\n",
       " 'hated earphone good sound everything perfectly fine biggest issue e going suffer boat give button box near right earbuds fell weight right side ear earbuds fall ear due button box weight really unexpected boat go earphone',\n",
       " 'terrible product noise cancellation issue call person able listen due loud back ground noise even office hour',\n",
       " 'unsatisfactory build material ordinary look cheap',\n",
       " 'terrible product mic working',\n",
       " 'waste money thay give wrong item f pro plus audio technology aptx hear good valu product',\n",
       " 'poor sound quality bed',\n",
       " 'poor working month',\n",
       " 'terrible product month use charging port working',\n",
       " 'hated worst product purchased never recommend product',\n",
       " 'meet expectation poor performance bty get suddenly get connected automatically every time require charge first connected phon',\n",
       " 'worthless waste product working month',\n",
       " 'terrible product product working well wanted replacement',\n",
       " 'unsatisfactory bad boat company wast',\n",
       " 'horrible dont buy v baad product',\n",
       " 'waste money battery backup thing u get headset previously using oneplus bullet wireless z purchasing clearly say boat headset stand nowhere infront oneplus headset really disappointed headset expecting kind service boat give star giving one star else even giving one star',\n",
       " 'utterly disappointed sound quality poor magnetic bud easily deattach inthe sense magnetic power good bad music control key worst responding slow response overall waste money',\n",
       " 'horrible boat quality good',\n",
       " 'useless product software issue play song automatically stop play automatically sound bass good also battery backup',\n",
       " 'poor high weight loss money',\n",
       " 'poor youtube video status video gaming sound working product day problem face disappointed',\n",
       " 'worst experience ever working month',\n",
       " 'unsatisfactory much much disappointed sound stop automatically start without touching button realme sound quality far better price range battery good band length long stick neck becomes straight easily difficult listen one side side hang much neck buy repeat buy boat good brand name without quality',\n",
       " 'meet expectation sound quality best',\n",
       " 'absolute rubbish keep disconnecting',\n",
       " 'unsatisfactory buying day faced connectivity issue',\n",
       " 'useless product suitable neck seating',\n",
       " 'unsatisfactory initially product good used get day single recharge month mic problem got replaced new product came getting battery backup day rediculous think boat giving refurbished product replacement coming totally disappointed',\n",
       " 'meet expectation sound problem one side low volume',\n",
       " 'waste money bad interested flipkart',\n",
       " 'meet expectation buy old n damaged product',\n",
       " 'hated premium feel',\n",
       " 'waste money delivery time long',\n",
       " 'worst experience ever noise background comfortable overall bad quality dont purchase',\n",
       " 'waste money product pathetic stopped working within week purchase buy',\n",
       " 'horrible worst product buy even accept return world worst product product ever seen',\n",
       " 'recommended flipkart ghatiya',\n",
       " 'unsatisfactory vary bad',\n",
       " 'waste money aweak one side code volume heatable',\n",
       " 'recommended ok mic problem always',\n",
       " 'poor sound good stopped working month also battery backup got reduced initially used work day half day enough',\n",
       " 'useless product worst product month powering',\n",
       " 'worst experience ever go wirst boat product ever usage week starting creating irritating sound right side worst product',\n",
       " 'horrible buying pubg buy voice bullet music came late',\n",
       " 'utterly disappointed poor quality product charging properly getting power time given complaint problem resolved permanently first ever experience boat product disappointed',\n",
       " 'hated bad product',\n",
       " 'terrible product today buy product satisfy call volume low',\n",
       " 'waste money average',\n",
       " 'absolute rubbish received defective item volume button ot working properly disappointed aftr receiving defective item',\n",
       " 'poor stopped working month',\n",
       " 'useless product waste product boat use day working waste money',\n",
       " 'horrible headphone mic bad headphone',\n",
       " 'recommended utter failed',\n",
       " 'useless product bad product',\n",
       " 'hated stopped working month',\n",
       " 'terrible product bad product return policy bad irritating customer support painful suggest everyone buy product risk',\n",
       " 'worst experience ever bass le calling time sound clear',\n",
       " 'worst experience ever initially working good day later may cause irritation ear',\n",
       " 'hated bad product',\n",
       " 'hated totally bad experience',\n",
       " 'worthless like',\n",
       " 'waste money product sound quality good',\n",
       " 'absolute rubbish price vry high product price good',\n",
       " 'worthless product bad',\n",
       " 'hated indian make product low price best quality chinese product costly low quality',\n",
       " 'terrible product metriyal waste',\n",
       " 'utterly disappointed frequently disconnecting bluetooth connectivity',\n",
       " 'waste money bad product flipkart supposed return product bad service flipkart',\n",
       " 'waste money using three month product stop working suddenly product water resistant infect need protect swate thinking buying water resistant rating buy battery backup ok upto one day using continue voice quality ok sound quality bad full volume good',\n",
       " 'worst experience ever waste money',\n",
       " 'waste money working one side',\n",
       " 'poor bad quality',\n",
       " 'useless product left speaker really working properly good go fot one plus',\n",
       " 'absolute rubbish low quality',\n",
       " 'waste money bed',\n",
       " 'meet expectation satisfied',\n",
       " 'poor day one side earphone working',\n",
       " 'recommended poor quality waste money',\n",
       " 'worthless bluetooth connectivity poor bluetooth connect mobile',\n",
       " 'recommended bud weight proper',\n",
       " 'useless product hated hated hated',\n",
       " 'fabulous battery backup awesome used ten hour percent battery used build quality would better sound bass awesome big thumb fit ear perfectly bought long battery backup stood upto expectation thank bo',\n",
       " 'utterly disappointed product product material bad bad',\n",
       " 'worth every penny comparison boat realme bud sennheiser cx bass realme bud excellent extra bass boat also good extra bass good realme bud sennheiser cx extra bass bass perfect required u feel great bass build boat boat clearly winner build quality feel premium two metal build tangle free wire realme bud also great build read',\n",
       " 'classy product outstanding product best sound good bass clear sound good job realme',\n",
       " 'terrific unbelievable bass clear audio ear protection strong really prefer purchase fantastic realme bud thank much realme',\n",
       " 'terrific purchase build quality really good design also look great magnet earbuds also really useful best part cable organizer really useful bass good sound quality also good disappointed buying product price call quality also good placement button functional useful buy without doubt',\n",
       " 'terrific woww fantastic experience mainly discus earphone built quality awesome im fully satisfied earphone prons built quality awesome sound quality super bass treble mid range good long comfortable cable con missed l shape jack finally overall rating',\n",
       " 'mind blowing purchase great product according price sound quality bass perfect realme bud really great headphone price range best headphone ever',\n",
       " 'excellent nice earphone smooth sound even build quality best earphone better bass lover also smooth playback',\n",
       " 'pretty good best value money product also build quality good lite wait also like yellow strip useful',\n",
       " 'brilliant nice product nice quality great bus love',\n",
       " 'classy product ordered si self good built quality bass triple well balanced producing wow sound effect power amp music player app comfortable fit thanks extra ear bud well premium packing time delivery another gadget laptop',\n",
       " 'brilliant interesting product writing hour burn stay tuned know full story eartips silicone tip comfortable stay ear much well mileage may vary build great receiving item noticed scuff nylon coming little part near mm port otherwise built really well speaker call tremendous easily putting mi basic shame great people like talk lot read',\n",
       " 'simply awesome best market enjoying feel real bass good quality wire comfortable wear great sound quality value money',\n",
       " 'great product sound quality really good better boat bass used many earphone like jbl skullcandy boat bout leaf bose sony etc fell also good leaf bolt love',\n",
       " 'simply awesome immersive experience headphone listen music feel like sitting live show best sound quality ever experienced price range superb realme wroth price look also cool see yellow line button remote tactile easy use differentiate sound go extreme volume trouble long hour use',\n",
       " 'fair bass awesome little extra people like bass love personally like balanced sound signature bass turned notch treble waaaayyy high really ruin experience hurt ear mids pretty good build quality decent much treble ruin sound quality star treble balanced would given even maybe',\n",
       " 'worthless using month mike issue playing song good call worthy enough',\n",
       " 'bad quality seriously abnormal bass guy big negative earpiece dont know nobody paid attention bass boost feature annoying never able listen originally recorded song hear abnormal extreme bass every song play may pleasing want turn feature coz default feature earpiece sound clarity good build also good wil read',\n",
       " 'poor sound fill like bought local r head phone befour bought earphone used boot earphone extremely good earphone second thing open fast time box delivery saw ear phone wear cut warranty card',\n",
       " 'simply awesome want say bass lover purchase instantly bass quality really really awesome also vocal clear overall sound quality perfect better expected design build quality perfect also mic quality good quality wire decent using month recommend everyone price segment',\n",
       " 'super best earphone ever used quality sound awesome balanced experience classy bass also build quality interesting black nd yellow work awesome really like mic quality good inline magnetic bud usefull like neckband using travelling',\n",
       " 'mind blowing purchase wohooo awesome confused two best earphone price segment boat realme difference boat cheaper realme magnetic design help keep earbuds magnetic attached similarity awesome build quality best price segment purchase two earphone go check design like design boat purchase like design realme read',\n",
       " 'slightly disappointed sound quality fine price range right side earphone stopped working properly month usage lower volume left side sometimes sound right side mic also would sometimes work mostly work month',\n",
       " 'worth every penny literally love product sound quality good use earphone like boat jbl ubon etc earbuds best literally love mic quality recording',\n",
       " 'wonderful must buy earphn sure design could bettwr may better colour combination r looking wired earphn may becoz online meeting n go includes mic good grip ear well gentle ear extra bud included musthave deal',\n",
       " 'worth every penny sound quality amazing build quantity also amazing brother also using ear bud long time performance still good also ordered ear bud amazing working expectation',\n",
       " 'worth every penny best earphone go bass good best gaming none ear phone defeat',\n",
       " 'brilliant realme rma v boat v senhieser used year boat month senhiser currently using realme since week sound quality realme boat senhieser volume realme mm driver boat senhieser bass realme boat senhiser build quality realme boat senhieser bass lover care lyric go boat true music lover every note matter read',\n",
       " 'brilliant best product buy good realme narzo good base high quality worth price',\n",
       " 'unsatisfactory sound good mean loud sound speaking bass im happy bass soo powerful soo clear jbl',\n",
       " 'classy product allrounder used playing pubg footstep clearly audible music awesome suggest purchase earphone budget happy product',\n",
       " 'mind blowing purchase absolutely great product sound quality bass great expect built quality also great go purchase guy con also connector l shape treble improved next version osm product bass lover go earphone',\n",
       " 'awesome using since may th exceptional especially pubg wonderful hear footstep form coming problem listing music long hour active noise cancellation superb hear anything around plug play previously used mi basic year one side went working one better bass sound clarity mi basic headset go guy',\n",
       " 'good quality product every thing great earphone lack clarity bit guess bass cable braided look cool black yellow combination like magnetic earbuds',\n",
       " 'mind blowing purchase sound quality bass quiet good tangled free design great give full star',\n",
       " 'good quality product real bud awesome product great sound quality bass mark awesome build quality value money',\n",
       " 'wonderful sound good punchy bass clear sound look good especially green color look simple mean quality overall great purchase',\n",
       " 'recommended connectivity jack bad sometimes work fine mostly u unplug replugg working checked hedphones work fine issue phone mm jack headphone plug realme please look get fixed',\n",
       " 'awesome real bud feel real bass design fit sound clarity bass value money using oneplus got best budget earphone realme thanks flipkart team within day fastdelivery add cart buy wait',\n",
       " 'delightful good bass nice get r mrp price getting best',\n",
       " 'must buy excellent product amazing sound amazing bass better jbl boat value money',\n",
       " 'delightful good excellent pubg gaming base experiencenced well sound high hear song loud voice base work good also affect ear',\n",
       " 'awesome writing review month daily use personally use earphone daily basis upgraded earphone design build quality impressed first month became wet due rain still work way first day good product',\n",
       " 'fabulous really love headphone bass awesome sound quality good quality also good last one price reasonable',\n",
       " 'worth every penny good quality headphone nice amazing bass sound good',\n",
       " 'super bass awesome clarity also descent bulit quality really good durable cable quality really liked product let see long last',\n",
       " 'great product know much technicality earphone sound output earphone pretty good price sound coming crystal clear undoubtedly best earphone price range',\n",
       " 'simply awesome nice product worth buying signature sound realme india love sound best segment realme india',\n",
       " 'terrific head set awesome must buy bass fab loved thank realme thank flipkart sound clarity superb sound quality excellent way packed wow like delivered time nice design nice colour combination realme shocking always classy standard product product grandness awesome word always falling love realme flipkart thank much',\n",
       " 'best market happy good quality product nice bass sound clarity',\n",
       " 'simply awesome pro sound crisp clear bass awsome design build quality excellent cable organizer usefull carry pick earphone safetly call quality clearly delivered who speak u con straight cable triangle gold plated mm jack',\n",
       " 'good quality product sound quality acceptable price range bass quality super design build quality good personally like tha wair thing good price segment issue mic bottom',\n",
       " 'nice sound bass really good bass really powerful week use pin end somewhat broken inside seems wont last month part look better built rough use keep headset pouch worth flipkart smartbuy headphone better much rich sound like one',\n",
       " 'best market realme bud best earphone perfect people like bass sound quality awesome audio balanced every instrument clearly heard price rupee cannot better',\n",
       " 'mind blowing purchase used jbl senheiser sony mdr mi really expenisve except mi come great bass sound quality sony mdr x superb bass despite one real mi brought month later believe worth decent bass bole superb crystal clear sound hooe help u guy selct u ask mi good realme better',\n",
       " 'pretty good ok writing review using day pro earphone base love fantastic base mic quality best call little bit air air coming mic cable organizer provided make earphone life better build quality wire good make durable long lasting con build quality jack little bit low face issue first time jack day suitable jack worry build qua read',\n",
       " 'must buy best handsfree gaming listing song also play pubg india game best voice system best gaming',\n",
       " 'great product ok lemme start basic earphone comfortable guess say cancel around noise around pro gonna mutual trait bass chonkers mean comfortable wear mention magnet top ear piece quite clicky con none wanna point bass might little top second pair earp read',\n",
       " 'awesome good product sound quality expectation price tag bought two bud green orange variant great extra ear bud provided box extra earbuds different size useful cord organiser good move inbuilt mic volume rocker button good also change song play pause using middle one',\n",
       " 'perfect product outstanding realme bud wire flexible sound good easy receiving call excilent',\n",
       " 'perfect product best earphone ever buy life soft clear sound bass little bit low effect sound fabulous',\n",
       " 'excellent realme bud really gud product comfort quality satisfied issue small ear plug one pair available box perfect fit ear extra plug big useful',\n",
       " 'perfect product awesome ear design comfortable wear high bass good trumph budget friendly suggest could afford buy pouch extra protection',\n",
       " 'mind blowing purchase first design nice texture colour amazing came sound quality expect good bass perfect ear really feel enjoyed whenever listen song headset really satisfied product recommend everyone buy enjoy thank',\n",
       " 'wonderful sound get zzz volume bass sound output super high main body made plastic super high quality built quality premium feel good compare mi earphone r realme one better sound cancellation mi one softer well balanced sound realme one loud sound bass similar really u wana buy realme one go black one',\n",
       " 'value money first thing already boult audio loop brother requesting gave bought one review gonna comparison price realme bought boult loop bought sound quality amazing give perfect sound bass good realme bud give punchy bass cause headache long time use build good boult fit perfect feel good treble boult conclu read',\n",
       " 'value money good sound quality comfortable average bass call quality little bit disappointing voice much clear sound right ear little bit lower left build quality superb metal head premium looking quality overall price segment good earphone',\n",
       " 'worth every penny realme xt smartphone dolby atmos realme bud mind blowing music experience feel premium hand delivery best sound happy product bass good feel every bit music must buy',\n",
       " 'nice product earphone good quality nice overall price performance bass good playing game like pubg using continuously like listening music high volume sometimes cause earpain',\n",
       " 'brilliant best earphone price range bought sony bud available r price sound low compare realme bud best earphone price range boosted bass bass best',\n",
       " 'super good product price segment built quality audio quality awesome bass booster work perfectly earphone made braided cable tangle free easy handle earphone',\n",
       " 'classy product sound quality superb base quality also good point thing liked earphone durability wire quality good using sennheiser cx wire got cut middle happy earphone',\n",
       " 'terrific purchase best ear earphone price nice built noise isolation good feel every beat bass hd crystal clear sound voice clarity could improved dual driver still best earphone budget build quality also good feel cheap budget earphone one thing cable organizer help lot keeping earphone safe organized travelling keeping jean pocket hope realme bud co read',\n",
       " 'terrific quality earphone good may comepete earphone r r bass treble nice due bass vocal may affected little day day usage feel bass lover like absolutely prefer earphone good luck',\n",
       " 'delightful best earphone excellent build quality excellent base button premium quality magnetic earphone major plus point mids ok price best value money rupee buy offer price rupee best earphone value money keep mobile sound quality come using realme mobile vivo oppo nokia mobile use earphone sound coming best value money',\n",
       " 'wonderful earphone truly worth price e got day ago using since sound quality awsm bass problem face lower note music video also ok price considered built quality functionality main bought stand pretty well perspective thing build quality hate used wire one braided one normal yeah litt read',\n",
       " 'super awesome product recommended guy purchase realme bud best sound quality superb bass clear audio rating',\n",
       " 'value money main attraction build quality main cable durable although know joint would super split cable braided sound quality could better bass muddy overpowers mids high although higher volume similar earphone high shrill listen full volume know average indian looking budget earphone certainly lov read',\n",
       " 'nice nice headset love music realme headset good work realme phone good headset thank filpkart',\n",
       " 'wow sound quality good best jbl earphone bass much better price segment overall sound clarity design good bass good expect',\n",
       " 'good choice hurry honest much excited feel base sond olso one word amazing thanks flipkart',\n",
       " 'best market pretty good earphone sound better way well bass bass disturb sound quality bestest need full volume medium sound play pretty good noise canceling super good button control making problem sometimes mic quality good voice control best earphone range good build quality cable handler awesome experience',\n",
       " 'wow sound osum bass earphone material also good trust guy writing review month perfect buy earphone',\n",
       " 'nice boat basshead better bass bud vocal bud better boat produce clear sound loved music lover must buy warranty must year',\n",
       " 'value money lot confusion ended senhinser cx piston fit jbl realme bud previously used boat one best bass loved built sound superb purchasing realme bud say r well spent better sound quality boat hand base punchy thumping mm driver working excellent probably killer thing would like get added read',\n",
       " 'wow awesome product really good build quality awesome base booster wire premiuim best product range sound good crisp',\n",
       " 'fabulous good earphone sound awesome bass decent green look sexy',\n",
       " 'good choice boat treble high bass medium sound clarity good bud bass excellent treble smooth good sound clarity excellent bud super',\n",
       " 'awesome satisfied buying earphone sound quality excellent bass wow highly recommend earphone want experience full cristal clear sound bass',\n",
       " 'terrific using like half year excellent earphone price range wire quality awsome brought using boat earphone mi earphone comparitively soo good pain using loong hour comfy loved magnetic earphone part could hang around neck',\n",
       " 'simply awesome super fast delivery awesome earphone bass awesome crystal clear sound really loved im really happy delivery got two day early thank flipkart',\n",
       " 'good quality product earphone good sound quality also good according cable seperater given required one thing headphone jack shape straight comfortable given l shape better experience otherwise earphone awesome using earphone day give awesome experience think prise range well good',\n",
       " 'worth every penny built quality quite impressive interesting cable organizer helpful bass quality excellent powerful real bass sound much impressive good enough price range really impressed realme product',\n",
       " 'perfect product nice product bass excellent sound quality good love flipkart',\n",
       " 'best market best daily use feel like nothing ear easy keep organised thanks magnet organizer also two extra bud one small large use according preference also tangle free wire flipkart packing delivery always best doubt',\n",
       " 'fabulous excellent product realme good bass good treble vocal call quality good distortion touching cable',\n",
       " 'good worth money sound quality worth built quality awesome built quality price varrient boat awesome sound quality better realme bud u want built quality go realme otherwise want sound quality go boat',\n",
       " 'terrific first hesitate order one using boat earphone satisfied google lot found budget friendly high quality earphone today got happy quality distortion sound point bass treble perfect balance really getting outer noise plug ear feel like sennheiser quality low price',\n",
       " 'super nice product good bass super sound quality awesome',\n",
       " 'fabulous best among segment day realme great job appreciate much',\n",
       " 'terrific great product value money bass expectation feel little low bass compare treble high quality vocal crisp clear treble mic good hd little bass clear bass quality make awesome product bass lover little tip use equaliser boost bass work go',\n",
       " 'wow writing review year using realme released bud neo cheaper go bud instead neo bud premium sturdy cable tried different type wired earphone past k price range including boat sony jbl etc none lasted month usage best budget earphone redmi basic available since year buy realme bud read',\n",
       " 'delightful overall decent build quality good sound bass good rated listen music high volume shrillness bgmi experience good buy comfortable pricing option also r range sound quality also par one please give like agree dislike u disagree',\n",
       " 'worth money kinda satisfied reading seeing review thought best headphone price range went turn get wrong ear headphone big actually l shaped jack built quality big deal fully satisfied look built bass good think clarity somewhat missing high volume finally bass guy mind size factor go read',\n",
       " 'nice product bass really high dont expect thumping bass price segment bass good enough wire quality seriously impressive build quality superb vocal clear enough volume irritate bass good old music bass average mean say bass perfect electronic instrument sound u r coke studio fan sorry dissappoint u major mistake design call receive reject button small read',\n",
       " 'fabulous realme bud good earphone ptice rate good bass clear audio buying second time first purchase lost time search buy best earphone ever bought really loved',\n",
       " 'delightful better expect budget bought flipkart doubt best build quality ever seen earpiece button work best good mic quality want something best budget go',\n",
       " 'good realmi bud hard bass sound quality much better feel high music compact size also good volume slowly sound quality compromise clear hearing people say volume best hearing music every time get high better bass audio jack shape l type connector much better good earphone love earphone',\n",
       " 'super sound quality build quality product amazing price bass treble clear bass enhanced way heavy head pain sound clear crisp price complaint',\n",
       " 'really nice sound clarity vocal best bass better boat built quality better boat bought product feb th working properly issue automatically sound decreasing use month warranty period left use customer support becareful b buy product think twice',\n",
       " 'worth every penny bass wonderful good quality good product love',\n",
       " 'pretty good finally reviewing many product picked best one thanks flipkart timely delivery earphone really great vocal upto mark earphone hear song like lucky ali arijit singh others includes vocal',\n",
       " 'job build nice sound quality great though bass high sound treble mids low poor overall sound vocal clear fell like base boosted connection jack also l shaped straight jack hole bottom phone big trouble',\n",
       " 'wonderful bass love go like hear pure music decent bass go high budget specially bass lover',\n",
       " 'perfect product sound quality great without doubt comfortable perfect fit ear come extra earbuds probably best earphone price ultimate satisfaction realme mobile phone',\n",
       " 'wonderful love really love wired headset tried brand know sure durable long lasting realme bud bass pretty good con use meeting mic sound quite low',\n",
       " 'really nice sound quality good base average good bad wire build quality good would better mm jack connector l shape',\n",
       " 'mind blowing purchase good performance like base tribels vocal equally punchi base price segment really good like sport style yellow black combination',\n",
       " 'job hey know looking review know want earphone good sound pretty loud bass good feel boom boom sounding like coming cheap speaker mids sound muffled best sounding earphone say cause ask earphone cx choice best sounding earphone thing mic h read',\n",
       " 'fabulous sexy product rate price one negatively show last port surface smooth little oily hand take easy careful gold plated another please correct design straight wise awesome bestseller market',\n",
       " 'terrific purchase real bud woohooo item say best earphone could get price range tha boat bassheads quality bulild sound treble bass equally managed brings better satisfaction built quality metal ear piece magnet braided cable straight mm audio port switch remote also rubber piece help tie earphone needed read',\n",
       " 'best market using headphone last month sound quality superb bass le comparison brother boat basshead bass good built quality good magnit pro valuable price wire quality osm one best headphone us nd boat must buy',\n",
       " 'terrific price worthy product use boat bass boost im feel comfortable wearing lot weight especially build material get irritated earphone feel comfortable highlight thing yellow band really useful traveling find found good product',\n",
       " 'wow nice product loving specially thanking flipkart fast delivery pandemic time need meeting thanks recommended friend also bought headset vendor',\n",
       " 'mind blowing purchase best earphone like quality sound quality best use gaming earphone use gaming best gaming gaming quality',\n",
       " 'must buy crystal clear sound love bass quality also using jbl boat uno boat earphone must say product match quality must say mic quality better boat earphone best match price range go',\n",
       " 'terrific really nice experience earphone others built quality amazing budget best earphone prefer thank',\n",
       " 'good quality product nice product range sound crispy clear bass awesome design comfortable use helmet also wire quality good overall great product',\n",
       " 'value money super prodact mm bass nice sound cheep best quantity thanks fleep cart safe pack fast belivary',\n",
       " 'fabulous always best earphone value money best sound quality best bass always recommended buy realme bud fantastic sound quality comfortable ear best quality wire',\n",
       " 'good initial review day edit month day experience good realme bud let tell headphone take give best take week usage right used min listening saved music poweramp well built normal player lastly played song youtube would say sound great poweramp far youtube online stream concerned would say read',\n",
       " 'worth every penny super bass good sound like realme bud happy',\n",
       " 'must buy got earphone yesterday sound quality extremely good cannot raise volume even speaking bass better boat already used especially surrounding music give amazing feel speaking build quality braided cable good people complaining l shaped jack problem already used boat earphone l shaped jack last long read',\n",
       " 'super hey buy earbuds day ago experience earbuds superb fantastic bass awesome sound quality amazing spectacular think much waste time earphone buy one perfect time delivery built quality good wire quality good realme time best think much buy value money product tysm realme',\n",
       " 'delightful working fine oppo f pro g nice sound clear voice good product range',\n",
       " 'terrific excellent product balanced signature sound quality best thing loved bass boosted sturdy built breded cabel magnetic ear piece',\n",
       " 'awesome rate product year really got amazing experience quality better like new think buy dont think much',\n",
       " 'really nice sound quality great main advantage durable even year ear working new',\n",
       " 'decent product build quality good bass good treble good mids good looking bass centric earphone go looking clear voice instrument audible buddy mi basic clear sound one',\n",
       " 'terrific purchase review week usage upgrade low tier earphone realme earphone honest difference huge siund quality loudness build quality worth price realme true quality brand u regret choosing earphone others like boat jbl thorough listening favourite song sound quality build quality bonus liked avout magnet store easily th read',\n",
       " 'brilliant earlier use two mi headphone used boat headphone boat headphone last long headphone amazing build quality awesome tangle free unlike mi boat bass best class tested deeb bass sound really happy',\n",
       " 'best market earphone aaree awesome sound quality bass earphone justtt outstanding suggest earphone purchased earphone besttt thee earphone price range would like say one thing feel real bass realme',\n",
       " 'wonderful given price earphone value money cable quality good tangle free earpiece feel comfortable longer duration mic button call answering volume cable organiser magnetic earpiece make easy maintain bass deep mids feel little left high good low little le expected notice unless use better headphone however wish little loudness read',\n",
       " 'terrific purchase bass hai bawa sound quality awesome build quality good spent buck personally recommend u r music lover u love',\n",
       " 'awesome superb liked much price little bit high got product good',\n",
       " 'good one best earphone sound quality play song give full volume set get relax bass bassy effect earphone excellent love battery backup though wired earphone backup good value money definitely buy must say',\n",
       " 'wonderful month use daily hour use sound quality quality bass price purchased think reasonable rate realme bud like premium brand bud like apple etc',\n",
       " 'awesome good bass clear sound clear vocal clear music good length cable think price wired headset r',\n",
       " 'okay good earphone value money bass ok overall sound quality ok best overall good earphone',\n",
       " 'excellent product highly recommended must say good product pro good built quality braided cable hope durable ear tip feel comfortable even long use sound quality good though sound signature towards bass heavy magnet back ear tip help keep together con would better sound signature balanced side kudos flipkart quick swift delivery',\n",
       " 'pretty good sound quality amazing bass lover earphone worth buy boat basshead using boat basshead last year',\n",
       " 'wonderful best wired earphone braided cable bottom mic good rubber cable mic earpiece sound quality also good bought time family also first using year till date working fine',\n",
       " 'value money looking spec review expected sound better got bad way sound really good different earphone get brand price build quality nice get go braided cable full length half braided half rubber insulation like also given volume control earphone anyways would recommend get read',\n",
       " 'good quality product hear music enthusiast sound quality vocal instrument acoustic best notice bass bass dope good bass think twice game go pro good overall sound bass quality best budget earphone tangle free note music lover want good sound quality well bass budget one better quali read',\n",
       " 'good quality product week purchased product sound quality good build quality also good product light wieghted expectation anyone buy product music well gaming aslo trust buy worth',\n",
       " 'brilliant actually using near last one year issue found yet got price therefore really value money product actually always used prefer old brand like sony jbl product really change mind term price quality sound u ask suggest better wired headphone value money definitely go',\n",
       " 'pretty good using last month say one best probably best noise cancellation good though people often complains background noise whole call bass quality good well music quality build quality superb matter keep purchase roommate bought next one month',\n",
       " 'good choice decent build fitting although wire microphone earpiece could better comparing competition sound quality good loud crisp adequate bass treat music lover segment recommended gaming yeah playable still better option go ptron boom something',\n",
       " 'wonderful bought december using past month must say given price range earphone truly steal expert come judging sound quality say sure disappointed take good care earphone usually last long rock solid far great build quality got r spare would one go',\n",
       " 'really nice value money buying year pet dog chewed head therfore buy would worked another year probably one durable trustable value money work good every field gaming pubg etc music bgm online class call medium many build quality good best within price range go blind folded',\n",
       " 'good good product price paid artificial bass mm jack work well listening song talking need adjustment otherwise person talking complains sound coming muffled low recommended calling purpose',\n",
       " 'fabulous best earphone range happy receive fast thing dissatisfied vocal sound otherwise best',\n",
       " 'wonderful item really good useful high quality sound best value money',\n",
       " 'worth money super excellent best earphone price get good quality music bass n fit easily ear create pain n also suitable',\n",
       " 'simply awesome would genuinely review used today whole day feel best best prize range fully satisfied go',\n",
       " 'classy product product much better competitor within price range sound put good mic reception good fit finnesh also good built rough n tough use',\n",
       " 'wonderful nice headset expected build quality super sound quality little improved overall whatever needed wired headset getting happy buy good job realme',\n",
       " 'fabulous comfortable ear bass good sound quality also good range absolutely go want durable budget earphone realme trusted brand also durable',\n",
       " 'worth every penny using headset last month really good excellent sound good bass bass lover gonna like headset sure',\n",
       " 'good choice rupee many option wanted buy sennheiser cx doubt build quality went realm bud bass great like hear clear high mids like one much like music good bass disappointed wire tangle free really nice button playback control really helpful thing bothered microphone kno read',\n",
       " 'simply awesome nice earphone smooth voice clear love earphone colour heard first voice best friend earphone mobile earphone relme barnds love realme thanks filpkart',\n",
       " 'fabulous nice sound quality excellent build quality also nice bass good nice purchasing',\n",
       " 'good nice product satisfied good sound quality best earphone price',\n",
       " 'decent product con l shaped mm jack comfortable whenever hold device portrait way laying bed would made l shaped jack would great hype created tech youtubers average bass sound narrow holder jack cover feel weird tribble okay bass average tiktok noisy volume button pro wired quality good tilted shaped ear tip chamber amazing comfortabl read',\n",
       " 'terrific purchase loved design pretty good cable rough user headphone last longer week one probably last month sound quality decent price point though bass bit low ipad headphone socket issue headphone would come accidentally touched jack one fit perfectly issue',\n",
       " 'nice product good headphone regular heavy use built quality cable best price looking durable value money headphone suggest go disappointed',\n",
       " 'super good super quality super bass super sound quality useful design',\n",
       " 'brilliant good headset price range build quality headset nice bass really loud treble also good say feel real bass microphone also good overall budget want buy headset microphone good sound quality daily use consider item p delivery flipkart fast ordering within hour got product',\n",
       " 'perfect product best earphone r good quality sound like sony good quality bass build quality also excellent must buy budget r microphone also good',\n",
       " 'good quality product simple good mids treble high sometimes unpleasing overall sound fine balanced bass could deep would made earphone perfect',\n",
       " 'pretty good build quality ok mark satisfying rupee treble good bass much button volume call receive responsive',\n",
       " 'wonderful build quality fine sound good bass good best good earlier used jblc cable length little lengthy magnetic bud feel good overall good earphone budget price',\n",
       " 'fabulous super best headset bass super wire also good',\n",
       " 'great product best product nice built performance proper price amazing product',\n",
       " 'highly recommended good build quality nice bass overall well balanced experience delivered day',\n",
       " 'good premium design made high build quality best earphone music lover delivered amazing bass rich sound one thing say like headphone earphone sound effect surround sound one word say world best earphone price',\n",
       " 'decent product bought watching watching top review regretting product described bass low mean low vocal instrument using mi earphone wearing headphone sound quality two like bose boat expect realme although build quality awesome cable organizer great addition disappointed bought mi earphone big billion day buy bass',\n",
       " 'great product almost month happy performance price rate realme mi change market thnx making best quality product wish indian market learnt something build quality best sound quality good overall best u regret',\n",
       " 'pretty good really good packaging seems like premium earbuds reasonable best ever used design good wish jack notch little improved look delicate sound loud enough perfect bass issue treble loud high volume pinch ear time best quality sound experience volume sound quality high volume good change sound one sound show glitch else read',\n",
       " 'really nice good price range bass lover like listen music make phone call via earphone worth',\n",
       " 'worth every penny good earphone amazing sound quality awesome punchy bass also durable compared earphone truly value money product',\n",
       " 'classy product awesome product sound quality like bluetooth version awesome build quality best price range may best k also',\n",
       " 'mind blowing purchase price point good product audio output good durable wire dynamic drive make high bass noise cancel',\n",
       " 'delightful good quality super bass mids vocal treble good compared realme bud earphone specially recommended bass lover',\n",
       " 'highly recommended sound good clarity base also good build quality need improvement rest l shape better shape rest good',\n",
       " 'mind blowing purchase good product price range audio quality far better earbuds available price range quite satisfied product',\n",
       " 'perfect product superb quality really nice one price extra pair ear piece also good idea actually delivered day excpectrd date friendly nature delivery boy thank flipkart',\n",
       " 'perfect product big salute ever behind builting product using sony xb year shifted product comparing product sony one crystal clear sond xb design sound quality bass everything premium level hearing song sree ragamo thadunnu njan world might heard song time',\n",
       " 'must buy good product sound quality bass soo close one old skullcandy ink headphone must buy k range build quality finish also top notch great job realme thanks flipkart speedy delivery',\n",
       " 'okay build quality good sound quality normal good gaming like pubg good listening music',\n",
       " 'great product perfect choice love bass anything affordable headphone come lowest price along awesome sound n bass nitin kr nishant',\n",
       " 'super guy hesitate buy earphone best earphone ever used low price better previous cx realme bud wireless earpiece people want buy realme bud wireless go regret difference realme bud wireless realme bud one wireless wired feel every beat earphone every sound balanced bass good build quality best mic quality awe read',\n",
       " 'consider fact buying using realme bud day honest build quality vocal bass considering get mm bass boost driver comfort get extra silicon bud make comfortable length wire long enough sometimes irritating wire come work wire organizer great job really useful would better mm jack would golden really good gaming like pubg c read',\n",
       " 'highly recommended jst loved bud base soo good worth money',\n",
       " 'worth every penny best earphone price range previously used boat using product quite decent sound quality bass good sign rating sound quality bass build quality',\n",
       " 'super one best earphone price point good bass sound quality really awesome build quality also decent enough cable easy manage magnetic bud really help lot fit nice ear great choice pubg player overall good deal price must buy product',\n",
       " 'great product overall product best bass really crispy sound great quality quality top notch worth buy',\n",
       " 'pretty good best earphone sound crunchy bass like overall best product realme',\n",
       " 'wonderful fantastic pric range built quality good look durable sound quality also good bass also nice',\n",
       " 'highly recommended crystal clear audio output nice bass superb quality vara level earbuds fastest delivery flipkart thank realme amazing product',\n",
       " 'excellent love nice good super wow',\n",
       " 'delightful really nice product sound quality good bass superb build vice good bt improve button quality jack bcz lshape r tshape jack comfortable',\n",
       " 'mind blowing purchase comparing earphone boat bass head suggest go one one sound clarity fit perfectly ear experience boat bass head boat slightly bass one talk overall experience simply awesome considering price point easily compare earphone jbl earphone come similar price range like c si etc',\n",
       " 'wow product nice original ear phone best bass clear sound design also looking dashing great experience realme bud',\n",
       " 'terrific earphone quite good compare earphone range bass normal sound quality good finally told best option',\n",
       " 'simply awesome amazing quality best sound best build quality loved must try bass amazing everything perfection',\n",
       " 'brilliant amazing realme best sound quality best bass best built superb using shennheiser cc listening bud choice changed realme',\n",
       " 'pretty good posting detailed review day continuous use pro build quality earphone really obe best price bracket k braided cable really feel tough magnet cable organizer really welcoming feature earphone b sound quality earphone really good especially hr burn assistant app sound clarity earphone improved lot u clearly hear instrument vocal read',\n",
       " 'best market melody lover thing abeast moving bass treble better boat bassheads price range make sure useful purpose',\n",
       " 'wow well product quality sound quality really whenever listen song watching video using earphone feel like theatre dynamic product realme',\n",
       " 'perfect product product awesome sound quality best price range bass lover loved much proved design also nice thought volume switch button slightly handle touch',\n",
       " 'brilliant amazing honest opinion say much best earphone price superb',\n",
       " 'terrific purchase stylish classy light comfortable used boat ant audio w many headphone one fit ear perfect use magnet hang ur neck travelling access call adjust volume sound small specification make classy comfortable used like month wowwww',\n",
       " 'super got headset going many review previously used jbl boat etc confused either buy costly headset go bit cheaper headset pretty loud good bass even listening soft music feel song fel good amount bass surround sound effect using past week satisfied till date',\n",
       " 'classy product sound quality crispy clear base good material wire good finally got good headphone want durable headphone go boat rocker also good option prefer durable headphone long last like year',\n",
       " 'brilliant awesome sound awesome bass awesome everything sometimes bud hurt ear little bud soft smooth rather everything cool value money product',\n",
       " 'mind blowing purchase super super super good earphone best budget earphone thank realme thank flipkart',\n",
       " 'bad quality vocal clear instrument separation good loudness high pubg good enough music lover worst',\n",
       " 'delightful earphone got best fit ear come extra bud wire pretty flexible made good quality material sound quality compared earphone like jbl boat mm jack make comfortable use fit almost mobile jack bass quality descent good playing game like pubgmobile etc honestly best earphone low price',\n",
       " 'decent product bad find something price segment e realme improve well realme bud pure realme user month progress like believe oppo oneplus apple iphone etc never negate oppo oneplus apple progress truly incredible realme lot faith realme well today real realme user wish grow well artificial brother e rea read',\n",
       " 'simply awesome best league good bass best sound quality must buy also best build quality',\n",
       " 'good quality product using past month say term durability match sport version sennheiser bass high affect balance treble high volume listen music max volume surround sound excellent watching movie since realme bud dolby atmos utilised full extent bass kicked notch money put clarity would matched like jbl',\n",
       " 'okay sound quality much good brother also boat compared side side surprised boat far better sound quality realme bud genuine review',\n",
       " 'classy product first delivery super super fast got delivered bud hr ordering best sound quality nice design bass super good colour may vary different shown picture good flipkart realme fantabulous job love bud look super cool',\n",
       " 'really nice expectation r focusing real bass come reality bass upto mark bass similar bass samsung feature phone earphone surrounding effect trepel vocal clear also volume loud full sound find distortion design good quality wire long lasting using maxprom con bass upto mark bass better samsung feature phone earphone bass performance normal cost high pr read',\n",
       " 'good choice really saying headset pretty good bill quality awesome good bass sound effect l shaped mm jack',\n",
       " 'pretty good cool funky kind ear phone look pretty cool put magnetic effect make stylish sound bass quality good better thanks delivery person delivered raining overall good product',\n",
       " 'must buy yo received item today yo using n say pretty dope yo u know sayn feel like high end earphone yeah worth buying yo homies record music like pro yo really appreciate man flipkart n realme yooooooooo look review said already n done period yo u know sayn bass treble everything sound dope man peace straight nagaland yo',\n",
       " 'mind blowing purchase using earphone since month earphone good price sound quality good bass excellent bass lover blindly go earphone definitely love build quilty also good last long minor con high tone average expected price sound quality bass build vocal high tone overall',\n",
       " 'value money bass good surrounded effect good price range head phone good look like premium',\n",
       " 'okay noice cancellation good used ant audio w purchasing guess ant audio w best price range better buy product even build quality good better real go check product tq',\n",
       " 'wow best pricw price range built awesome sound ja also good magnetic driver good feture binding clip also help overall best segment',\n",
       " 'worth money pro good quality sound price range look stylist bass good wire partly pvc silicone like material weight light magnet work properly con jack gold plated l shape jack ph call side sound come',\n",
       " 'simply awesome awesome product sound quality high soft damage ear overall best best product bass quality excellent thank realme product',\n",
       " 'wonderful totally bang fabulous bass controll sound clarity full volume noisy sound sound break best price giving star like rope type wire plug personal disliking otherwise headphone nothing second choice',\n",
       " 'awesome usually prefer headphone rough usage good built quality headphone satisfied need good audio quality base noice cancellation facility awesome quality decent packing overall better earphone prefer price little high overall suggest u prefer regular user thank flipkart',\n",
       " 'perfect product awesome sound great bass great overall satisfied price range thnx realme thnx flipkart',\n",
       " 'terrific disclaimer cannot return order careful coming review dont know much hype created earphone like best earphone bu bass doesnt feel bass cheap drum sound feeling bass nothing u amazed played song iphone sound clearity missing overall u expect feel music emotion missing way sound make u feel nirvana take u particular zone missing short read',\n",
       " 'bad quality thought product amazing sound quality ordered product sound quality really good every sound quality like mi headphone',\n",
       " 'great product conqueror player pubg bgmi really awesome suggested many friend fellow teammate footstep clear exact direction hear minute sound teammate notice go guy one thing know interested share feedback year usage purchased reviewing july durability top notch still using',\n",
       " 'perfect product good headset people like im senhiser cx user year feel like background sound like instrument clear cx bass better one clarity way better senhiser',\n",
       " 'perfect product awesome earphone value money using earphone really cool bass aslo good perfect sound quality mic wow fantastic working good phone call',\n",
       " 'super review using month non stop use definitely go change sound quality super bass loved much also wire quality super matter ruff use',\n",
       " 'wonderful advantage nice product sound quality nice best part voice much clear audible person talking using call disadvantage see clearly bud displayed transparent actual',\n",
       " 'simply awesome sound quality earphone good design quality attractive using samsung earphone since last year sound quality realme earphone better earphone ever used thank flipkart',\n",
       " 'classy product excellent budget earphone come strong braded cable prevents earphone tangling also cable organizer useful use even use need cable long',\n",
       " 'wonderful good quality earfone good sound base beautiful like realme bud',\n",
       " 'highly recommended nice earphone happy earphone sound quality better bass also good sound high',\n",
       " 'simply awesome best headphone one fully high base enjoy music pubg high base excellent work realme nice product take star',\n",
       " 'perfect product earlier using boat heavy slippery much better boat comfortable light weight even sound quality better boat',\n",
       " 'nice good headset also good appearance sound quality also good thanks realme thank much flipkart',\n",
       " 'perfect product great balanced headphone price prefer balanced headphone bass heavy one dialogue movie show audible clear',\n",
       " 'good firstly music soft unnecessarily loud bass good managed heard drop secondly shape l shape jack gold plated thirdly voice good noise isolation cancellation availability build great liking first go able tell better month use receiver could better one overall buy good buy',\n",
       " 'wonderful happy bought realme bud built quality really good bass earphone amazing cable organizer useful anad avoid crumble',\n",
       " 'wonderful sound quality design superb add something important considerable best part earphone wire coating none earphone give feature price know much matter keep ur earphone safe nd main part right placement mic many earphone miss necessary feature need hold mic near ur mouth call',\n",
       " 'pretty good product awesome quality base good important earphone used roughly build quality good',\n",
       " 'could way better bass high good sound quality also good ordered seen good review okay sorry realme build quality okay wire awesome button cheaper',\n",
       " 'awesome pure one dont miss attractive design comfortable effective bass sound quality braided wire thats help survive long life headset please try awesome headset realme thankyou flipkart',\n",
       " 'value money bass lover wanna buy searching budget earbuds budget friendly deal great bass boost sound experience unique stylish finish good wire quality great choice r',\n",
       " 'perfect product best ever headphone price range treble bass equally balanced perfect match music lover made pubg best ever headphone guess enemy listening footstep best surround sound must buy earphone premium quality sound',\n",
       " 'fair bass useless magnet nothing else sond quality good bass great vacls bild quality great thing like',\n",
       " 'highly recommended best sound perfect build beautiful bass perfect buy saler best quality best',\n",
       " 'bad quality build quality premium one buy earpiece listening music sake longevity tone well balanced barely bassy part felt bland point bass looking best bass budget go boat bass head thank later',\n",
       " 'poor good awesome earmachine made fit comfort pain use upto hr contiinous voice calling good',\n",
       " 'could way better bought earphone viewing positive review earphone good volume try listen volume sound like local cheap earphone time good scene awesome bgm v would want listen full volume earphone meant first thought video audio later realised earphone',\n",
       " 'nice like basshead go apart good build quality get earphone build quality earphone provide quality sound get product used jbl c si sound incredibly good promoting brand used earphone simultaneously found jbl c si way better listen music consider want fe read',\n",
       " 'wow delivery fast reached day pubg lover good sound quality game good play game volume level',\n",
       " 'wonderful literally become fan realme bud earphone using earphone around month get amaze every time use realme bud using boat bassheads extra bass earphone realme bud truly powerful earphone price range durability earphone good get braided cable upper side get good quality rubber quite durable get separately volume button quality microphone truly read',\n",
       " 'wonderful awesome worth money premium build quality super bass best ever headset used',\n",
       " 'wow afther month use writing review multimedia purpose like video audio u choose blindly well performance clear good quality output u got full satisfaction design build nice good strong enough gaming purpose thie best good u hear footstep clearly squad pushing towards sound become merging collapse previously used boat nice afther year stoped read',\n",
       " 'good choice design build quality impressive sound quality good like company like jbl sennheiser price range provide good quality sound bass',\n",
       " 'decent product sound quality okay clear bass overemphasized good bass guess cannot expect range build quality seems good comfort good ear might start paining basic headphone mic suggest going panasonic okay without mic range panasonic ergofit level comfort usually found headphone anymore',\n",
       " 'best market best range suggest go boat wired earphone price range best user know earphone close eye buy wire quality good man go tuber advice tangle free u keep properly earphone get tangled wire awesome rugged finish throughout fit ear perfectly length best long short premium finish read',\n",
       " 'wow value money product obviously would like thank flipkart providing amazing service thank person delivered parcel difficult situation stay home stay safe',\n",
       " 'mind blowing purchase premium build good braided cable button tactile would better casing metal sound good especially bass well pronounced sometimes feel punch ear mids good high good best overall good purchase',\n",
       " 'highly recommended product awesome price point using yr give good performance till purchasing bass quality really nice give clearly excellent sound higher volume product standard quality material used flipkart service product disappoint u take',\n",
       " 'pretty good sound quality superb bass superb good overall best',\n",
       " 'perfect product awesome product realme though rated star one issue sound quality awesome whenever use headphone remove back cover cause support otherwise u surely go good product price',\n",
       " 'brilliant competition earphone even give tough competition boat wireless earphone personally compared earphone realm bud came winner get better option price range even last longer using since month still condition delivered bass outstanding even gaming performance boosted since started using pubg lover de read',\n",
       " 'really nice build quality soud quality bass quality instrument sound missing ear fitness many hour using pain price wisely ok good good product thanks r',\n",
       " 'fair habe purchased review habe say sound quality great per customer saying tribble much bass mark u listen low le tha pee volume sound good u cant feel bass ear low u rise volume per tribble tear ear apart much loudy u cant enjoy music earphone st try ur bought cause read',\n",
       " 'wonderful thank fast work sandeep sain also fast thanks',\n",
       " 'nice product bass like jbl headphone buying realme earphone r prefer buy jbl worth work bass time rest awesome',\n",
       " 'terrific well balanced sound deep basslines distortion higher volume value money magnetic eartips might seem useless cable organizer come handy keeping away remain tangle free',\n",
       " 'fabulous earphone made good quality material fine texture seems durable far quality sound concerned earphone provide good quality sound price range better keep longer last',\n",
       " 'worth every penny get amazing earphone realme great experience till found mids clear ok ok well plastic body affect design lot look like old gadget',\n",
       " 'pretty good driver size mm best earphone gvood bass perfect everything like listen old song love rps best quality overall',\n",
       " 'good choice build quality awesome bass nice expect much sound quality lot loudness clarity something guess missing',\n",
       " 'best market best sound quality price bass tune great loving one time mean time best earphone quality wire great longlasting try',\n",
       " 'worth money fantastic earphone must suggest use many head phone best r one best used must buy little uncomfortable full volume best one two volume go without hesitation love',\n",
       " 'value money packaging quite messy look like old earphone sound good shot deep heavy music listener personally recommend sennheiser cx built quality good sennheiser definitely worth money sound far better realme bud',\n",
       " 'wonderful ear phone value money green colour good look black best look bass quality super',\n",
       " 'wonderful sound quality good u adjust equaliser first balance want fit comfortably ear build quality also plus point bud feel heavy ear plastic body button control give volume option good bass thumpy boosted overall decent product according price range',\n",
       " 'highly recommended good product un expected prich rang good sound quality bass design ok normal product better cx bud thanks realme',\n",
       " 'worth every penny good build quality seem cheap doest cause pain ear sound quite clear bass good enough high low okay great product specially range even jbl etc whose starting range something give quality also tangle time understandable magnet keep sadbuddhi together good thing wired earphone lack specially k segment go buy product',\n",
       " 'awesome bought product last month ago still using amazing performance amazing base also designe classic premium price range got really want get thank flipkart fast delivery also amazing product',\n",
       " 'best price review posted month extensive usage rating follows design ergonomics sound bass value money mic button trust used many around different earphone price easily recommend earphone better price sennheiser cx bass head mic volume control button',\n",
       " 'wow amazing product used several earphone price category among one amazed sound really good deep bass great build quality button amazing',\n",
       " 'classy product best product price range sound quality awesome nd bass damm good build quality look also good best headphone ever used u blindly go u music lover',\n",
       " 'excellent great product price range realme proved really liked quality additional strap fold wire pretty decent earphone',\n",
       " 'classy product really amzing product got r quality sound amazing price durability build quality best class comfortable ear would recommend cannot get better earphone one price',\n",
       " 'brilliant excellent quality sound gone detail sound must say performance product much much better compared others boat focal sense jbl etc price range driver capability superb even odd equalizer setting want wired earbuds go without second thought',\n",
       " 'worth money first impression good bulit quality also super thank good product realme',\n",
       " 'wonderful one best earphone mid range best build quality well best sound quality range mic quality also best',\n",
       " 'fair little late delivery product came neat promised bass great treble weak hence good pubg reason bought also surround sound somewhat average price go want enjoy mucis',\n",
       " 'fabulous best earphone price best bass sound clearity go amazing product',\n",
       " 'good quality product one best wired earphone ever seen deep bass see sound quality con lack l shape connector product packege worst quality seemed damaged torn expect flipkart hope realme bring another innovative also durable accessory like thank',\n",
       " 'nice nice product range build quality good sound noise cancellation work well n enough long cableto enjoy music experience',\n",
       " 'mind blowing purchase checked lot review buying finally decided go honestly get expected expectation come cost one delivers almost everything u want budget earphone bass terrific vocal mark lower volume level overall u bass lover compromise dimension one good luck',\n",
       " 'great product best earphone ever purchased feel r earphone actually sound better costly earphone build quality superb earphone organiser best dnt get earphone bass punchy like much',\n",
       " 'wow one best headset price range good sound quality nice bass good build quality',\n",
       " 'worth money product awesome bass lover worth purchasing go vocal clear ok high tone low tone also well balanced hear high volume hurt ear listen medium volume overall product good issue',\n",
       " 'excellent one best one available orice range perfect option love bass',\n",
       " 'simply awesome really good quality earphone balanced sound low mids built quality best better overall one best earphone price range',\n",
       " 'really nice bass good low mid also good treble better otherwise good earphone buy',\n",
       " 'highly recommended nice earphone superb sound quality built design good light also comfortable use overall nice product price range description testing sound quality built design',\n",
       " 'awesome pubg player bought viewing review youtube nd say best earphone nice build quality nice sound mid nd bass good regret',\n",
       " 'delightful good wired headset indeed using boat bass head one best thing hv used headset le bass good clarity sound also best star side',\n",
       " 'wonderful sound quality built pretty good actually bass upto mark minor change wanted l shaped everything absolutely worth price range',\n",
       " 'really nice good product prize best clear sound bass',\n",
       " 'good nice feel good sound quality build quality impressive satisfied product',\n",
       " 'perfect product wonderful earphone mid range price segment cant compare jbl skullcandy earphone interms bass earlier used jbl apart bass quality remaining upto mark especially pubg player blessed realme bud earphone delay clear foot step sound degree coverage surrounded sound playing pubg listening song earphone compare realme bud second thought buying one',\n",
       " 'wonderful one definitely better realme bud surrounding sound good baa comfortable design really love build quality also',\n",
       " 'mind blowing purchase fir price best earphone buy sound quality good bass awesome love loud music earphone give wire quality feel good enough last longer go one bang buck',\n",
       " 'highly recommended nice earphone built quality also amazing sound awesome best earphone loved',\n",
       " 'simply awesome product must purchase type however expected good packing covered plastic cover day got product raining packaging must say good quality product thank flipkart next time expect good packing thank',\n",
       " 'excellent using headset month audio output headset worth paid amount great bass worth buying',\n",
       " 'terrific thanks realme never expected good quality wire sound beat already using jbl skullcandy reasonable price awesome quality guy suggest must go next order realme earbuds surprised thanks happy fully satisfied product jbl product need update price much quality guy go realme earphone',\n",
       " 'great product wow nice product base nice fantastic play call duity game shocked listen real sound fantastic base',\n",
       " 'tremendous bass firstly buying third time one two friend worry product rugged wired finish awesome tangled free also come cable manager apart come bass tremendous like indian user like also mid low high quite good quite satisfied product',\n",
       " 'wonderful realme bud bass good audio quality already used boat super bass f price whose bass audio level diff realme driver mm boat mm found loudness bass diff extra mm driver realme ordered extra bass whereas found boat earphone overall give boat earphone',\n",
       " 'best market sound quality good regarding price point problem sound focused instrumental side rather vocal concequence sound little bizarre mixed instrumental vocal balanced would soothing listen',\n",
       " 'simply awesome sound clarity awesome distort high volume vocal clear even high music background bass kinda low punchy trust want good sound clarity clear vocal one ur budget bit low say r go boult audio bassbuds oak choose brown color nice day',\n",
       " 'delightful earphone really awesome feature like support device properly',\n",
       " 'fabulous pro sound loud clear bass good price best call quality mic good build quality nylon braided cable con really headphone jack without gold coating matter much normal usage headphone jack shape could better would l shape mitigates cable life providing nylon braided wire normal wire straight headphone jack worn soon regular usage',\n",
       " 'super best earphone great bass clear voice better sennheiser cx street',\n",
       " 'wow cool super durability good say bass bass expected recommend look',\n",
       " 'value money bass thumpy hydraulised enjoy cannot use earphone higher volume actually increase volume cause earpain take love wire arrangement shack making work easier think much go',\n",
       " 'highly recommended affordable term price design quality quality much appreciated sound clarity awsome hear even tiny detail clear like em lot',\n",
       " 'classy product must buy build quallity good mostly untornable tangle free sound quallity pretty good price range base quite good also headphone price range good',\n",
       " 'brilliant amazing product decent price amazing sound thing like come touch button multiple use highly recommended pubg give sound enemy clearly overall good product price range must buy',\n",
       " 'super nice earphone also nice built quality recommended earphone also like realme brand made india product',\n",
       " 'pretty good writing review using month pro loud useful watching video low volume also talking phone also sound quality good good quality cable braided cable strong earphone used mic good catch even small volume much better others used sound bass slightly boosted one high low mids good con plastic though fine buts feel premium enough using long read',\n",
       " 'wonderful superb sound quality superb base excellent product realme loved',\n",
       " 'classy product best bang bug go easily product category bought product good build quality nice sound dont fear go u love saving money',\n",
       " 'simply awesome headset best price range gold plated mm jack cabile breeded good quality recommended gamming',\n",
       " 'good earphone good specially build wise provides tangle free experience fitting good opinion mi earphone much better fitting overall good product',\n",
       " 'worth money quite well product think much go best budget earphone using last week still problem good gaming well music liked product packaging satisfied',\n",
       " 'classy product superb design good range worth every penny like feel great get like volume n feature range thank u flipkart',\n",
       " 'wonderful yeah let come point really want decent earphone listening song watching movie lecture etc one build quality awesome doubt sound quality excellent looking price tag base amazing u get amazed listening last consider price point really deal maker go',\n",
       " 'good review day use got rupee base high u like base go like soft sound otherwise ok ok u put ear u able listen sound outside environment even volume low sound quality good using realme pro problem earphone like l shaped jack missing',\n",
       " 'excellent almost month buying headphone writing review listening music headphone using jbl headphone exactly remember price believe headphone really good case bass maintaining sound quality max level volume realme headset slightly better jbl feel comfortable jbl assure one best headphone p read',\n",
       " 'wow awesome product realme build quality good promising sound quality also decent budget earphone packaging realme also admirable',\n",
       " 'best market brilliant sound quality build quality looking budget headphone go cable good quality dont get tangled easily unlike others bass excellent good overall sound quality used senheiser cx earlier comparing realme also competitive sound quality headphone good microphone noise cancellation go',\n",
       " 'fabulous great set earbuds price nicely build sund quality also way better price exceypurchase budget eartips ar blessing pain fall ear absolutely great purchase',\n",
       " 'good choice short overall quality mi earphone r cx r tip different size cap available package l use cap adjust low mids high want everything earphone use default cap e size need bass use size l cap low bass high trouble clear vocal use size cap one thing doubt best earphone pr read',\n",
       " 'worth money surpass everything expect sub r earphone one thing worth mentioning earbuds extremely comfortable wear wear earphone whole day without feeling discomfort use extra earbuds provided realme headphone',\n",
       " 'great product believe close eye buy bass good sound quality excellent best gameing price range specially pubg lover music experience satisfied love delivery hour flipcart',\n",
       " 'really nice price range best wired headphone though expected bass little better okay sound quality smooth great headphone pop rock remix dj also get extra pair bud different size volume control useful though magnetic feature helped lot summarizing pretty great headphone low price definitely suggest buy',\n",
       " 'awesome best earphone hai sound good bass awesome built quality excellent nice earphone loved thank realme',\n",
       " 'highly recommended nice earphone good bass treble comfort ear wire quality good nice product',\n",
       " 'wow nice earphone using product since month nothing happen nice earphone want take hard build quality nice quality sound go love earphone',\n",
       " 'good product packaging nice earphone beautiful design sound quality sharp hearing sufi type dj base type song best best smooth soft song also best phone call',\n",
       " 'delightful awesome price quality good bass well noise cancellation well perform',\n",
       " 'delightful overall wonderful product sound amazing mike problem call design also great wire quality also good',\n",
       " 'terrific purchase sound quality good bass boost much good exceptation excellent good product specially thanks bud',\n",
       " 'perfect product super duper hit veri nice product good delivery love realme',\n",
       " 'wonderful delivery fast le hr got delivered build quality top sound quality decent everything great quite impressed best earphone like orange color',\n",
       " 'mind blowing purchase best headphone market present feel price r little bit high another headphone like boult also good come r get volume button whatever fully satisfied headphone',\n",
       " 'really nice nice quality nice baa nice sound love',\n",
       " 'fabulous honest review using headset month must say get headset price point bass awesome mids low fine work pubg perfectly comfortable wear hour without problem audio quality great considering price one thing noise cancellation really appreciable considering point guy u read',\n",
       " 'classy product good ear phone ever seen best one excellent build also excellent bass awesome',\n",
       " 'great product nice product great build quality extra ordinary bass love product best pubg enjoying music call aalso best segment happy choose product',\n",
       " 'awesome love bass really work plus inbuilt n structure strong enough wont get torn easily week n run smoothly loved',\n",
       " 'simply awesome using antaudio wave boat baseheads realme earphone quite good compared two earphone iam asked chose one would chose realme bud one love listen music volume best bass would suggest buy boat baseheads',\n",
       " 'must buy awesome quality earphone price segment first design build quality awesome call headphone mic crystal clear sound quality bass awesome confused boat bassheads realme bud used would say pay rupee blindly go realme bud give premium earphone quality sound',\n",
       " 'worth every penny best available earphone budget segment highly recommended purpose either listening song playing game like pubg freefire call duty etc would love l shape jack upcoming realme earphone gold plated finishing',\n",
       " 'super ultra genuin honest review built quality excellent sound quality good one give price best every utuber said earphone high bass unfortunately true however comparison wise may better price range truth bass avrage real bass u imagine like apple basic earpods company even k k priced earphone cant give much bass u r bass lover like go read',\n",
       " 'worth every penny good product budget good gaming also bass boosted nice listen',\n",
       " 'really nice crisp clear mid good melody song ok adjustable low treble sound bass boosted depth feel punch r star deal',\n",
       " 'awesome best product filpkart earphone best value money outstanding performance powerful bass clear audio awesome product',\n",
       " 'simply awesome sound quality awesome suitable realme phone get support asus handset thank much value money product u r using realme handset go wired headset blindly',\n",
       " 'decent product know people give star product product great bass acceptable treble improved build quality great overall average product',\n",
       " 'awesome head phone good searching headphone pubg hear foot step clearly important sound pubg want headphone music video go sound quality good build quality awesome',\n",
       " 'terrific purchase awesome product r purchase friend also happy love listen soung using headset u also experience',\n",
       " 'wonderful good earphone price range love good sound experience recommend',\n",
       " 'best market wow superb quality service package nice thanks flipkart fast delivery happy',\n",
       " 'super great pair earphone range term sound quality really surprising sound quality sound quality range surprising bass boosted enhanced well midtones treble crisp better would like complain much pricing overall sound wise amazing product microphone quality party problem call said voice clear built quality braided cable read',\n",
       " 'excellent earphone worth every penny u get best sound quality amazing bass well material used also quite good overall excellent product',\n",
       " 'mind blowing purchase every thing good except sound clarity sound le sharp dull sound example playing game like pubg gun sound footstep clear compare price point sound low identify location clearly',\n",
       " 'nice product ear phone really good problem mic first proper voice heard receiver call later going lower lower last thing l shaped microphone jack gold plating overall price product fair deal',\n",
       " 'mind blowing purchase first would like thanks flipkart within awesome delivery speed got delivered within hour paying earphone worth sound quality awesome bass department one better realme con headphone jack seems durable would l shape jack durability may increased think realme must improve wire quality good broken torn earphone lo read',\n",
       " 'mind blowing purchase good one fit well ear like kind music call would say great good',\n",
       " 'fabulous using realme bud last day really best product sound quality bass good clear tangle free wire fit comfortable ear value money happy used boat earphone heavy metal fall problem good bass compared boat realme bud nice u searching wired earphone u must try',\n",
       " 'delightful definitely satisfy expectation bass punchy sound clarity good enough build awesome bottons look like great clicky value money best headphone bass lover',\n",
       " 'terrific purchase really awesome sound quality also stylish come nominal price think correct choice bass tribal perfect',\n",
       " 'nice product best gamers writing review day use soft bass get headache voice clarity wonderful background noise cancellation great crisp sound quality wire lengthy bass could better price range',\n",
       " 'good choice wow really nice hear music good bass really like realme product always super nice',\n",
       " 'nice product nice sound quality good grip ear bass lil bit according love soft music perfect',\n",
       " 'nice product phone sound low think phone folt bcoz phone work good like',\n",
       " 'wow good sound effect really nice bult quality sound worth price rang super bult sound',\n",
       " 'wonderful wonderful headphone happy purchase sound quality superb design also attractive thanks realme thanks flipkart',\n",
       " 'awesome base good premium ear phone price good sound quality good design awsome using ear upto month duralibilty also good',\n",
       " 'good quality product first great service flipkart amidst lockdown delivered package within day well coming review part skeptical product using jbl earphone last year eventually decided go trust guy amazed sound quality produced high mids low crisp add got enough bass although must say get loud played full capacity recommend use lower read',\n",
       " 'great product nice sound quality better expected best deal flipkart love product',\n",
       " 'perfect product really awesome headset used month super extream bass good sound better boat headset good value money love realme brand',\n",
       " 'value money w nderful awesome earphone suggest people take ear phone awe earphone music make peaceful wonderful one earphone good product',\n",
       " 'wow best earphone u look dont think option trust covered almost earphone budget best worth others market definitely',\n",
       " 'super awesome product loved sound quality impressed delivery doubt know whether one left right headphone would give star rating u buy',\n",
       " 'good quality product well good actually good thing like size earbuds lil bit feel heavy ear',\n",
       " 'good quality product yes quality voice yes cristal clear sound high miss low bass want say bass good big boom expect yes quality sound amazing',\n",
       " 'wonderful headset amazing quality good nd look wise awesome satisfy buy headset',\n",
       " 'value money excellent sound quality super bass nd clear sound love much',\n",
       " 'terrific purchase nice quality headset good microphone problem mike button feel good headset comfortable wear cable organiser good keep safe',\n",
       " 'worth money would like suggest everyone buy product coz one give clarity bass yes enough budget u go sennheiser budget good choice value money regret',\n",
       " 'awesome nice earphone sturdy build sound balanced easily best sub r range',\n",
       " 'mind blowing purchase wow fantastic experience earphone built quality awesome fully satisfied earphone built quality awesome sound quality super bass treble mid range good long comfortable cable love earphone',\n",
       " 'good choice riview month continues use bass quality good high mid low balanced well microphone best seen ever good audio quality recording clear need hold close lip phone call overall would say get better next improved version definitely going purches highly recommended earpiece dont think go highly recommended',\n",
       " 'simply awesome mnts still face single issue earphone expected nd also satisfied piece nd u easily compare r earphone actually looking buy best earphone r thank god saved money sound quality build quality bass noise cancellation',\n",
       " 'brilliant woo hoooo feel music wow amazing thank flipkart',\n",
       " 'good nice product good sound would prefer boat earphone better bass overall sound quality liked build quality magnetic eartips handy want good bass sound quality go boat earphone go',\n",
       " 'delightful sound quality much better compare someone bass enough hear turn one song protect ear conclusion sound beat needed little bit clarity',\n",
       " 'good great built quality recommended best buy trust musician drummer great sound quality bass treble',\n",
       " 'good quality product product amazing bass also good voacls perfect abd footstep enemy pubg also heard clearly overall best earphone',\n",
       " 'classy product great build quality rich sound quality like premium headphone loved',\n",
       " 'wow good earphone sound quality good bass perfect good earphone thanks flipkart',\n",
       " 'worth every penny supebb nice comfortable well designed loved',\n",
       " 'decent price range overall decent product good sound low volume button need hard pressed reduce volume else work normal push disappointing thing friend experienced feb returned sound quality good call earbuds perfect fit review based single day usage',\n",
       " 'must buy nice built earphone bass average sound quality good comparison mi earphone best go want buy range',\n",
       " 'great product realme make good earphone mi everything nice design build bass great bass lover know durability',\n",
       " 'worth every penny great sound great bass awesome product also came good package quality fast delivery good experience flipkart always',\n",
       " 'terrific purchase package slightly damped damage product must say earphone quiet good enough price range even odered one best friend hia bday gift hee i music enthusias thats say like alot bcoz really good amount bass sound also clear liked price earphone bad option review i day usgae use update review whe read',\n",
       " 'pretty good base amazing sound quality good best satisfied price',\n",
       " 'brilliant built quality superb sound problem mids low arent great however vol youll enjoy bass really well know sound treble vocal aoft clear enough budget bay thinking bass centric ear headphone u go',\n",
       " 'best market sound quality earphone nice easy wear nice product realme',\n",
       " 'classy product awesome product love build quality top notch got pure bass sound also loud noise cancellation work greatly sound quality mindblowing',\n",
       " 'nice product bass awosame sound clear high volume beld qwlty nice suggest ki ap ye earphone khridoo range ye earphone bhut mst mere pas realme hmesa achhe produced bugd product nikal ti love realme love flip cart thank flipcart',\n",
       " 'great product amazing built quality unique color month since got mine despite regular harsh use found fault life saver bluetooth device die nice product amazing built quality',\n",
       " 'fabulous good sound quality good base also best playing game like pubg tpp fpp game good build quality always say use roughly anything expensive want best sound quality build go realme user definitely go headphone',\n",
       " 'wow good product im satisfied one best pubg foot step clear music quality superb bass good premium packing best quality product ever love realme',\n",
       " 'good earing quality well good im satisfied jack durable supportive sometimes feel get tampered bent',\n",
       " 'best market good product great bass quality bought pubg nd sound quality op also jack prtotectable happy',\n",
       " 'best market first good packing flipkart realme nice earphone enjoying music bass recommend',\n",
       " 'really nice sound quality good bass fantastic colour attractive cable pretty good cable organiser helpfull',\n",
       " 'perfect product special thanks realme product crystal clear sound superb bass thanks mm bass driver bass lover really good earphone also good others really good choice quality wire really good quality microphone excellent design awesome feedback button really really good thanks realme also thanks flipkart fastest delivery',\n",
       " 'best market worth every penny earphone best k budget bass much great bad either good high awesome mids loud clear verdict searching earphone k one',\n",
       " 'classy product awesome sound clarity nice bass sound like jbl signature sound',\n",
       " 'fabulous excellent earphone sound stage bass amazing feel like premium budget earphone must buy u expect good earphone great sound excellent punchy bass listeningi feel like live concernt',\n",
       " 'best market nice product buy k beautiful design long good quality chord sound quality excellent opinion buy realme bud rather realme bud',\n",
       " 'value money bass heavy good playing pubg mobile edm lover love earphone classical vocal listener like deep bass effect overall star better mi headphone',\n",
       " 'classy product wid budget im happy best earphone great feature quality im njoying music keep u updated month usage update best earphone bass lover amazing bass quality loved',\n",
       " 'simply awesome best headphone price range specially u realme mobile phone loved superb game also like pubg cod overall loved give headache continue long use hr',\n",
       " 'wonderful adbhut earphone haiin one best best earphone segment price range product love product thanks realme',\n",
       " 'must buy best earphone price fact compete earphone k plus range awesome overall sound bass always present overwhelming always mix treat metal trance spotify prime music built quality also good along look one issue jack straight bend thus sometimes fit properly best option better jbl boat',\n",
       " 'excellent sound extremely good price even sound better headphone r range bass amazing also extremely durable water resistant would say washing machine still work fine overall amazing product',\n",
       " 'worth money sound quality really good vocal good claim gr bass personally feel boat basshead better deal due better bass sound quality similar cheaper say go boat',\n",
       " 'terrific purchase good product price paid sound quality perfect bass perfect worth price strong durable wire satisfied product',\n",
       " 'delightful nice deal flipkart good earphone great bass nd genuine sound quality must buy yr budget',\n",
       " 'wonderful one best earphone used good quality wise superb',\n",
       " 'excellent outstanding earphone definitely better xiaomi jbl boat sennheiser etc wire quality excellent braided sound quality phenomenal price k galaxy bud almost similar sound quality',\n",
       " 'fabulous loved one price guess get better deal build quality great',\n",
       " 'super punchier sound experience brand available price segment even whose price upto r say best masterpiece could buy ear go blindly budget r even r soon update experience week two regarding build quality otherthings could fetch also thanks delivery person cooperative covid era safety measure wit read',\n",
       " 'brilliant amazing sound reproduction perfect balance bass clear mids high low love amazed bud feel better dan jbl c si one piston fit using long time blown wid performance',\n",
       " 'excellent really amazing sound monster type bass perfect pubg daily use would really love thank flipkart one day delivery point time',\n",
       " 'good quality product great experience lower volume crystal clear sound good bass want bass increase low genuinely headphone best go fot',\n",
       " 'really nice great product price range good overall sound quality go u tight budget worth',\n",
       " 'worth every penny best earphone within price range pro best design balanced bass treble excellent nice build finish con gold plated jack jack titled design overall according price point best earphone get',\n",
       " 'good sound quality best compatible realme phone average asus build quality superior previous realme bud average earphone high price cannot listen song time sound punch ear may cause pain nokia basic earphone better would honestly suggest buy realme phone',\n",
       " 'best market realme bud really great product price point realme tunned really well bass treble vocal equal proportion bang ear high volume thumping bass creal vocal go guy price point nothing better',\n",
       " 'classy product previously using boat rockerz compare earphone one bass amazing like boat lightweight compare boat sound quality amazing clear tribble amazing magnetic feature also cool build quality fine worth buy',\n",
       " 'worth every penny tried viewing review last totally unexpected good sound quality soft bud u wear long hour best range good one go',\n",
       " 'wow nice headphone range especially bass awsm design wire type also awsm finally value money packing delivery also nice delivery person behaviour also calm nice thank flipkart seller',\n",
       " 'good choice realme bud problem month use sound output becomes dull could better earphone good voice crispy bass good provide surround sound fire voice directly feel surround sound love boosted bass direct sound go build quality also better want balanced sound surround sound go samsung ehs price range would better option bcoz realm read',\n",
       " 'wonderful best buy budget range one looking build quality sound quality best everything great',\n",
       " 'best market first thank u flipkart delivering product difficult time happy fast delivery product talk earphone earphone one best earphone ever experienced build quality sound quality design extremely well price recommend every one buy earphone fond music',\n",
       " 'good pretty good price point strong satisfied deliver true sound like apple wired earpod',\n",
       " 'good choice bass comming wht im expected desgine wise good bt improve bass quality price un happy',\n",
       " 'good choice smooth solid sound quality deep bass nice soft clear average sound high low cable upto rank soft bud genuine look long cable stainless steel jack price economic',\n",
       " 'classy product main highlight bass offered price point surprised bass actually strong punchy price range even mids high good bass amazing bass definitely better skull candy jbl boat earphone',\n",
       " 'value money good product value money ordered earphone something writing earphone good built quality bass nice sound quality average use earphone thing analyse sound loaded range r good best option range one thing month warranty le time overall good range repeat earphone good range thankful flipk read',\n",
       " 'wonderful good product branded feel use band adjust length one covering wire got pair bud use size ear hole realy recommending noise disturbance outside insert ear look like standard brand anyone buy without doubt thank realme thank flipcart quality product iam giving',\n",
       " 'nice product best budget class go steal build quality best sound clearity good better mi earphone k',\n",
       " 'delightful everything superb except mic mic work well stick mouth possible time like everything one hand holding mic one equivalent holding phone also playing game like pubg hold mic near mouth speaking properly think going buy also please change design jack hard plug phone cover whereas oth read',\n",
       " 'classy product guy hold let explain awesome earphone best ever experienced best sound bass quality loved lovely sweet sound using rog dts sound go',\n",
       " 'highly recommended bought green color exactly shown flipkart anyways sound quality great price point good control button thank flipkart received delivery day awesome service pandemic situation hat',\n",
       " 'value money used lot headphone related electric musical instrument basic knowledge headphone music headphone pretty good term price best quality awesome vocal clear little bit issue headphone headphone come gold plated headphone jack found little bit problem device connect headphone also l shape one thing want ad read',\n",
       " 'fabulous best earphone used also used sony jbl boat realme bud best one bass excellent prefer buy excellent product realme loved much',\n",
       " 'brilliant best inr bass really good even overall sound quality great used mi earphone nothing extraordinary mi earphone break month also bass low vocal decent realme bud richer bass vocal even realme bud ligher cable also strong tangle free go budget inr',\n",
       " 'worth every penny first green colour awesome looking premium sound quality price range one defeat bass fantastic u fall love trust expectation go highly recommended u thought ur budget low u go better earphone k get cable organizer bass trouble side nicely balanced soo comfortable wear long time',\n",
       " 'wow really cool amazing better gaming like pubg price range',\n",
       " 'really nice build quality awesome think us kevlar materal bottom rubber top awesome comfortable newly using earphone sound awesome clear bass',\n",
       " 'best market awesome headphone good sound nd realy awesome bass quality price range love flipkart nd realme',\n",
       " 'terrific pro sound good clear vocal clear built quality simply awesome paused play remote button volume button headphone wire good bikers bass super earphone quality good mic good wired quality best cable organiser useful u con l shape jack gold plated',\n",
       " 'wow first realme product using mi headphone satisfied product bass lover decided buy one pro sound quality like sound quality best bass good bass sound quality play pubg lot bought one disappoint design design good enough different material used overall good l shaped connector conventional type one read',\n",
       " 'fair good earphone around metre bass good like realme bud sound high comparison',\n",
       " 'must buy nice product good sound quality totality love product satisfied product',\n",
       " 'mind blowing purchase wowsome product realme trusted brand surprised sound quality thumping bass would ignoring bluetooth headphone long time even best pubg thank realme',\n",
       " 'must buy best market price point good quality bass bass loud easily use play pubg like game easily hear left right footstep wire tangle free strong built quality feel comfortable long time use low budget go regret',\n",
       " 'nice product earphone really good love build quality top bottom disign really appreciate',\n",
       " 'awesome already realme user better realme famous product amazing like realme bud think buy specification given absolutely correct',\n",
       " 'terrific good compare mi r earphone good bass sound mi better sound quality le sound production cheaper price soo definitely recommend',\n",
       " 'value money giving star treble component earphone little low compared dual driver earphone rest thing like volume bass comfort mark recommended',\n",
       " 'good n love using last month n found issue sound quality bass balanced perfect design amazing hear clear sound bit bit value money indeed',\n",
       " 'excellent much reserch decide buy bud worth every penny awesome bass music nice pubg',\n",
       " 'good quality product buck go tight budget want good bass clear audio go crispness ie treble good sound overall little better buck one piston fit braided cable till top headphone jack degree noob work jack still construction far better sennheiser sony etc new version come wait till news save agony digging read',\n",
       " 'simply awesome super look cool sound quality love product thank flipkart',\n",
       " 'simply awesome comfort wearing sound quality really awesome build quality excellent delivery super fast even covid situation thanks flipkart love haryana',\n",
       " 'mind blowing purchase awesome product realme great base great sound quality highly recommend',\n",
       " 'mind blowing purchase due lockdown buy offline believe awesome product balanced sound bass heavy person though wire organizer help safe keeping headset kudos realme',\n",
       " 'worth every penny best wired head phone ever reasonable price especially sound quality earphone really good base boosted headphone probably best ear phone ever seriously',\n",
       " 'super product nice quality also fairly good compared price product go',\n",
       " 'excellent would like give sound quality star bass loudness earpiece durability best housing made mettle wire fabricated jack separation cord earpiece cord made good quality rubber say touching even working perfectly shocked water occasionally thats done purpose accident happened cause forget pocket washed cloth ear comfort read',\n",
       " 'value money nice headset find rubber tie strip bit annoying using helpful time keeping aside depends length wire pretty good sound quality good price range',\n",
       " 'fabulous great quality bought based review thank genuine review really good price instead paying price one month',\n",
       " 'fabulous nice airphone design awesome sound quality good bass excellent',\n",
       " 'value money feel like one best earphone price range feel comfortable magnetic tip braided cable many cool earphone range',\n",
       " 'wonderful awesome sound quality crystal clear voice recorded musical instrument received today faster delivery flipkart service make amazing',\n",
       " 'brilliant super value product buy ideal gaming month review pro punchy bass sound quality excellent build quality con ideal gaming due heavy bass l shaped mm jack',\n",
       " 'good quality product good quality used jbl headphone problem jbl wire quality wire quality good sound quality good better jbl best buy price r definitely go',\n",
       " 'super awesome earphone sound quality outstanding love bass superb',\n",
       " 'highly recommended mind blowing purchase important perfect quality good bass quality good build quality budget earphone realme bud amazing cargo thanks realme',\n",
       " 'worth money using headphone week build decent wire length good wire quality good control volume well pause play headphone punchy bass super bass heavy mids low decent well overall great vfm headfone',\n",
       " 'worth every penny bass vocal low bass lover one like vocal personally vocal low enjoy rap bcoz vocal also call quality good listen opposite person quite clearly mic decent overall value money music call communication',\n",
       " 'mind blowing purchase really happy price product buy without even checking brand price point really happy apple user used apple earphone term base mids high realme bud similar apple earphone apple similar apple price matter rupee apple earphone really costly price point great mic quality apple really good without doubt go read',\n",
       " 'simply awesome nice earphone bass sound quality good untangled wire design also nice overall much satisfied realme headphone',\n",
       " 'wonderful awesome product price range nice fitting walking sound quality awesome better boat boat give',\n",
       " 'classy product awesome product nice earphone sound quality nice product quality nice product really different beautiful',\n",
       " 'great product good headset much better mi basic realme bud build quality best recommended',\n",
       " 'best market normal bass missing high dynamic driver bass treble middle quite clear overall u get good clear n balanced vocal build quality magnetic bud well',\n",
       " 'really nice sound quality nice bass much fun even song effect support expecting otherwise quality good',\n",
       " 'excellent good design really look nice sound quality good enough bass awesome satisfied product',\n",
       " 'pretty good nice product play next setting also available perfect deserve star rating',\n",
       " 'pretty good first thing first impressed sound quite good amazing built price magnetic clasp three button remote metal shell earbud construction braided cable plus point built punchy bass clear high vast soundstage clear sound make sound pleasant con two thing lacking earphone considering price absence l shaped cable ii mids vocal good great cable manager also help keeping read',\n",
       " 'pretty good good headset original product used vivo zebronic sony sumsung range bt truly better delivery every fast thanks flip kart',\n",
       " 'good quality product awesome clarity fair bass overall nice earphone range',\n",
       " 'excellent one best earphone ever use durable strong suggest everyone buy earphone guy buy earphone without issue',\n",
       " 'mind blowing purchase good product good sound quality base want buy earphone purchase enjoy music good sound',\n",
       " 'mind blowing purchase great sound quality wire quality awesome great product fast delivered',\n",
       " 'mind blowing purchase best earphone ever price bass awesome listen song low volume feel music pubg lover amazing listen every single noice enemy recommend',\n",
       " 'terrific awesome product love good sound good bass',\n",
       " 'super absolutely great product realme best price buy without doubt awesome call quality crisp sound great bass loud music etc made absolutely perfect',\n",
       " 'perfect product hlo guy name saipintu telling uh one fev one awsome earphone price segment getting one definitely variable using day earphone superb amount base comfort ear awsome definetly buy one superb awsome earphone',\n",
       " 'worth every penny edited review month heavy usage heavy sense using hour day still working perfect also build quality awesome damage yet fully satisfied product',\n",
       " 'must buy amazing sound quality look wise superb wire good',\n",
       " 'value money earphone good design build quality good switched jbl disappointed invested would get really time better quality jbl benefit build quality would really last long',\n",
       " 'fabulous blv best product tho price range blindly go find better product price range totally awesome product',\n",
       " 'brilliant earphone good awsome liked headphone lot good bass sound quality',\n",
       " 'highly recommended flipcard good company fast delivery packing easy return etc loved flipcard service give star',\n",
       " 'really nice awesome quality realme provide quality headset awesome base awesome audio ouput enjoy music',\n",
       " 'wonderful good product price special unique thing magnetic end bud tag tie wire something special center button volume butte sleek price one good choice bass good ear piece damaging ear',\n",
       " 'terrific purchase nice fit right le annoying ear used longer time jack gold plated bent overall good little high priced editing review monthes use still work flawless n amazing love bud u afford good sound u go fr',\n",
       " 'wonderful best quality biggest value money using realme x dolby mode use head phone best sound quality bass really amazing product',\n",
       " 'delightful really amazing sound quality perfectly alright iam pubg player better option help listen footstep sound enemy pubg',\n",
       " 'nice product eager check earphone got writing review month usage pro build quality good wire braided fibre think earphone splitting point jack wire individual earphone also built tough material sound quality good price bought compared product offer bass good medium volume really good earphone price range read',\n",
       " 'fabulous review week used mi earphone loved one damaged easily work month ordered impressed quality bass good loved sound quality awesome',\n",
       " 'mind blowing purchase using earphone day realme x work perfectly fine good sound quality built quality also good specially wire love holding strap useful',\n",
       " 'fabulous realme bud absolutely best earphone search go bought choice favorite earphone realme bud design build quality good sound quality good recommend bought',\n",
       " 'brilliant realme proved worth classy headset awesome design well good build quality',\n",
       " 'terrific purchase excellent performance range super quality sound perfect realme phone like hometheatre best product price go value money praise vasool',\n",
       " 'good good bass meant earphone best realme bud provide decent performance loved built quality',\n",
       " 'awesome writing review day using earphone experience point note sound quality better sony mdr bass quality little better others handy use soft material price little high compared boat earphone',\n",
       " 'brilliant wow surprised used headphone voice awesome delivery fast e kart executive product packing also good happy say product totally value money',\n",
       " 'worth money great product price range lroduct feel robust good base mid tone seems flat best buy price seagment color also trendy',\n",
       " 'wonderful awesome product good bass clear sound thnku realme good product',\n",
       " 'good surround quality ok good price worth priority build quality bass priority surround sound medium bass go jbl c si realme earbuds gaming gaming always prefer boat rockerz headphone sennheiser cx using last year bud got lost buy new one dolby atmos support smartphone need good build quality realme bud else b read',\n",
       " 'simply awesome sound quality good compared branded headset price range cable organizer useful build quality amazing',\n",
       " 'fabulous good product build quality awesome considering price bass great good sound quality something never find price segment earphone absolutely loved',\n",
       " 'perfect product product promising price range sound awesome crisp clear bass surround effect strong wire magnetic earphone give perfect sound tweaking dolby option one word loved definitely advise people go without hesitation liked mid range jbl earphone',\n",
       " 'delightful everything perfect except ear fitting small ear tip r going ear fitting might lil better value money product sound quality awsome go',\n",
       " 'good choice sound quality quite good used mi basic expected detail bass much difference mic work really good headphone could sold r recomend boat worth money',\n",
       " 'wonderful average product right ear headset work calling also nd person hear sound clearly talking overall good listening audio video good calling',\n",
       " 'excellent best earphone used definitely better boat n great thing liked mic jst superb',\n",
       " 'good look good fit good sound clarity clear nice except jack fit tight gold one',\n",
       " 'nice product really nice product nice sound quality nice bass jbl easily fit logo realme get scratched magnet case realme better design quality rest nice product',\n",
       " 'wow using earphone past one week sound quality great base lover love earphone half cable braided expect realme next generation earphone whole earphone get braided cable',\n",
       " 'excellent best earphone price range good sound quality awesome bass magnet useful carrying overall happy',\n",
       " 'excellent wow amazing mean wish give star sound quality good noise cancellation super far better boat',\n",
       " 'fabulous really mind blowing product always afraid earphone sold online one better choose finally decided buy one based recommendation plus review let honest product far better good brand compared senhieser mean earphone really great great bass crystal clear sound think much buy',\n",
       " 'wonderful sound quality good price good quality bud mic good package safe delivery flipkart earphone best value money compare brand feature satisfied',\n",
       " 'really nice good bass looking experience worth otherwise amazing sound quality bass',\n",
       " 'nice product best budget earphone ever love used almost month wow comfortable lite bass like boom boom worth believe guy',\n",
       " 'classy product comfortable ear well sound soft bass hurt ear best making realme ever became fan',\n",
       " 'best market explain word outstanding thank flipkart faster delivery day without compare go',\n",
       " 'nice product know benefit yes dear reader talking must say earphone best term sound built loudness rate sound u definitely find loud bt tuned straight u feel lack crisp sound come instrument price good u go expect unique crystal sound distinguish vocal mettalic bass y bass review read',\n",
       " 'super bass best k budget segment overall sound quality vocal could improved hope bud definitely recommend want earphone k kudos realme',\n",
       " 'value money bass good bud quality also awesome audio output upto mark game like pubg audio output satisfactory otherwise overall quality product good',\n",
       " 'worth money earphone good bass lover sound quality also nice price point listen full volume mni get little head paining',\n",
       " 'classy product nice sound quality price design also awesome best thing one cable organizer nd one magnet bud two thing helpful',\n",
       " 'mind blowing purchase best ear phone sound quality good base clear lesen best earphone',\n",
       " 'pretty good bass super talking call voice clear crispy lookiwise design good fit ear expected slip ear',\n",
       " 'perfect product good earphone better mi earphone mi basic wired earphone much improve come range sound thing told body expect much bass earphone headphone',\n",
       " 'must buy value money sound quality awesome especially quality bass fabulous also bilt quality good',\n",
       " 'simply awesome awesome product boat user using headphone bass much better boat bass lover go',\n",
       " 'nice product earphone good build quality good sound flipkart send used earphone seal company product preopend innerpacking extra eartips also open feel used someone decrease faith flipkart',\n",
       " 'wonderful awesome beautiful build quality nd magnificent bass elegant color combination best market',\n",
       " 'super awesome earphone price range get everything expect good earphone balanced sound quality powerful bass feel bit heavy ear',\n",
       " 'terrific amazing product worth every penny get better earbuds price braided wire give protection damage last longer sure thank flipkart',\n",
       " 'must buy one day bought say perfect pubg gaming well music surround sound good easily find enemy pubg sound quality music perfect premium',\n",
       " 'good quality product decent sound quality great build quality honest price range thing one best',\n",
       " 'fabulous love phone awesome best pubg awesome bass awesome',\n",
       " 'classy product awesome real bass sound quality really loved better boat headset u hear song hour creates head ache like boat u got plan buy headset excellent quality headset go buy without hesitation disadvantage l shaped jack gold plated jack',\n",
       " 'super awesome sound quality faadu bass loving wow happy',\n",
       " 'good choice biuld quality earphone doubt awesome look quite premium sound also decent go depth review find bass little low treble also good overall earphone good really need best sound price ho redmi earphone',\n",
       " 'best market super fast delivery next day best packing best product thanks much',\n",
       " 'simply awesome cable feel premium durable sound mark bass good magnetic tip good daily use cable organizer handy daily use volume rocker also helpful',\n",
       " 'good choice earphone really good amazing sound quality one problem facing would support iphone mean say button work',\n",
       " 'loved thanks flipkart delivered beautiful earphone day love earphone bass loving guy peice beauty got wanted thanks realme',\n",
       " 'brilliant work fine even percent volume base treble great loudness even percentage magnetic earbuds fancy good wire braided good material half wire half good quality great overall good headset good sound result flipkart assured fast delivery mic get problem function validity expires still audio good never trust mic long term use',\n",
       " 'best market work nice supper fast deliver sound quality good',\n",
       " 'wow immaculate build quality soundscape realme truly hit sweet spot well balanced everything end wanna say one thing look good sound good kudos realme one',\n",
       " 'pretty good think value money better boat rich bass course better build quality cx jbl c compared lack smoothness vocal clarity little bit mids high bass really good u want pure sound quality suggest u go jbl c much smoothness orginality u r tight budget want rich bass average sound quality suggest u go blindly worth buck minor read',\n",
       " 'brilliant immersive experience head phone listen music feel like sitting live show build quality best sound quality clear purchased best price',\n",
       " 'awesome amazing bass tried many earphone really amazing value money ear bud fit ear give comfortable feel wire also good flexible must buy product',\n",
       " 'excellent awesome earbuds prize range sound quality good mic clarity perfect design premium love green color',\n",
       " 'mind blowing purchase best realme phone good gaming experience sound quality bass good giving high clear bass build quality nice etc packing nice giving premium feel good prodect especially realme mobile like buy',\n",
       " 'nice product worth product sound really sweet bass little disappointed previously bought boat headset compered product little better coming bass quality boat better',\n",
       " 'simply awesome airphone vry nice best sound good wire best quality',\n",
       " 'must buy one best delivery flipkart keep best product last one year skullcandy big fan pubg player suitable want move jpl feel bad one month wasted asked many people realme told good product best life finally feel moment correct timing delivery good respect plus member also one thing last year flipkart customer love say u guy k read',\n",
       " 'good best earphone r really worth good mid tone bass one best build quality wire earphone ever seen go',\n",
       " 'wow everything good bass mark bass good best edit using month left side earphone stopped working',\n",
       " 'super believe say best earphone r bass perfectly superb mixture treble surround sound love whole new experience even bass head lover would love close ur eye buy build quality also best part value money superb earphone',\n",
       " 'must buy mind blowing purchase loved jbl c si sound vibrant strong cable look wise awesome',\n",
       " 'must buy best ever earphone ever used lot research finally came conclusion buy sound quality pretty nice bass make charming',\n",
       " 'highly recommended fast delivery nd product also good like realme brand product amazing sound quality recommend buy earphone',\n",
       " 'simply awesome bought today writing review using till night bass deep clear vocal clear loud enough noise cancellation amazing overall good deal r felt magnet wired earphone use dont think strap provided wrap earphone going much use u remove strap since rubbered one problem go grab ur looking best earphone bought pair e read',\n",
       " 'fabulous best earphone enhanced bass experience built quality also good earpeace bit large come ear easily accidentally hit ur hand anything say music experience good actual price try n get sale else mi earphone aslo good price',\n",
       " 'fabulous best ever wired headset ever bought bass awesome sound quality awesome built quality also top notch must terrific earphone best pubg produce enemy footstep sound loud good quality must buy pubg',\n",
       " 'awesome nice product good sound quality design good worth buy price',\n",
       " 'excellent one best earphone used entire life premium quality bass good vocal also cable designed tangle free extremely satisfied purchase also got day delivery product',\n",
       " 'fair realme ear bud design good sound quality excellent price good good u also go boat earbuds metallic finishing',\n",
       " 'worth money review week usage design good wish upper wire quality lower one sound quality good great bass average vocal clear good use daily mostly call minute music hence good earphone r basehead',\n",
       " 'worth every penny great earphone super built quality great bass time realme done great job think buy make amazed',\n",
       " 'really nice earphone quite good cost little bit high otherwise good general use',\n",
       " 'super sound quality good design headphone comfortable like color happy get good voice headphone thank flipkart',\n",
       " 'great product nice sound nice earphone sweet sound',\n",
       " 'good quality product compared earphone price range pretty good base built quality expect much sound quality money better go others',\n",
       " 'great product nice product bought delivery time happy product using redmi note volume button earphone working properly month wire begin smell probably absorbing sweat moisture',\n",
       " 'nice ok ok ear bud good bass great sound quality seems entry level bud old mi ear phone using around r still better sound quality',\n",
       " 'really nice high volume sound clear bass excellent ear getting little bit warmer listing much longer period built quality awesome',\n",
       " 'delightful work well bass oriented one good casual listening balanced one working flawlessly build last decent headset',\n",
       " 'brilliant nice product realme making ever earphone nice sound quality like headed last one year using headed boat bought realme bud remember overheaded',\n",
       " 'awesome great bass promised clarity awesome build quality good cable seems tuff comfort great mic clear control neat perfect use spotify equaliser android bass boost app play eq get comfort sound also use high quality music setting app tried skullcandy boult boat one outperformed',\n",
       " 'awesome hand one best budget earphone design build outstand rubber wire near ear braided wire bottom strong jack clear microphone great microphone distance mouth even cable tie prevent tangle superb sound one loudest earphone used bass great well overall balanced sound get better within k price range yet',\n",
       " 'delightful osm fully impressed realme bud sound bass quality buit quality better price segment mm bass boster increse bass one thing notice realme bud sound broker working ovaral great product ever seen',\n",
       " 'really nice sound build quality great complaint quality connector established mm headphone jack careful removing phone might break honest god con faced otherwise pretty great earphone',\n",
       " 'worth money good loudest clearest sound range tribble little bit listen full volume bass excellent give best sound volume also loud clear loved',\n",
       " 'mind blowing purchase nice product good quality material good sound amazing bass one best one price segment good work realme good work flipkart fast delivery',\n",
       " 'good good product nice sound quality vocal trap mids high low good bass okay place needed punchy heavy fine',\n",
       " 'value money good earphone price bass okay vocal great treble also fine comfortable ear even long duration reason mic work use skype laptop work well phone earphone look good durable',\n",
       " 'worth every penny really good think want buy budget earphone try bass quality good wire literally nice also provide magnet impressive keep mind also chinese product',\n",
       " 'classy product best headphone must buy rich bass best sound price well job realme',\n",
       " 'classy product run battery sound bass clear affordable excellent product',\n",
       " 'really nice good best product good sound quality music song equal sound good comfort',\n",
       " 'terrific purchase superb quality bass awesome treble awesome n n awesome love realme brand flipkart fast delivery',\n",
       " 'wonderful good sound quality amazing sound base could one best earphone ever thanku flipkart',\n",
       " 'great product one best class one best class earphone mic extra ordinary build quality bass good well balanced sound quality along treble go u guy get disappointed yes big thump flipkart delivery quality',\n",
       " 'delightful awesome product perfect music lover amazing bass brought sale day unbeatable best earphone k',\n",
       " 'super nicely made realme good job better realme also inculde earphone mobile also oneplus phone bundle earphone oneplus never made effort bundling earphone phone past n present',\n",
       " 'classy product sound bass awesome love headphone new realme awesome lovely',\n",
       " 'wonderful good quality earphone build quality good sound clarity bit low high volume nice bass hope would improve sound clarity future',\n",
       " 'perfect product real bird made realme awesome problem using day say real bird buy realme would like thank ceo mr madhav sheth swachh nice job giving good quality product audio product also also using realme extra wish awesome product problem realme bird thank nice day',\n",
       " 'terrific purchase good totally reduce outside voice transfer clear voice overall good earphone thank realme type product',\n",
       " 'classy product good quality sound quality good like sooo much please use realme ear phone sooo nice thanks flipcart',\n",
       " 'wow nice earphone better boat previously used baot earphone far better boat',\n",
       " 'wonderful best earphone amount sound quality satisfying bass literally awesome overall excellent earphone',\n",
       " 'fair like hyped first time ear phone buyer may like used sony sennheiser need give second thought bass punch quality mid high good tried realme x dolby atmos',\n",
       " 'simply awesome absolutely best durable ear phone audio quality comfort beyond expectation happy earphone',\n",
       " 'best market happy got earbuds classy look product bass good sound quality awesome pure real bass',\n",
       " 'brilliant great product amazing performance fast prompt delivery flipkart bass amazing earphone look sturdy totally satisfied price range',\n",
       " 'wow best earphone go better mi boat earphone wire earphone good using since month',\n",
       " 'highly recommended good bass good stability ear good sound quality cable organiser also great use',\n",
       " 'must buy best earphone used far previous earphone jbl better say bass awesome need turn dolby extra feature phone design build quality superb one minor problem watching movie vocal clear part coz heavy bass otherwise superb go famous brand realme great job well done',\n",
       " 'great product one product reasonable price built quality osm sound quality osm totally best product price worth buy product',\n",
       " 'wonderful best class perhaps best ever earphone ever planning buy earphone within r probably recommend go believe regret go man look anything else yes go click buy button enjoy rich experience music',\n",
       " 'highly recommended nice quality nd bass clarity upgraded leaving product simply superb without second option take sound clarity good little upgrade done',\n",
       " 'pretty good great earphone price range bass best highly recommend looking earphone r range music note clearly audible built awesome value money product well done realme',\n",
       " 'brilliant definitely recommend others buy headphone lot improvement happened ear bud previous one definitely love design bass effect equivalent r earphone thank realme great job satisfy customer',\n",
       " 'simply awesome overall design good would good whole cable braided sound quality good bass punchy good people love medium bass good vocal would good price',\n",
       " 'perfect product headphone awesome luv recommend buy best price best quality',\n",
       " 'really nice bass good compared earphone range sound quality great liked button good quality thing missing l shaped jack cannot expect much price range',\n",
       " 'great product love earphone looking nice earphone music movie would best range best sound quality great build great work realme',\n",
       " 'simply awesome love product prize segment best voice quality best build quality fast delivery',\n",
       " 'worth every penny earphone really nice nice sound quality bass nice osm built quality like realme bud',\n",
       " 'mind blowing purchase amazing earphone ever used starting little bit confused earphone switched sony earphone using week experienced earbuds im happy bud great best durable',\n",
       " 'terrific earphone look amazing sound quality bass treble everything upto mark important feature build quality braided wire flexible easily breakable earphone fit snugly ear overall price r one could definately buy product',\n",
       " 'perfect product surely satisfy price range never expected headphone much good happy anyone looking buy earphone close eye buy',\n",
       " 'worth money sound quality headset good bass high low sweet spot vocal sound good quality wire good braded last longer',\n",
       " 'good choice plz note android device face problem increasing volume via earphone button moto one power increasing volume via earphone button google assistant popping everytime functionality working well think button compatible android also window total button functionality used best price boat earphone little loudness read',\n",
       " 'wow guy really fabulous earphone price range using past month hav say sound quality remarkable really really great bass quite impressive wheather buying pubg u definitely go ur phone support ultra sound otherwise recommend overall would give solid',\n",
       " 'good quality product best product price range love earphone damn bass nothing compete earphone go u love sure thank later',\n",
       " 'excellent totally love budget earphone realme brings real smile listening sound quality earphone noise cancellation bass quality fair enough short mark given earphone give',\n",
       " 'best market headphone totally amazing beat every headphone available market price tag buy close eye guranteed sound quality amazing excellent price range',\n",
       " 'best market good quality sounda clarity excellent bass powerful sound cant listen high volume loud overall good rating',\n",
       " 'good quality product must buy product want good sound quality style purpose go bluetooth earphone really nice product thank flipkart',\n",
       " 'decent product build quality good bass overpowered sound balanced sennhieser cx better option like balanced sound bass heavy cant hear mids properly love bass go want balanced sound go another earphone',\n",
       " 'mind blowing purchase awesome headphone love built quality love bass awesome package',\n",
       " 'mind blowing purchase superb bass awsm sound quality good u use calling purpose also wire quality also good price range',\n",
       " 'must buy awesome product perfect price super bass perfect sound quality love much',\n",
       " 'really nice realme bud really good earphone cable organizer trully best vocal improved bass excellent overall tha earphone best price',\n",
       " 'classy product one best earphone price range sound quality top class come point bass eopper boult bassloops talk overall sound quality design first boy class realme bud good earphone price range go',\n",
       " 'terrific best bass get around initially skeptical realme rating good customer review lured order one roughly day usage highly satisfied product sound quality sony mdr ex costed r bass realme beat get mm driver around highly recommend',\n",
       " 'job item got plethora rave review expect impress largely sadly realme bud except decent sound quality soundscape headset mediocre built quality durable easily last year guess earth hold ordinary soundin headset durable perhaps compatibility issue handset samsung series forget buying ca read',\n",
       " 'value money bass good better dan jbl earphone problem darins ur phone battery little fast dan jbl u get good sound fr dat',\n",
       " 'wonderful rugged earfone price segment completely satisfied wid earfone realme could provide whole braided cable worth every penny mentioned box bass superb vocal little bit low negligible rate half braided half polypropylene cable otherwise apart delivery time finally thanks flipkart',\n",
       " 'terrific purchase good price suggest jbl c si much better bass compared realme bud also tested earphone bass mivi thunder beat senhiser cx jbl c si realme bud term sound quality best best best senhiser cx beast also sale get mivi thunder beat r price thunder beat killing deal also bass lover mivi read',\n",
       " 'decent product good price better jbl ear phone price segment l like best pick',\n",
       " 'nice great bass average quality build quality superb durability le avarage st piece received faulty paining ear listening music long term fitting good better mi earphone',\n",
       " 'super pretty good loking headphone bass superb clarity also decent get mic volume button along play pause button single product definitely consider next buy',\n",
       " 'fabulous damn realme insane quality sound mean explain happy bass lover also soft music yes sound far better sony jbl sennheiser etc lastly would say mi big zero front realme right upgrade accessory',\n",
       " 'terrific purchase really awsome ear blast earphone brought boat headset day earlier satisfied realme beat boat worth money thank lot flipkart product want give star',\n",
       " 'decent product tese earphone good enough give good experience build quality good putting magnet behind earphone make sense also black pair headphone best option colour code bare good',\n",
       " 'worth money good sound quality build quality good price high black yellow colour look great green colour',\n",
       " 'good choice headphone good sound decent like boat jbl every decent headphone review say nothing extraordinary unique believe myth selling new product adding oriented review thanks flipkart quick delivery',\n",
       " 'nice product sound quality awesome clear senhizer compared senhizer difference clearity built quality good gold plated cord company improve rest quality senhizer sound clearity le senhizer bass equal senhizer biggest thing budget earphone extra ear bud',\n",
       " 'highly recommended know feel u find best product feel earphone build quality sound quality mic quality call everything top notch actually love beast',\n",
       " 'mind blowing purchase nice sound good basse good quality iam happy total mark',\n",
       " 'value money earphone steal bass outstanding good thing bass disturbing frequency mids high vocal clear enough say outstanding instrument seperation nice similar earphone price build quality excellent personally like yellow accent funky want earphone recommend go honor sound quality build average read',\n",
       " 'worth every penny nice thanks ekart boy super nice super special thanks ekart boy mukesh rathore',\n",
       " 'terrific good product price using boat earphone earlier better boat overall best product price point',\n",
       " 'simply awesome super se bhi uper super fast delivery super bass super sound nice product realme',\n",
       " 'excellent want good budget earphone earphone want buy good earphone decent prize bass sound clarity good overall rate product thing good back earphone got scratched frequently use magnet keep earphone organized got scratch within week otherwise good nice product',\n",
       " 'great product realme bud balanced high mids low sound frequency better mi basic earphone pure bass mi basic earphone realme bud also bass use bass booster',\n",
       " 'super week normal use say product awesome realme bud perfectly justify price sound bass built quality half wire kevlar coated p happy realme bud cable organizer one best product purchased flipkart',\n",
       " 'best market fest head phone realme good sound good bass worth many realme really good head phone',\n",
       " 'terrific purchase without single hesitation go best best get price bass top notch decent audio quality',\n",
       " 'terrific nice one go pure audio distortion comparitively low high volume situation feel better jbl',\n",
       " 'highly recommended best sound super best quality price thanks realme flipkart authentic delivery one word jst go',\n",
       " 'terrific nice one better quality better bass overall best great build quality',\n",
       " 'worth money bass good ant audio w boult loupe worth price recieving sharp clear vocal mind blowing beat',\n",
       " 'excellent super quality look wise good sound quality also good bud magnetic good future love',\n",
       " 'fabulous solid build good quality sound perfect fit ear almost good earphone buy',\n",
       " 'great product best budget earphone excellent bass build quality volume button wire organizer earphone many feature price point especially bass sturdy build quality worth every penny',\n",
       " 'terrific well good earphone sound bass superb price range comparing product good guy go straightly',\n",
       " 'highly recommended best headphone price segment love great design sound superb bass great product realme',\n",
       " 'nice product believe go boat earphone boat worth go realme bud awsome also good helpful playing pubg',\n",
       " 'classy product used realme bud good realme bud bass awesome recommend buy product prize',\n",
       " 'simply awesome pro sound quality bud bassy poweramp stupendous vocal perfect volume button quite useful build quality look good far let see much survive attractive packaging good fit ear easily feel like ear maybe best earphone used akg come samsung flagship con expected noice cancellation good though',\n",
       " 'delightful better realme bud bass clear high better u buy offline product check sound offline store near u prefect flipkart',\n",
       " 'really nice perfect one bought recently quite happy product loud sound super bass easily fit ear easy handle must go',\n",
       " 'excellent reviewing month sound quality amazing compare big brand like jbl sony believe u cant get better option rupee segment u basshead go blindly noise cancellation also amazing build quality amazing',\n",
       " 'simply awesome really nice product bass awesome loud boat vocal sound clear good price range',\n",
       " 'fabulous awesome product sound clarity good base also good',\n",
       " 'perfect product realme give best product reasonable price happy part realme phone realme bud',\n",
       " 'terrific nice month use',\n",
       " 'worth every penny great product price go would killer product',\n",
       " 'worth money like product',\n",
       " 'brilliant nice earphone price range got',\n",
       " 'super one',\n",
       " 'worth every penny mobile realme pro realme bud sound vera level r ok',\n",
       " 'super best earphone pubg player',\n",
       " 'hated received faulty one microphone working whenever call person would hear sound like bullet firing dissatisfied disappointed',\n",
       " 'perfect product awesome sound quality feel real bass',\n",
       " 'must buy worth money lajwaab using day quality bass like high quality earphone get outside disturbance',\n",
       " 'great product best earphone range',\n",
       " 'mind blowing purchase used many earphone samsung vivo jbl boat mi best headset realme bud bass quality awesome love sound louder value money confusion good go every',\n",
       " 'utterly disappointed dont buy product currently selling deffected item also refuse return order',\n",
       " 'best market awesome',\n",
       " 'worst experience ever damaged product return flipkart big waste time money',\n",
       " 'terrific purchase nice sound',\n",
       " 'brilliant nice headphone',\n",
       " 'brilliant excellent',\n",
       " 'worthless day one side stop working',\n",
       " 'waste money hello received product mic worse whenever call someone fire bike sound earphone creating difficulty hearing many one star review already complaint hope solve worst part even return replace',\n",
       " 'wow green colour awsm',\n",
       " 'highly recommended premium design build quality volume controler good sound quality superb bass wow wow cable strong thanks realme flipkart',\n",
       " 'super rd time purchase ordered cousin review good bass sound treble accuracy price better boat earphone',\n",
       " 'waste money order lot flipkart never issue time received damaged product issue returnable checked ordering suggestion user flipkart please create clear visibility message popup non returnable item customer feel helpless get damaged product cant anything',\n",
       " 'terrific purchase sound bass good wire long quality type quit good',\n",
       " 'wonderful good product',\n",
       " 'terrific omggg bass love em',\n",
       " 'worth every penny awesome headphone bass lover superior build quality premium feature sound like headphone go itttttt',\n",
       " 'useless product second copy working properly',\n",
       " 'super rich bass build quality superb',\n",
       " 'classy product supper mind blowing headphone woofer higher bass quality good',\n",
       " 'best market good quality',\n",
       " 'classy product one best product price really love',\n",
       " 'pretty good nyc product price',\n",
       " 'highly recommended osm sound',\n",
       " 'delightful nice sound',\n",
       " 'wonderful awesome sound quality',\n",
       " 'super good product',\n",
       " 'highly recommended sound quality build quality',\n",
       " 'meet expectation bad experience harsh sound sound bike silencer speaking someone',\n",
       " 'pretty good bad experience realme headphone st purchase good sound quality sound soft bass return policy flipkart mentioned day return policy return please suggest',\n",
       " 'super amazing',\n",
       " 'mind blowing purchase best sound quality realme',\n",
       " 'best market nice realme',\n",
       " 'wow awesome',\n",
       " 'worthless mike working',\n",
       " 'classy product nice',\n",
       " 'excellent little bit better mi bought best deal',\n",
       " 'deal breaking con issue unlike review saw online charging case good lid wobble issue use realme pro bluetooth version date barely give ish meter range los ish meter laptop issue left right earbuds consumes battery differently reason use time let say hour left battery right one left one deal breaking issue make wonder thing read',\n",
       " 'recommended go comfortable plan wear hour exercising good short period enjoy sound quality product',\n",
       " 'hated writing review buying two loved product much bought two detailed review build quality design well built yes plastic plastic well built design comfort elegant minimal look beautiful especially blue colour comfort good used straight like hour pain although later changed eartips read',\n",
       " 'worthless first product good go complain regarding flipkart flipkart scam never ever buy electronic item flipkart return policy thing paper come ground situation totally different would like tell whole problem sometimes listening sound hour sound start coming one earbud vanishes earbud second minor problem seen produc read',\n",
       " 'waste money want return product first sound quality good requested replacement day automatically return got cancelled worse experience flipkart',\n",
       " 'worst experience ever know product top notch facing heating issue charging case flipkart giving replacement product still within day star disappointing flipkart',\n",
       " 'absolute rubbish one side bud stoped working within month disappointed',\n",
       " 'hated review seller flipkart cautious purchasing product since suitable due smaller ear canal tried three tip provided package kept falling ear flipkart replacement policy scam allow u change product pathetic policy frequent customer happened',\n",
       " 'waste money left side bud stopped working week',\n",
       " 'unsatisfactory one side pair working please replce onky one side working',\n",
       " 'poor quality purchased nov nd today nov rd one side ear bud stopped working purchased reading review however disappointed poor quality product',\n",
       " 'worthless within one month one bud stopped working facility rate negative otherwise given minus rating',\n",
       " 'hated right bud started making hiss sound disappointed never buy flipkart',\n",
       " 'hated worst product please buy replaced accept return waste money please buy product',\n",
       " 'horrible sound quality good use flipkart provide poor service',\n",
       " 'hated worked fine month good online meeting much lag voice microphone pathetic also comfortable sometimes one earphone connect others call hear properly recommended',\n",
       " 'meet expectation watched music video hear sound second air bud repeatedly problem solution problem',\n",
       " 'hated right ear bud damaged week bad opinion good sound quality',\n",
       " 'waste money voice bad talk properly voice disturbing',\n",
       " 'recommended maintain sound quality month',\n",
       " 'recommended bad product one time perch product replesment refund flipkart oppo enco bud bad product',\n",
       " 'poor calling problem sound going clear person',\n",
       " 'meet expectation waste money',\n",
       " 'waste money bad product',\n",
       " 'absolute rubbish worst tws ever disturbance creates weird noise sound like rupee earphone comfortable opted replace flipkart let despite mentioning problem getting call asking problem w tws communicating executive regarding problem hang call wait day talk schemer max',\n",
       " 'absolute rubbish worst tws ever made till flipcart assuring fake return policy hard wear tws hurt ear wear tap sensor respond low bass unwanted voice call worst mike ever',\n",
       " 'poor left earbud stopped working within first month purchase tried resetting multiple time still working customer support response worst bought earbuds good rating review experience bad',\n",
       " 'utterly disappointed comfortable',\n",
       " 'worst experience ever produced working',\n",
       " 'recommended long process refund resolve update month long time',\n",
       " 'absolute rubbish bad',\n",
       " 'utterly disappointed connected device return pilicy dull',\n",
       " 'worthless worst mic quality worst noise cancellation good listening music',\n",
       " 'hated worst calling quality',\n",
       " 'unsatisfactory bad',\n",
       " 'absolute rubbish right earbuds stopped working within month time run service center',\n",
       " 'utterly disappointed bad product',\n",
       " 'absolute rubbish buy wastage money',\n",
       " 'waste money please buy product good price much product price',\n",
       " 'utterly disappointed within month right earbud stopped working connect properly brand mobile',\n",
       " 'useless product flipkart plus member still return policy product also worst form sound quality also comfortable ear friend recommend buy worst earphone full waste money worst return policy',\n",
       " 'waste money month since purchased start using product day left earbud sound got decreaded e vol right earbud vol left one case used oppo enco wireless neckband also show really oppo',\n",
       " 'recommended much bass vocal clear mic quality good please focus providing balance sound like jabra sennheiser bos',\n",
       " 'horrible worst product worst flipkart',\n",
       " 'absolute rubbish call quality low time volume break',\n",
       " 'poor hae day right side burds working',\n",
       " 'unsatisfactory within day one bud stopped working really expect',\n",
       " 'hated never buy flipkart returnable detect touch sensor left bud sometimes mic working',\n",
       " 'worthless bad product sound like burst drum penny irritating return request also processed totally waste money strong recommendation buy',\n",
       " 'waste money sound poor',\n",
       " 'absolute rubbish purchased bud stopped working month',\n",
       " 'worst experience ever touch function r disaster',\n",
       " 'unsatisfactory worst product',\n",
       " 'useless product satisfied product sound quality good hurt ear using long period time battery life good disappointed also return date day',\n",
       " 'unsatisfactory sound bass quality best sometime one side earbud work',\n",
       " 'absolute rubbish worst product worst call worth money',\n",
       " 'worthless uper case loose make noise shaking battery backup good sound quality mark connectivity good call pick much noise good calling',\n",
       " 'horrible calling problem',\n",
       " 'waste money person getting voice properly background voice high enc working',\n",
       " 'unsatisfactory worst product ever buyed bluetooth connection decrease sound using month reviewing waste money',\n",
       " 'utterly disappointed bad product working properly waste money',\n",
       " 'worthless got defective product right side working properly',\n",
       " 'recommended malfunctioning',\n",
       " 'poor everything else fine call person hears voice e voice echo top voice becomes really difficulty person hear really terrible experience buy go something better',\n",
       " 'useless product bad product one side working',\n",
       " 'useless product earbuds mic working mic quality poor',\n",
       " 'hated within hr buying right earbud making cracking sound constantly return replace policy scam dont expect easy solution',\n",
       " 'absolute rubbish recommend buy product especially flipkart seller good flipkart even raising issue seller product oppo enco bud upto mark',\n",
       " 'worthless good many problem',\n",
       " 'waste money good calling purpose call sometimes de sync ear piece though gaming mode useful',\n",
       " 'hated bogus item purchase',\n",
       " 'horrible voice breaking listening music break voice call bluetooth working properly waste money want use calling purpose good choice listening music either',\n",
       " 'waste money time one bud connect blutooth second bud connected blutooth',\n",
       " 'utterly disappointed long time feel uncomfortable ear',\n",
       " 'utterly disappointed bad call quality',\n",
       " 'meet expectation good voice disturbing hearing song',\n",
       " 'waste money calling bad buying product bad quality',\n",
       " 'horrible connect ear bud',\n",
       " 'horrible sound quality cal quality mark',\n",
       " 'unsatisfactory product sound quality bass poor',\n",
       " 'worthless sometimes left earbud didnot connect',\n",
       " 'absolute rubbish left bud battery drain fast',\n",
       " 'hated money loss product',\n",
       " 'horrible microphone video call working return policy bad flipkart',\n",
       " 'meet expectation left ear bud working properly get paired ph offen right one get even unable return return option working properly responding',\n",
       " 'waste money worst product day later right one side sound connecting',\n",
       " 'waste money one side bud working properly charging',\n",
       " 'horrible bad product',\n",
       " 'hated uncomfortable',\n",
       " 'worst experience ever week put charge also working worst product duplicate product received',\n",
       " 'horrible poor quality sound',\n",
       " 'utterly disappointed iam disappointed iam expected lot disappointed bass quality',\n",
       " 'recommended mic bad waste money trust youtubers searched alot still waste money',\n",
       " 'unsatisfactory poor item like item',\n",
       " 'waste money bad product',\n",
       " 'poor buy month ago mic working',\n",
       " ...]"
      ]
     },
     "execution_count": 135,
     "metadata": {},
     "output_type": "execute_result"
    }
   ],
   "source": [
    "corpus"
   ]
  },
  {
   "cell_type": "code",
   "execution_count": null,
   "id": "079fa0f0",
   "metadata": {},
   "outputs": [],
   "source": []
  },
  {
   "cell_type": "markdown",
   "id": "b2f5849e",
   "metadata": {},
   "source": [
    "## Lets convert Words into vectors"
   ]
  },
  {
   "cell_type": "markdown",
   "id": "e6dd20ac",
   "metadata": {},
   "source": [
    "# TF-IDF"
   ]
  },
  {
   "cell_type": "code",
   "execution_count": 136,
   "id": "1937087d",
   "metadata": {},
   "outputs": [],
   "source": [
    "from sklearn.feature_extraction.text import TfidfVectorizer\n",
    "tf=TfidfVectorizer()\n",
    "X=tf.fit_transform(corpus).toarray()"
   ]
  },
  {
   "cell_type": "code",
   "execution_count": 137,
   "id": "26f1eacb",
   "metadata": {},
   "outputs": [
    {
     "data": {
      "text/plain": [
       "(24266, 8297)"
      ]
     },
     "execution_count": 137,
     "metadata": {},
     "output_type": "execute_result"
    }
   ],
   "source": [
    "X.shape"
   ]
  },
  {
   "cell_type": "code",
   "execution_count": null,
   "id": "ef5adbe6",
   "metadata": {},
   "outputs": [],
   "source": []
  },
  {
   "cell_type": "code",
   "execution_count": 138,
   "id": "55546006",
   "metadata": {},
   "outputs": [
    {
     "data": {
      "text/plain": [
       "0        1\n",
       "1        1\n",
       "2        1\n",
       "3        1\n",
       "4        1\n",
       "        ..\n",
       "24261    3\n",
       "24262    3\n",
       "24263    3\n",
       "24264    3\n",
       "24265    3\n",
       "Name: Rating, Length: 24266, dtype: int64"
      ]
     },
     "execution_count": 138,
     "metadata": {},
     "output_type": "execute_result"
    }
   ],
   "source": [
    "Y=df['Rating']\n",
    "Y"
   ]
  },
  {
   "cell_type": "markdown",
   "id": "5c4b6166",
   "metadata": {},
   "source": [
    "# Machine Learning"
   ]
  },
  {
   "cell_type": "code",
   "execution_count": 139,
   "id": "63584b8d",
   "metadata": {},
   "outputs": [],
   "source": [
    "# Train and Test split\n",
    "\n",
    "from sklearn.model_selection import train_test_split\n",
    "x_train,x_test,y_train,y_test=train_test_split(X,Y,test_size=.3,stratify=Y,random_state=42)"
   ]
  },
  {
   "cell_type": "code",
   "execution_count": 140,
   "id": "68abeac4",
   "metadata": {},
   "outputs": [
    {
     "data": {
      "text/plain": [
       "((16986, 8297), (7280, 8297), (16986,), (7280,))"
      ]
     },
     "execution_count": 140,
     "metadata": {},
     "output_type": "execute_result"
    }
   ],
   "source": [
    "x_train.shape,x_test.shape,y_train.shape,y_test.shape"
   ]
  },
  {
   "cell_type": "markdown",
   "id": "481b5a5e",
   "metadata": {},
   "source": [
    "## MultinomialNB"
   ]
  },
  {
   "cell_type": "code",
   "execution_count": 45,
   "id": "ce465f5f",
   "metadata": {},
   "outputs": [],
   "source": [
    "from sklearn.naive_bayes import MultinomialNB\n",
    "spam_detect_model = MultinomialNB().fit(x_train, y_train)"
   ]
  },
  {
   "cell_type": "code",
   "execution_count": 46,
   "id": "ca2b895b",
   "metadata": {},
   "outputs": [],
   "source": [
    "#prediction\n",
    "y_pred=spam_detect_model.predict(x_test)"
   ]
  },
  {
   "cell_type": "code",
   "execution_count": 47,
   "id": "dd90b40c",
   "metadata": {},
   "outputs": [
    {
     "name": "stdout",
     "output_type": "stream",
     "text": [
      "0.789010989010989\n"
     ]
    }
   ],
   "source": [
    "score=accuracy_score(y_test,y_pred)\n",
    "print(score)"
   ]
  },
  {
   "cell_type": "code",
   "execution_count": 48,
   "id": "297bf437",
   "metadata": {},
   "outputs": [
    {
     "name": "stdout",
     "output_type": "stream",
     "text": [
      "              precision    recall  f1-score   support\n",
      "\n",
      "           1       0.98      0.82      0.89      2629\n",
      "           2       0.35      0.99      0.52       220\n",
      "           3       0.39      0.97      0.56       298\n",
      "           4       0.58      0.79      0.67      1043\n",
      "           5       0.98      0.73      0.84      3090\n",
      "\n",
      "    accuracy                           0.79      7280\n",
      "   macro avg       0.66      0.86      0.70      7280\n",
      "weighted avg       0.88      0.79      0.81      7280\n",
      "\n"
     ]
    }
   ],
   "source": [
    "print(classification_report(y_pred,y_test))"
   ]
  },
  {
   "cell_type": "markdown",
   "id": "12c7781e",
   "metadata": {},
   "source": [
    "As this is imbalanced dataset, we will not focus on score while focus on Precision and Recall"
   ]
  },
  {
   "cell_type": "markdown",
   "id": "4f446104",
   "metadata": {},
   "source": [
    "## Logistic Regression"
   ]
  },
  {
   "cell_type": "code",
   "execution_count": 141,
   "id": "e615c2bf",
   "metadata": {},
   "outputs": [],
   "source": [
    "from sklearn.linear_model import LogisticRegression\n",
    "LR_model = LogisticRegression().fit(x_train, y_train)"
   ]
  },
  {
   "cell_type": "code",
   "execution_count": 142,
   "id": "9c4dbfb8",
   "metadata": {},
   "outputs": [],
   "source": [
    "#prediction\n",
    "y_pred=LR_model.predict(x_test)"
   ]
  },
  {
   "cell_type": "code",
   "execution_count": 143,
   "id": "07510f1d",
   "metadata": {},
   "outputs": [
    {
     "name": "stdout",
     "output_type": "stream",
     "text": [
      "0.9114010989010989\n"
     ]
    }
   ],
   "source": [
    "score=accuracy_score(y_test,y_pred)\n",
    "print(score)"
   ]
  },
  {
   "cell_type": "code",
   "execution_count": 144,
   "id": "5ff66e94",
   "metadata": {},
   "outputs": [
    {
     "name": "stdout",
     "output_type": "stream",
     "text": [
      "              precision    recall  f1-score   support\n",
      "\n",
      "           1       0.99      0.96      0.97      2257\n",
      "           2       0.79      0.94      0.86       519\n",
      "           3       0.78      0.89      0.83       647\n",
      "           4       0.84      0.85      0.84      1426\n",
      "           5       0.96      0.91      0.93      2431\n",
      "\n",
      "    accuracy                           0.91      7280\n",
      "   macro avg       0.87      0.91      0.89      7280\n",
      "weighted avg       0.92      0.91      0.91      7280\n",
      "\n"
     ]
    }
   ],
   "source": [
    "print(classification_report(y_pred,y_test))"
   ]
  },
  {
   "cell_type": "markdown",
   "id": "233e4dbe",
   "metadata": {},
   "source": [
    "With Logistic Regression we acheived 91% accuracy"
   ]
  },
  {
   "cell_type": "code",
   "execution_count": null,
   "id": "011631fc",
   "metadata": {},
   "outputs": [],
   "source": []
  },
  {
   "cell_type": "code",
   "execution_count": null,
   "id": "825027cf",
   "metadata": {},
   "outputs": [],
   "source": []
  },
  {
   "cell_type": "code",
   "execution_count": null,
   "id": "aeec62a9",
   "metadata": {},
   "outputs": [],
   "source": []
  },
  {
   "cell_type": "markdown",
   "id": "edbd8203",
   "metadata": {},
   "source": [
    "#  Balancing Dataset with augmentation"
   ]
  },
  {
   "cell_type": "code",
   "execution_count": 49,
   "id": "b29b516a",
   "metadata": {},
   "outputs": [],
   "source": [
    "# ! pip install transformers\n",
    "# ! pip install nlpaug"
   ]
  },
  {
   "cell_type": "code",
   "execution_count": 50,
   "id": "bdb2b6df",
   "metadata": {},
   "outputs": [],
   "source": [
    "import nlpaug.augmenter.word.context_word_embs as aug"
   ]
  },
  {
   "cell_type": "code",
   "execution_count": 51,
   "id": "890644de",
   "metadata": {},
   "outputs": [
    {
     "data": {
      "text/plain": [
       "'Useless product Hated hated hated'"
      ]
     },
     "execution_count": 51,
     "metadata": {},
     "output_type": "execute_result"
    }
   ],
   "source": [
    "sample_text= df['comment'].iloc[101]\n",
    "sample_text"
   ]
  },
  {
   "cell_type": "code",
   "execution_count": 52,
   "id": "3d50fc8c",
   "metadata": {},
   "outputs": [],
   "source": [
    "augmenter=aug.ContextualWordEmbsAug(model_path='bert-base-uncased',action=\"insert\")"
   ]
  },
  {
   "cell_type": "code",
   "execution_count": 53,
   "id": "25ba65bf",
   "metadata": {},
   "outputs": [],
   "source": [
    "# conda activate env_pytorch\n",
    "# pip install torchvision \n",
    "#!! conda install -c pytorch pytorch"
   ]
  },
  {
   "cell_type": "code",
   "execution_count": 54,
   "id": "88bdbbd1",
   "metadata": {},
   "outputs": [
    {
     "name": "stdout",
     "output_type": "stream",
     "text": [
      "\n",
      "Note: you may need to restart the kernel to use updated packages.\n"
     ]
    },
    {
     "name": "stderr",
     "output_type": "stream",
     "text": [
      "\n",
      "EnvironmentNameNotFound: Could not find conda environment: myenv\n",
      "You can list all discoverable environments with `conda info --envs`.\n",
      "\n",
      "\n"
     ]
    }
   ],
   "source": [
    "conda activate myenv"
   ]
  },
  {
   "cell_type": "code",
   "execution_count": 55,
   "id": "a90e8c54",
   "metadata": {},
   "outputs": [],
   "source": [
    "import torch\n",
    "import torchvision"
   ]
  },
  {
   "cell_type": "code",
   "execution_count": 56,
   "id": "d84300cc",
   "metadata": {},
   "outputs": [
    {
     "data": {
      "text/plain": [
       "['useless product she hated hated products hated']"
      ]
     },
     "execution_count": 56,
     "metadata": {},
     "output_type": "execute_result"
    }
   ],
   "source": [
    "augmenter.augment(sample_text)"
   ]
  },
  {
   "cell_type": "code",
   "execution_count": 57,
   "id": "1c86a432",
   "metadata": {},
   "outputs": [
    {
     "name": "stdout",
     "output_type": "stream",
     "text": [
      "['useless product that hated enemies hated hated']\n",
      "['perfect useless finished product hated hated hated']\n",
      "['useless product hated thing hated useless hated']\n",
      "['useless beauty product hate hated hated hated']\n",
      "['most useless product hated hated hated hated']\n"
     ]
    }
   ],
   "source": [
    "for i in range(5):\n",
    "    print(augmenter.augment(sample_text))"
   ]
  },
  {
   "cell_type": "code",
   "execution_count": 58,
   "id": "46d5b63d",
   "metadata": {},
   "outputs": [
    {
     "data": {
      "text/plain": [
       "5    7686\n",
       "1    7282\n",
       "4    4782\n",
       "3    2463\n",
       "2    2053\n",
       "Name: Rating, dtype: int64"
      ]
     },
     "execution_count": 58,
     "metadata": {},
     "output_type": "execute_result"
    }
   ],
   "source": [
    "df['Rating'].value_counts()"
   ]
  },
  {
   "cell_type": "markdown",
   "id": "46ce2289",
   "metadata": {},
   "source": [
    "## SMOTE"
   ]
  },
  {
   "cell_type": "code",
   "execution_count": 145,
   "id": "eeb5aba4",
   "metadata": {},
   "outputs": [
    {
     "data": {
      "text/plain": [
       "((24266, 8297), (24266,))"
      ]
     },
     "execution_count": 145,
     "metadata": {},
     "output_type": "execute_result"
    }
   ],
   "source": [
    "X.shape , Y.shape"
   ]
  },
  {
   "cell_type": "code",
   "execution_count": 146,
   "id": "e4a98a51",
   "metadata": {},
   "outputs": [
    {
     "data": {
      "text/plain": [
       "5    7686\n",
       "1    7282\n",
       "4    4782\n",
       "3    2463\n",
       "2    2053\n",
       "Name: Rating, dtype: int64"
      ]
     },
     "execution_count": 146,
     "metadata": {},
     "output_type": "execute_result"
    }
   ],
   "source": [
    "Y.value_counts()"
   ]
  },
  {
   "cell_type": "code",
   "execution_count": 147,
   "id": "d1fd0287",
   "metadata": {},
   "outputs": [],
   "source": [
    "from imblearn.over_sampling import SMOTE\n",
    "sm=SMOTE()\n",
    "\n",
    "x,y=sm.fit_resample(X,Y)"
   ]
  },
  {
   "cell_type": "code",
   "execution_count": 148,
   "id": "67f617dc",
   "metadata": {},
   "outputs": [
    {
     "data": {
      "text/plain": [
       "1    7686\n",
       "5    7686\n",
       "4    7686\n",
       "3    7686\n",
       "2    7686\n",
       "Name: Rating, dtype: int64"
      ]
     },
     "execution_count": 148,
     "metadata": {},
     "output_type": "execute_result"
    }
   ],
   "source": [
    "y.value_counts()"
   ]
  },
  {
   "cell_type": "code",
   "execution_count": 149,
   "id": "b60dc086",
   "metadata": {},
   "outputs": [],
   "source": [
    "x_train,x_test,y_train,y_test=train_test_split(x,y,test_size=.3,random_state=42)"
   ]
  },
  {
   "cell_type": "code",
   "execution_count": 150,
   "id": "4bcf0808",
   "metadata": {},
   "outputs": [],
   "source": [
    "from sklearn.linear_model import LogisticRegression\n",
    "LR_model = LogisticRegression().fit(x_train, y_train)"
   ]
  },
  {
   "cell_type": "code",
   "execution_count": 151,
   "id": "40809189",
   "metadata": {},
   "outputs": [],
   "source": [
    "#prediction\n",
    "y_pred=LR_model.predict(x_test)"
   ]
  },
  {
   "cell_type": "code",
   "execution_count": 152,
   "id": "c732f223",
   "metadata": {},
   "outputs": [
    {
     "name": "stdout",
     "output_type": "stream",
     "text": [
      "0.9246248590510886\n"
     ]
    }
   ],
   "source": [
    "score=accuracy_score(y_test,y_pred)\n",
    "print(score)"
   ]
  },
  {
   "cell_type": "markdown",
   "id": "ff9fae1d",
   "metadata": {},
   "source": [
    "So balancing data worked preety well to increase score by 1%"
   ]
  },
  {
   "cell_type": "code",
   "execution_count": 153,
   "id": "9bd8b795",
   "metadata": {},
   "outputs": [
    {
     "data": {
      "text/plain": [
       "<AxesSubplot:>"
      ]
     },
     "execution_count": 153,
     "metadata": {},
     "output_type": "execute_result"
    },
    {
     "data": {
      "image/png": "[encoded data removed]",
      "text/plain": [
       "<Figure size 432x288 with 2 Axes>"
      ]
     },
     "metadata": {
      "needs_background": "light"
     },
     "output_type": "display_data"
    }
   ],
   "source": [
    "# Confusion Matrix\n",
    "\n",
    "from sklearn.metrics import confusion_matrix\n",
    "confusion_matrix(y_test,y_pred)\n",
    "sns.heatmap(confusion_matrix(y_test,y_pred),annot=True, fmt='d')"
   ]
  },
  {
   "cell_type": "markdown",
   "id": "2a6307ad",
   "metadata": {},
   "source": [
    "## ROC-AUC curve"
   ]
  },
  {
   "cell_type": "code",
   "execution_count": 155,
   "id": "58f880dc",
   "metadata": {},
   "outputs": [],
   "source": [
    "y_pred_prob=LR_model.predict_proba(x_test)"
   ]
  },
  {
   "cell_type": "code",
   "execution_count": 156,
   "id": "509cb709",
   "metadata": {},
   "outputs": [
    {
     "data": {
      "text/plain": [
       "0.990397383130343"
      ]
     },
     "execution_count": 156,
     "metadata": {},
     "output_type": "execute_result"
    }
   ],
   "source": [
    "roc_auc_score(y_test,y_pred_prob,multi_class='ovr', average='weighted')"
   ]
  },
  {
   "cell_type": "code",
   "execution_count": 158,
   "id": "f038c0b4",
   "metadata": {},
   "outputs": [],
   "source": [
    "from sklearn.metrics import roc_auc_score,roc_curve"
   ]
  },
  {
   "cell_type": "code",
   "execution_count": 161,
   "id": "6c38d1d1",
   "metadata": {},
   "outputs": [
    {
     "data": {
      "image/png": "[encoded data removed]",
      "text/plain": [
       "<Figure size 432x288 with 1 Axes>"
      ]
     },
     "metadata": {
      "needs_background": "light"
     },
     "output_type": "display_data"
    }
   ],
   "source": [
    "fpr={}\n",
    "tpr={}\n",
    "threshold={}\n",
    "\n",
    "n_class=5\n",
    "\n",
    "for i in range(n_class):\n",
    "    fpr[i],tpr[i],threshold[i]=roc_curve(y_test,y_pred_prob[:,i],pos_label=i)\n",
    "    \n",
    "#plotting\n",
    "plt.plot(fpr[0],tpr[0],linestyle='--', color='orange',label='Class 1 vs rest'  )\n",
    "plt.plot(fpr[1],tpr[1],linestyle='--', color='green',label='Class 2 vs rest'  )\n",
    "plt.plot(fpr[2],tpr[2],linestyle='--', color='yellow',label='Class 3 vs rest'  )\n",
    "plt.plot(fpr[3],tpr[3],linestyle='--', color='blue',label='Class 4 vs rest'  )\n",
    "plt.plot(fpr[4],tpr[4],linestyle='--', color='red',label='Class 5 vs rest'  )\n",
    "plt.title('Multi class ROC Curve')\n",
    "plt.xlabel('False positive rate')\n",
    "plt.ylabel('True positive rate')\n",
    "plt.legend(loc='best')\n",
    "plt.show()"
   ]
  },
  {
   "cell_type": "markdown",
   "id": "a3741442",
   "metadata": {},
   "source": [
    "## Hypertuning"
   ]
  },
  {
   "cell_type": "code",
   "execution_count": 165,
   "id": "3e3521da",
   "metadata": {},
   "outputs": [
    {
     "ename": "SyntaxError",
     "evalue": "invalid syntax (1411060081.py, line 1)",
     "output_type": "error",
     "traceback": [
      "\u001b[1;36m  Input \u001b[1;32mIn [165]\u001b[1;36m\u001b[0m\n\u001b[1;33m    grid =\u001b[0m\n\u001b[1;37m          ^\u001b[0m\n\u001b[1;31mSyntaxError\u001b[0m\u001b[1;31m:\u001b[0m invalid syntax\n"
     ]
    }
   ],
   "source": []
  },
  {
   "cell_type": "code",
   "execution_count": 175,
   "id": "dd47f2c1",
   "metadata": {},
   "outputs": [],
   "source": [
    "from sklearn.model_selection import GridSearchCV\n",
    "from sklearn.model_selection import RepeatedStratifiedKFold"
   ]
  },
  {
   "cell_type": "code",
   "execution_count": null,
   "id": "31ed1c32",
   "metadata": {},
   "outputs": [],
   "source": [
    "solvers = ['newton-cg', 'lbfgs', 'liblinear']\n",
    "penalty = ['l1','l2']\n",
    "c_values = [100, 10, 1.0, 0.1, 0.01]\n",
    "# define grid search\n",
    "grid = dict(solver=solvers,penalty=penalty,C=c_values)"
   ]
  },
  {
   "cell_type": "code",
   "execution_count": 177,
   "id": "a14e3ad9",
   "metadata": {},
   "outputs": [],
   "source": [
    "cv = RepeatedStratifiedKFold(n_splits=10, n_repeats=3, random_state=1)"
   ]
  },
  {
   "cell_type": "code",
   "execution_count": 170,
   "id": "fa08e5ef",
   "metadata": {},
   "outputs": [],
   "source": [
    "#rf_random = RandomizedSearchCV(estimator = LR_model, param_distributions = random_grid,scoring='neg_mean_squared_error', n_iter = 10, cv = 5, verbose=2, random_state=42, n_jobs = 1)"
   ]
  },
  {
   "cell_type": "code",
   "execution_count": 179,
   "id": "d5029e31",
   "metadata": {},
   "outputs": [],
   "source": [
    "grid_search = GridSearchCV(estimator=LR_model, param_grid=grid, n_jobs=-1,cv=cv ,scoring='accuracy',error_score=0)\n",
    "\n"
   ]
  },
  {
   "cell_type": "code",
   "execution_count": null,
   "id": "65b0d212",
   "metadata": {},
   "outputs": [],
   "source": [
    "grid_result=grid_search.fit(X,Y)\n"
   ]
  },
  {
   "cell_type": "code",
   "execution_count": null,
   "id": "70de5c2c",
   "metadata": {},
   "outputs": [],
   "source": [
    "# Its taking too much time"
   ]
  },
  {
   "cell_type": "code",
   "execution_count": null,
   "id": "f699bba4",
   "metadata": {},
   "outputs": [],
   "source": [
    "import joblib\n",
    "joblib.dump(LR_model,\"Rating Prediction.pkl\")"
   ]
  },
  {
   "cell_type": "code",
   "execution_count": null,
   "id": "c8689863",
   "metadata": {},
   "outputs": [],
   "source": []
  },
  {
   "cell_type": "code",
   "execution_count": null,
   "id": "47c7fe67",
   "metadata": {},
   "outputs": [],
   "source": []
  },
  {
   "cell_type": "markdown",
   "id": "504b86fd",
   "metadata": {},
   "source": [
    "# Decission Tree"
   ]
  },
  {
   "cell_type": "code",
   "execution_count": 86,
   "id": "255f4c02",
   "metadata": {},
   "outputs": [
    {
     "data": {
      "text/plain": [
       "0.8965218145546014"
      ]
     },
     "execution_count": 86,
     "metadata": {},
     "output_type": "execute_result"
    }
   ],
   "source": [
    "from sklearn.tree import DecisionTreeClassifier\n",
    "\n",
    "dt=DecisionTreeClassifier().fit(x_train,y_train)\n",
    "y_pred=dt.predict(x_test)\n",
    "\n",
    "score=accuracy_score(y_test,y_pred)\n",
    "score"
   ]
  },
  {
   "cell_type": "code",
   "execution_count": 87,
   "id": "719ba524",
   "metadata": {},
   "outputs": [
    {
     "data": {
      "text/plain": [
       "0.7948651227339751"
      ]
     },
     "execution_count": 87,
     "metadata": {},
     "output_type": "execute_result"
    }
   ],
   "source": [
    "from sklearn.neighbors import KNeighborsClassifier\n",
    "\n",
    "dt=KNeighborsClassifier().fit(x_train,y_train)\n",
    "y_pred=dt.predict(x_test)\n",
    "\n",
    "score=accuracy_score(y_test,y_pred)\n",
    "score"
   ]
  },
  {
   "cell_type": "markdown",
   "id": "d4c734b3",
   "metadata": {},
   "source": [
    "# SVC"
   ]
  },
  {
   "cell_type": "code",
   "execution_count": 89,
   "id": "851e04b7",
   "metadata": {},
   "outputs": [
    {
     "ename": "KeyboardInterrupt",
     "evalue": "",
     "output_type": "error",
     "traceback": [
      "\u001b[1;31m---------------------------------------------------------------------------\u001b[0m",
      "\u001b[1;31mKeyboardInterrupt\u001b[0m                         Traceback (most recent call last)",
      "Input \u001b[1;32mIn [89]\u001b[0m, in \u001b[0;36m<cell line: 4>\u001b[1;34m()\u001b[0m\n\u001b[0;32m      1\u001b[0m \u001b[38;5;28;01mfrom\u001b[39;00m \u001b[38;5;21;01msklearn\u001b[39;00m\u001b[38;5;21;01m.\u001b[39;00m\u001b[38;5;21;01msvm\u001b[39;00m \u001b[38;5;28;01mimport\u001b[39;00m SVC\n\u001b[0;32m      3\u001b[0m dt\u001b[38;5;241m=\u001b[39mSVC()\u001b[38;5;241m.\u001b[39mfit(x_train,y_train)\n\u001b[1;32m----> 4\u001b[0m y_pred\u001b[38;5;241m=\u001b[39m\u001b[43mdt\u001b[49m\u001b[38;5;241;43m.\u001b[39;49m\u001b[43mpredict\u001b[49m\u001b[43m(\u001b[49m\u001b[43mx_test\u001b[49m\u001b[43m)\u001b[49m\n\u001b[0;32m      6\u001b[0m score\u001b[38;5;241m=\u001b[39maccuracy_score(y_test,y_pred)\n\u001b[0;32m      7\u001b[0m score\n",
      "File \u001b[1;32m~\\AppData\\Roaming\\Python\\Python39\\site-packages\\sklearn\\svm\\_base.py:791\u001b[0m, in \u001b[0;36mBaseSVC.predict\u001b[1;34m(self, X)\u001b[0m\n\u001b[0;32m    789\u001b[0m     y \u001b[38;5;241m=\u001b[39m np\u001b[38;5;241m.\u001b[39margmax(\u001b[38;5;28mself\u001b[39m\u001b[38;5;241m.\u001b[39mdecision_function(X), axis\u001b[38;5;241m=\u001b[39m\u001b[38;5;241m1\u001b[39m)\n\u001b[0;32m    790\u001b[0m \u001b[38;5;28;01melse\u001b[39;00m:\n\u001b[1;32m--> 791\u001b[0m     y \u001b[38;5;241m=\u001b[39m \u001b[38;5;28;43msuper\u001b[39;49m\u001b[43m(\u001b[49m\u001b[43m)\u001b[49m\u001b[38;5;241;43m.\u001b[39;49m\u001b[43mpredict\u001b[49m\u001b[43m(\u001b[49m\u001b[43mX\u001b[49m\u001b[43m)\u001b[49m\n\u001b[0;32m    792\u001b[0m \u001b[38;5;28;01mreturn\u001b[39;00m \u001b[38;5;28mself\u001b[39m\u001b[38;5;241m.\u001b[39mclasses_\u001b[38;5;241m.\u001b[39mtake(np\u001b[38;5;241m.\u001b[39masarray(y, dtype\u001b[38;5;241m=\u001b[39mnp\u001b[38;5;241m.\u001b[39mintp))\n",
      "File \u001b[1;32m~\\AppData\\Roaming\\Python\\Python39\\site-packages\\sklearn\\svm\\_base.py:416\u001b[0m, in \u001b[0;36mBaseLibSVM.predict\u001b[1;34m(self, X)\u001b[0m\n\u001b[0;32m    414\u001b[0m X \u001b[38;5;241m=\u001b[39m \u001b[38;5;28mself\u001b[39m\u001b[38;5;241m.\u001b[39m_validate_for_predict(X)\n\u001b[0;32m    415\u001b[0m predict \u001b[38;5;241m=\u001b[39m \u001b[38;5;28mself\u001b[39m\u001b[38;5;241m.\u001b[39m_sparse_predict \u001b[38;5;28;01mif\u001b[39;00m \u001b[38;5;28mself\u001b[39m\u001b[38;5;241m.\u001b[39m_sparse \u001b[38;5;28;01melse\u001b[39;00m \u001b[38;5;28mself\u001b[39m\u001b[38;5;241m.\u001b[39m_dense_predict\n\u001b[1;32m--> 416\u001b[0m \u001b[38;5;28;01mreturn\u001b[39;00m \u001b[43mpredict\u001b[49m\u001b[43m(\u001b[49m\u001b[43mX\u001b[49m\u001b[43m)\u001b[49m\n",
      "File \u001b[1;32m~\\AppData\\Roaming\\Python\\Python39\\site-packages\\sklearn\\svm\\_base.py:435\u001b[0m, in \u001b[0;36mBaseLibSVM._dense_predict\u001b[1;34m(self, X)\u001b[0m\n\u001b[0;32m    427\u001b[0m         \u001b[38;5;28;01mraise\u001b[39;00m \u001b[38;5;167;01mValueError\u001b[39;00m(\n\u001b[0;32m    428\u001b[0m             \u001b[38;5;124m\"\u001b[39m\u001b[38;5;124mX.shape[1] = \u001b[39m\u001b[38;5;132;01m%d\u001b[39;00m\u001b[38;5;124m should be equal to \u001b[39m\u001b[38;5;132;01m%d\u001b[39;00m\u001b[38;5;124m, \u001b[39m\u001b[38;5;124m\"\u001b[39m\n\u001b[0;32m    429\u001b[0m             \u001b[38;5;124m\"\u001b[39m\u001b[38;5;124mthe number of samples at training time\u001b[39m\u001b[38;5;124m\"\u001b[39m\n\u001b[0;32m    430\u001b[0m             \u001b[38;5;241m%\u001b[39m (X\u001b[38;5;241m.\u001b[39mshape[\u001b[38;5;241m1\u001b[39m], \u001b[38;5;28mself\u001b[39m\u001b[38;5;241m.\u001b[39mshape_fit_[\u001b[38;5;241m0\u001b[39m])\n\u001b[0;32m    431\u001b[0m         )\n\u001b[0;32m    433\u001b[0m svm_type \u001b[38;5;241m=\u001b[39m LIBSVM_IMPL\u001b[38;5;241m.\u001b[39mindex(\u001b[38;5;28mself\u001b[39m\u001b[38;5;241m.\u001b[39m_impl)\n\u001b[1;32m--> 435\u001b[0m \u001b[38;5;28;01mreturn\u001b[39;00m \u001b[43mlibsvm\u001b[49m\u001b[38;5;241;43m.\u001b[39;49m\u001b[43mpredict\u001b[49m\u001b[43m(\u001b[49m\n\u001b[0;32m    436\u001b[0m \u001b[43m    \u001b[49m\u001b[43mX\u001b[49m\u001b[43m,\u001b[49m\n\u001b[0;32m    437\u001b[0m \u001b[43m    \u001b[49m\u001b[38;5;28;43mself\u001b[39;49m\u001b[38;5;241;43m.\u001b[39;49m\u001b[43msupport_\u001b[49m\u001b[43m,\u001b[49m\n\u001b[0;32m    438\u001b[0m \u001b[43m    \u001b[49m\u001b[38;5;28;43mself\u001b[39;49m\u001b[38;5;241;43m.\u001b[39;49m\u001b[43msupport_vectors_\u001b[49m\u001b[43m,\u001b[49m\n\u001b[0;32m    439\u001b[0m \u001b[43m    \u001b[49m\u001b[38;5;28;43mself\u001b[39;49m\u001b[38;5;241;43m.\u001b[39;49m\u001b[43m_n_support\u001b[49m\u001b[43m,\u001b[49m\n\u001b[0;32m    440\u001b[0m \u001b[43m    \u001b[49m\u001b[38;5;28;43mself\u001b[39;49m\u001b[38;5;241;43m.\u001b[39;49m\u001b[43m_dual_coef_\u001b[49m\u001b[43m,\u001b[49m\n\u001b[0;32m    441\u001b[0m \u001b[43m    \u001b[49m\u001b[38;5;28;43mself\u001b[39;49m\u001b[38;5;241;43m.\u001b[39;49m\u001b[43m_intercept_\u001b[49m\u001b[43m,\u001b[49m\n\u001b[0;32m    442\u001b[0m \u001b[43m    \u001b[49m\u001b[38;5;28;43mself\u001b[39;49m\u001b[38;5;241;43m.\u001b[39;49m\u001b[43m_probA\u001b[49m\u001b[43m,\u001b[49m\n\u001b[0;32m    443\u001b[0m \u001b[43m    \u001b[49m\u001b[38;5;28;43mself\u001b[39;49m\u001b[38;5;241;43m.\u001b[39;49m\u001b[43m_probB\u001b[49m\u001b[43m,\u001b[49m\n\u001b[0;32m    444\u001b[0m \u001b[43m    \u001b[49m\u001b[43msvm_type\u001b[49m\u001b[38;5;241;43m=\u001b[39;49m\u001b[43msvm_type\u001b[49m\u001b[43m,\u001b[49m\n\u001b[0;32m    445\u001b[0m \u001b[43m    \u001b[49m\u001b[43mkernel\u001b[49m\u001b[38;5;241;43m=\u001b[39;49m\u001b[43mkernel\u001b[49m\u001b[43m,\u001b[49m\n\u001b[0;32m    446\u001b[0m \u001b[43m    \u001b[49m\u001b[43mdegree\u001b[49m\u001b[38;5;241;43m=\u001b[39;49m\u001b[38;5;28;43mself\u001b[39;49m\u001b[38;5;241;43m.\u001b[39;49m\u001b[43mdegree\u001b[49m\u001b[43m,\u001b[49m\n\u001b[0;32m    447\u001b[0m \u001b[43m    \u001b[49m\u001b[43mcoef0\u001b[49m\u001b[38;5;241;43m=\u001b[39;49m\u001b[38;5;28;43mself\u001b[39;49m\u001b[38;5;241;43m.\u001b[39;49m\u001b[43mcoef0\u001b[49m\u001b[43m,\u001b[49m\n\u001b[0;32m    448\u001b[0m \u001b[43m    \u001b[49m\u001b[43mgamma\u001b[49m\u001b[38;5;241;43m=\u001b[39;49m\u001b[38;5;28;43mself\u001b[39;49m\u001b[38;5;241;43m.\u001b[39;49m\u001b[43m_gamma\u001b[49m\u001b[43m,\u001b[49m\n\u001b[0;32m    449\u001b[0m \u001b[43m    \u001b[49m\u001b[43mcache_size\u001b[49m\u001b[38;5;241;43m=\u001b[39;49m\u001b[38;5;28;43mself\u001b[39;49m\u001b[38;5;241;43m.\u001b[39;49m\u001b[43mcache_size\u001b[49m\u001b[43m,\u001b[49m\n\u001b[0;32m    450\u001b[0m \u001b[43m\u001b[49m\u001b[43m)\u001b[49m\n",
      "\u001b[1;31mKeyboardInterrupt\u001b[0m: "
     ]
    }
   ],
   "source": [
    "from sklearn.svm import SVC\n",
    "\n",
    "dt=SVC().fit(x_train,y_train)\n",
    "y_pred=dt.predict(x_test)\n",
    "\n",
    "score=accuracy_score(y_test,y_pred)\n",
    "score"
   ]
  },
  {
   "cell_type": "code",
   "execution_count": null,
   "id": "5fe785f0",
   "metadata": {},
   "outputs": [],
   "source": []
  }
 ],
 "metadata": {
  "kernelspec": {
   "display_name": "Python 3 (ipykernel)",
   "language": "python",
   "name": "python3"
  },
  "language_info": {
   "codemirror_mode": {
    "name": "ipython",
    "version": 3
   },
   "file_extension": ".py",
   "mimetype": "text/x-python",
   "name": "python",
   "nbconvert_exporter": "python",
   "pygments_lexer": "ipython3",
   "version": "3.9.12"
  }
 },
 "nbformat": 4,
 "nbformat_minor": 5
}
