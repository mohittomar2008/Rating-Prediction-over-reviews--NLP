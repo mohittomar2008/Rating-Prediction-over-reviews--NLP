{
 "cells": [
  {
   "cell_type": "code",
   "execution_count": 1,
   "id": "f6461ca0",
   "metadata": {},
   "outputs": [],
   "source": [
    " # import libraraies\n",
    "\n",
    "import selenium\n",
    "from selenium import webdriver\n",
    "import pandas as pd\n",
    "\n",
    "# Importing required Exceptions which needs to handled\n",
    "from selenium.common.exceptions import StaleElementReferenceException, NoSuchElementException\n",
    "\n",
    "#Importing requests\n",
    "import requests\n",
    "\n",
    "import numpy as np\n",
    "import pandas as pd\n",
    "\n",
    "# importing regex\n",
    "import re\n",
    "\n",
    "import warnings\n",
    "warnings.filterwarnings('ignore')\n",
    "import time"
   ]
  },
  {
   "cell_type": "code",
   "execution_count": null,
   "id": "ffc2bf6d",
   "metadata": {},
   "outputs": [],
   "source": [
    "# lets connect to driver\n",
    "\n",
    "driver= webdriver.Chrome(r'C:\\working\\chromedriver.exe')\n",
    "driver.maximize_window()\n",
    "\n",
    "url='https://www.amazon.in/Micro-Edge-Anti-Glare-Graphics-Speakers-15S-Eq2143Au/product-reviews/B09R1MMMTH/ref=cm_cr_dp_d_show_all_btm?ie=UTF8&reviewerType=all_reviews'\n",
    "driver.get(url)"
   ]
  },
  {
   "cell_type": "code",
   "execution_count": null,
   "id": "180a62f7",
   "metadata": {},
   "outputs": [],
   "source": [
    "title=[]\n",
    "review=[]\n",
    "rating=[]"
   ]
  },
  {
   "cell_type": "code",
   "execution_count": null,
   "id": "79158178",
   "metadata": {},
   "outputs": [],
   "source": [
    "\n",
    "\n",
    "titles= driver.find_elements_by_xpath('//a[@class=\"a-size-base a-link-normal review-title a-color-base review-title-content a-text-bold\"]')\n",
    "for i in titles:\n",
    "    title.append(i.text)\n",
    "\n",
    "reviews= driver.find_elements_by_xpath('//span[@class=\"a-size-base review-text review-text-content\"]')\n",
    "for i in reviews:\n",
    "    review.append(i.text)\n",
    "    \n"
   ]
  },
  {
   "cell_type": "code",
   "execution_count": null,
   "id": "5c6bb171",
   "metadata": {},
   "outputs": [],
   "source": [
    "len(titles) , len(reviews)"
   ]
  },
  {
   "cell_type": "code",
   "execution_count": null,
   "id": "8a38bee6",
   "metadata": {},
   "outputs": [],
   "source": [
    "len(title) , len(review)"
   ]
  },
  {
   "cell_type": "code",
   "execution_count": null,
   "id": "91389268",
   "metadata": {},
   "outputs": [],
   "source": [
    "pd.DataFrame({'Title':title,'Review':review})"
   ]
  },
  {
   "cell_type": "code",
   "execution_count": null,
   "id": "2d951d67",
   "metadata": {},
   "outputs": [],
   "source": [
    "rating=[]\n",
    "ratings= driver.find_elements_by_xpath('//div[@class=\"a-section review aok-relative\"]/div/div/div')\n",
    "for i in ratings:\n",
    "    rating.append(i.text)"
   ]
  },
  {
   "cell_type": "code",
   "execution_count": null,
   "id": "f07f4ef3",
   "metadata": {},
   "outputs": [],
   "source": [
    "driver.find_element_by_css_selector(\"[title=\"\"]\")"
   ]
  },
  {
   "cell_type": "code",
   "execution_count": null,
   "id": "c8055121",
   "metadata": {},
   "outputs": [],
   "source": []
  },
  {
   "cell_type": "code",
   "execution_count": null,
   "id": "6c3285bf",
   "metadata": {},
   "outputs": [],
   "source": []
  },
  {
   "cell_type": "code",
   "execution_count": 2,
   "id": "7784219a",
   "metadata": {},
   "outputs": [],
   "source": [
    "# lets connect to driver\n",
    "\n",
    "driver= webdriver.Chrome(r'C:\\working\\chromedriver.exe')\n",
    "driver.maximize_window()\n",
    "\n",
    "url='https://www.amazon.in/BenQ-inch-Bezel-Monitor-Built/product-reviews/B073NTCT4R/ref=cm_cr_arp_d_viewopt_sr?ie=UTF8&reviewerType=all_reviews&filterByStar=two_star&pageNumber=1'\n",
    "driver.get(url)"
   ]
  },
  {
   "cell_type": "code",
   "execution_count": 3,
   "id": "495804f8",
   "metadata": {},
   "outputs": [
    {
     "name": "stdout",
     "output_type": "stream",
     "text": [
      "\n",
      "\n",
      "\n",
      "\n",
      "\n",
      "\n",
      "\n",
      "\n",
      "\n",
      "\n"
     ]
    }
   ],
   "source": [
    "\n",
    "ratings= driver.find_elements_by_xpath('//a[@title=\"2.0 out of 5 stars\"]')\n",
    "for i in ratings:\n",
    "    print(i.text)\n",
    "   "
   ]
  },
  {
   "cell_type": "code",
   "execution_count": null,
   "id": "e947eed6",
   "metadata": {},
   "outputs": [],
   "source": [
    "driver.find"
   ]
  },
  {
   "cell_type": "code",
   "execution_count": null,
   "id": "5c729c5e",
   "metadata": {},
   "outputs": [],
   "source": []
  },
  {
   "cell_type": "code",
   "execution_count": null,
   "id": "d06c3261",
   "metadata": {},
   "outputs": [],
   "source": []
  },
  {
   "cell_type": "code",
   "execution_count": null,
   "id": "fc79f17f",
   "metadata": {},
   "outputs": [],
   "source": []
  }
 ],
 "metadata": {
  "kernelspec": {
   "display_name": "Python 3 (ipykernel)",
   "language": "python",
   "name": "python3"
  },
  "language_info": {
   "codemirror_mode": {
    "name": "ipython",
    "version": 3
   },
   "file_extension": ".py",
   "mimetype": "text/x-python",
   "name": "python",
   "nbconvert_exporter": "python",
   "pygments_lexer": "ipython3",
   "version": "3.9.12"
  }
 },
 "nbformat": 4,
 "nbformat_minor": 5
}
