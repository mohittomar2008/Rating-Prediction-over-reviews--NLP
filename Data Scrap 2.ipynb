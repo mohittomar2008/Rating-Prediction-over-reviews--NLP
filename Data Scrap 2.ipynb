{
 "cells": [
  {
   "cell_type": "code",
   "execution_count": 295,
   "id": "3e73544c",
   "metadata": {},
   "outputs": [],
   "source": [
    "import pandas as pd\n",
    "import numpy as np\n",
    "from bs4 import BeautifulSoup\n",
    "import selenium.webdriver\n",
    "from selenium import webdriver \n",
    "from datetime import date \n",
    "from selenium.webdriver.support.ui import WebDriverWait\n",
    "from selenium.webdriver.support import expected_conditions as EC \n",
    "from selenium.webdriver.common.by import By\n",
    "from dateutil.relativedelta import relativedelta\n",
    "import csv\n",
    "import linecache\n",
    "import sys\n",
    "import matplotlib.pyplot as plt\n",
    "import seaborn as sns\n",
    "import datetime as dt\n",
    "import time\n",
    "\n",
    "import warnings\n",
    "warnings.filterwarnings('ignore')"
   ]
  },
  {
   "cell_type": "code",
   "execution_count": null,
   "id": "f57423d1",
   "metadata": {},
   "outputs": [],
   "source": []
  },
  {
   "cell_type": "code",
   "execution_count": null,
   "id": "3e456c37",
   "metadata": {},
   "outputs": [],
   "source": []
  },
  {
   "cell_type": "code",
   "execution_count": 342,
   "id": "5ce136c6",
   "metadata": {},
   "outputs": [],
   "source": [
    "# Connect to Driver\n",
    "\n",
    "driver= webdriver.Chrome(r'C:\\working\\chromedriver.exe')\n",
    "driver.maximize_window()\n",
    "\n",
    "url='https://www.flipkart.com/boat-blitz-1500-multimedia-50-w-bluetooth-home-theatre/product-reviews/itma1eb339f35e7f?pid=ACCFYWX3SM6EUDBC&lid=LSTACCFYWX3SM6EUDBCAMU1XX&aid=overall&certifiedBuyer=false&sortOrder=NEGATIVE_FIRST&page=13'\n",
    "driver.get(url)"
   ]
  },
  {
   "cell_type": "code",
   "execution_count": 121,
   "id": "3e45659b",
   "metadata": {},
   "outputs": [],
   "source": [
    "# Close login page\n",
    "try:\n",
    "    login_page=driver.find_element_by_xpath('/html/body/div[2]/div/div/button')\n",
    "    login_page.click()\n",
    "except: pass\n"
   ]
  },
  {
   "cell_type": "code",
   "execution_count": 343,
   "id": "a1f0a12f",
   "metadata": {},
   "outputs": [],
   "source": [
    "# How many pages to scrap\n",
    "start=0\n",
    "end=150\n",
    "\n",
    "# create empty list to save scrapped data\n",
    "\n",
    "rating=[]\n",
    "title=[]\n",
    "review=[]\n"
   ]
  },
  {
   "cell_type": "code",
   "execution_count": 344,
   "id": "6733b203",
   "metadata": {},
   "outputs": [
    {
     "data": {
      "text/plain": [
       "(70, 70, 70)"
      ]
     },
     "execution_count": 344,
     "metadata": {},
     "output_type": "execute_result"
    }
   ],
   "source": [
    "start=0\n",
    "end=7\n",
    "for page in range(start, end):\n",
    "    time.sleep(4)\n",
    "    ratings= driver.find_elements_by_xpath('//div[@class=\"col _2wzgFH K0kLPL\"]/div[1]/div[1]')\n",
    "    titles= driver.find_elements_by_xpath(\"//p[@class='_2-N8zT']\")\n",
    "    reviews=driver.find_elements_by_xpath(\"//div[@class='t-ZTKy']\")\n",
    "    \n",
    "    for i in ratings:\n",
    "        rating.append(i.text)\n",
    "    for j in titles:\n",
    "        title.append(j.text)\n",
    "    for k in reviews:\n",
    "        review.append(k.text)\n",
    "    next_button= driver.find_elements_by_xpath('//a[@class=\"_1LKTO3\"]')\n",
    "    try:\n",
    "        driver.get(next_button[1].get_attribute('href'))\n",
    "        \n",
    "    except:\n",
    "        driver.get(next_button[0].get_attribute('href'))\n",
    "        \n",
    "        \n",
    "\n",
    "        \n",
    "    \n",
    "len(rating), len(title), len(review)"
   ]
  },
  {
   "cell_type": "code",
   "execution_count": 345,
   "id": "272337cc",
   "metadata": {},
   "outputs": [
    {
     "data": {
      "text/html": [
       "<div>\n",
       "<style scoped>\n",
       "    .dataframe tbody tr th:only-of-type {\n",
       "        vertical-align: middle;\n",
       "    }\n",
       "\n",
       "    .dataframe tbody tr th {\n",
       "        vertical-align: top;\n",
       "    }\n",
       "\n",
       "    .dataframe thead th {\n",
       "        text-align: right;\n",
       "    }\n",
       "</style>\n",
       "<table border=\"1\" class=\"dataframe\">\n",
       "  <thead>\n",
       "    <tr style=\"text-align: right;\">\n",
       "      <th></th>\n",
       "      <th>Title</th>\n",
       "      <th>Review</th>\n",
       "      <th>Rating</th>\n",
       "    </tr>\n",
       "  </thead>\n",
       "  <tbody>\n",
       "    <tr>\n",
       "      <th>0</th>\n",
       "      <td>Useless product</td>\n",
       "      <td>Bad products bass quality is bad , sound quali...</td>\n",
       "      <td>1</td>\n",
       "    </tr>\n",
       "    <tr>\n",
       "      <th>1</th>\n",
       "      <td>Useless product</td>\n",
       "      <td>Only 10 days I use blutooth conecting problem ...</td>\n",
       "      <td>1</td>\n",
       "    </tr>\n",
       "    <tr>\n",
       "      <th>2</th>\n",
       "      <td>Could be way better</td>\n",
       "      <td>Very basic sound quality. Not at all premium f...</td>\n",
       "      <td>2</td>\n",
       "    </tr>\n",
       "    <tr>\n",
       "      <th>3</th>\n",
       "      <td>Bad quality</td>\n",
       "      <td>Slo sound</td>\n",
       "      <td>2</td>\n",
       "    </tr>\n",
       "    <tr>\n",
       "      <th>4</th>\n",
       "      <td>Slightly disappointed</td>\n",
       "      <td>Not for music lovers, sound is not good</td>\n",
       "      <td>2</td>\n",
       "    </tr>\n",
       "    <tr>\n",
       "      <th>...</th>\n",
       "      <td>...</td>\n",
       "      <td>...</td>\n",
       "      <td>...</td>\n",
       "    </tr>\n",
       "    <tr>\n",
       "      <th>65</th>\n",
       "      <td>Nice</td>\n",
       "      <td>It's ok</td>\n",
       "      <td>3</td>\n",
       "    </tr>\n",
       "    <tr>\n",
       "      <th>66</th>\n",
       "      <td>Just okay</td>\n",
       "      <td>Good</td>\n",
       "      <td>3</td>\n",
       "    </tr>\n",
       "    <tr>\n",
       "      <th>67</th>\n",
       "      <td>Good</td>\n",
       "      <td>I paid extra for stand. Because no hanging arr...</td>\n",
       "      <td>3</td>\n",
       "    </tr>\n",
       "    <tr>\n",
       "      <th>68</th>\n",
       "      <td>Nice</td>\n",
       "      <td>Damage project</td>\n",
       "      <td>3</td>\n",
       "    </tr>\n",
       "    <tr>\n",
       "      <th>69</th>\n",
       "      <td>Just okay</td>\n",
       "      <td>Product is good in this price...</td>\n",
       "      <td>3</td>\n",
       "    </tr>\n",
       "  </tbody>\n",
       "</table>\n",
       "<p>70 rows × 3 columns</p>\n",
       "</div>"
      ],
      "text/plain": [
       "                    Title                                             Review  \\\n",
       "0         Useless product  Bad products bass quality is bad , sound quali...   \n",
       "1         Useless product  Only 10 days I use blutooth conecting problem ...   \n",
       "2     Could be way better  Very basic sound quality. Not at all premium f...   \n",
       "3             Bad quality                                          Slo sound   \n",
       "4   Slightly disappointed            Not for music lovers, sound is not good   \n",
       "..                    ...                                                ...   \n",
       "65                   Nice                                            It's ok   \n",
       "66              Just okay                                               Good   \n",
       "67                   Good  I paid extra for stand. Because no hanging arr...   \n",
       "68                   Nice                                     Damage project   \n",
       "69              Just okay                   Product is good in this price...   \n",
       "\n",
       "   Rating  \n",
       "0       1  \n",
       "1       1  \n",
       "2       2  \n",
       "3       2  \n",
       "4       2  \n",
       "..    ...  \n",
       "65      3  \n",
       "66      3  \n",
       "67      3  \n",
       "68      3  \n",
       "69      3  \n",
       "\n",
       "[70 rows x 3 columns]"
      ]
     },
     "execution_count": 345,
     "metadata": {},
     "output_type": "execute_result"
    }
   ],
   "source": [
    "pd.DataFrame({\"Title\":title,\"Review\":review,\"Rating\":rating})"
   ]
  },
  {
   "cell_type": "code",
   "execution_count": 338,
   "id": "efe394de",
   "metadata": {},
   "outputs": [],
   "source": [
    "#watch1=pd.DataFrame({\"Title\":title,\"Review\":review,\"Rating\":rating})\n",
    "#watch2=pd.DataFrame({\"Title\":title,\"Review\":review,\"Rating\":rating})\n",
    "#watch3=pd.DataFrame({\"Title\":title,\"Review\":review,\"Rating\":rating})\n",
    "#watch4=pd.DataFrame({\"Title\":title,\"Review\":review,\"Rating\":rating})\n",
    "#watch5=pd.DataFrame({\"Title\":title,\"Review\":review,\"Rating\":rating})\n",
    "#camera=pd.DataFrame({\"Title\":title,\"Review\":review,\"Rating\":rating})\n",
    "#printer=pd.DataFrame({\"Title\":title,\"Review\":review,\"Rating\":rating})\n"
   ]
  },
  {
   "cell_type": "code",
   "execution_count": 346,
   "id": "5e39d634",
   "metadata": {},
   "outputs": [
    {
     "data": {
      "text/html": [
       "<div>\n",
       "<style scoped>\n",
       "    .dataframe tbody tr th:only-of-type {\n",
       "        vertical-align: middle;\n",
       "    }\n",
       "\n",
       "    .dataframe tbody tr th {\n",
       "        vertical-align: top;\n",
       "    }\n",
       "\n",
       "    .dataframe thead th {\n",
       "        text-align: right;\n",
       "    }\n",
       "</style>\n",
       "<table border=\"1\" class=\"dataframe\">\n",
       "  <thead>\n",
       "    <tr style=\"text-align: right;\">\n",
       "      <th></th>\n",
       "      <th>Title</th>\n",
       "      <th>Review</th>\n",
       "      <th>Rating</th>\n",
       "    </tr>\n",
       "  </thead>\n",
       "  <tbody>\n",
       "    <tr>\n",
       "      <th>0</th>\n",
       "      <td>Useless product</td>\n",
       "      <td>Bad products bass quality is bad , sound quali...</td>\n",
       "      <td>1</td>\n",
       "    </tr>\n",
       "    <tr>\n",
       "      <th>1</th>\n",
       "      <td>Useless product</td>\n",
       "      <td>Only 10 days I use blutooth conecting problem ...</td>\n",
       "      <td>1</td>\n",
       "    </tr>\n",
       "    <tr>\n",
       "      <th>2</th>\n",
       "      <td>Could be way better</td>\n",
       "      <td>Very basic sound quality. Not at all premium f...</td>\n",
       "      <td>2</td>\n",
       "    </tr>\n",
       "    <tr>\n",
       "      <th>3</th>\n",
       "      <td>Bad quality</td>\n",
       "      <td>Slo sound</td>\n",
       "      <td>2</td>\n",
       "    </tr>\n",
       "    <tr>\n",
       "      <th>4</th>\n",
       "      <td>Slightly disappointed</td>\n",
       "      <td>Not for music lovers, sound is not good</td>\n",
       "      <td>2</td>\n",
       "    </tr>\n",
       "    <tr>\n",
       "      <th>...</th>\n",
       "      <td>...</td>\n",
       "      <td>...</td>\n",
       "      <td>...</td>\n",
       "    </tr>\n",
       "    <tr>\n",
       "      <th>65</th>\n",
       "      <td>Nice</td>\n",
       "      <td>It's ok</td>\n",
       "      <td>3</td>\n",
       "    </tr>\n",
       "    <tr>\n",
       "      <th>66</th>\n",
       "      <td>Just okay</td>\n",
       "      <td>Good</td>\n",
       "      <td>3</td>\n",
       "    </tr>\n",
       "    <tr>\n",
       "      <th>67</th>\n",
       "      <td>Good</td>\n",
       "      <td>I paid extra for stand. Because no hanging arr...</td>\n",
       "      <td>3</td>\n",
       "    </tr>\n",
       "    <tr>\n",
       "      <th>68</th>\n",
       "      <td>Nice</td>\n",
       "      <td>Damage project</td>\n",
       "      <td>3</td>\n",
       "    </tr>\n",
       "    <tr>\n",
       "      <th>69</th>\n",
       "      <td>Just okay</td>\n",
       "      <td>Product is good in this price...</td>\n",
       "      <td>3</td>\n",
       "    </tr>\n",
       "  </tbody>\n",
       "</table>\n",
       "<p>70 rows × 3 columns</p>\n",
       "</div>"
      ],
      "text/plain": [
       "                    Title                                             Review  \\\n",
       "0         Useless product  Bad products bass quality is bad , sound quali...   \n",
       "1         Useless product  Only 10 days I use blutooth conecting problem ...   \n",
       "2     Could be way better  Very basic sound quality. Not at all premium f...   \n",
       "3             Bad quality                                          Slo sound   \n",
       "4   Slightly disappointed            Not for music lovers, sound is not good   \n",
       "..                    ...                                                ...   \n",
       "65                   Nice                                            It's ok   \n",
       "66              Just okay                                               Good   \n",
       "67                   Good  I paid extra for stand. Because no hanging arr...   \n",
       "68                   Nice                                     Damage project   \n",
       "69              Just okay                   Product is good in this price...   \n",
       "\n",
       "   Rating  \n",
       "0       1  \n",
       "1       1  \n",
       "2       2  \n",
       "3       2  \n",
       "4       2  \n",
       "..    ...  \n",
       "65      3  \n",
       "66      3  \n",
       "67      3  \n",
       "68      3  \n",
       "69      3  \n",
       "\n",
       "[70 rows x 3 columns]"
      ]
     },
     "execution_count": 346,
     "metadata": {},
     "output_type": "execute_result"
    }
   ],
   "source": [
    "#q=pd.DataFrame({\"Title\":title,\"Review\":review,\"Rating\":rating})\n",
    "#q1=pd.DataFrame({\"Title\":title,\"Review\":review,\"Rating\":rating})\n",
    "#q2=pd.DataFrame({\"Title\":title,\"Review\":review,\"Rating\":rating})\n",
    "#q3=pd.DataFrame({\"Title\":title,\"Review\":review,\"Rating\":rating})\n",
    "q3"
   ]
  },
  {
   "cell_type": "code",
   "execution_count": 165,
   "id": "3b313091",
   "metadata": {},
   "outputs": [],
   "source": [
    "iphone_data.to_csv(\"laptop.csv\",index=False)"
   ]
  },
  {
   "cell_type": "code",
   "execution_count": 269,
   "id": "a3b6418f",
   "metadata": {},
   "outputs": [],
   "source": [
    "pd.concat([watch1,watch2,watch3,watch4,watch5,camera,printer], ignore_index = True).to_csv('data1.csv')"
   ]
  },
  {
   "cell_type": "code",
   "execution_count": 108,
   "id": "638afa53",
   "metadata": {},
   "outputs": [],
   "source": []
  },
  {
   "cell_type": "markdown",
   "id": "926023d6",
   "metadata": {},
   "source": [
    "# Add all data files to 1 file"
   ]
  },
  {
   "cell_type": "code",
   "execution_count": 278,
   "id": "4e883cea",
   "metadata": {},
   "outputs": [
    {
     "data": {
      "text/plain": [
       "(14498, 3)"
      ]
     },
     "execution_count": 278,
     "metadata": {},
     "output_type": "execute_result"
    }
   ],
   "source": [
    "d1=pd.read_csv('data.csv', index_col=0)\n",
    "d1.shape"
   ]
  },
  {
   "cell_type": "code",
   "execution_count": 281,
   "id": "864149b4",
   "metadata": {},
   "outputs": [
    {
     "data": {
      "text/plain": [
       "(8933, 3)"
      ]
     },
     "execution_count": 281,
     "metadata": {},
     "output_type": "execute_result"
    }
   ],
   "source": [
    "d2=pd.read_csv('data1.csv', index_col=0)\n",
    "d2.shape"
   ]
  },
  {
   "cell_type": "code",
   "execution_count": 284,
   "id": "fb8aaaab",
   "metadata": {},
   "outputs": [
    {
     "data": {
      "text/plain": [
       "(2046, 3)"
      ]
     },
     "execution_count": 284,
     "metadata": {},
     "output_type": "execute_result"
    }
   ],
   "source": [
    "d3=pd.read_csv('iphone_review.csv')\n",
    "d3.shape"
   ]
  },
  {
   "cell_type": "code",
   "execution_count": 286,
   "id": "cf587d48",
   "metadata": {},
   "outputs": [
    {
     "data": {
      "text/plain": [
       "(1662, 3)"
      ]
     },
     "execution_count": 286,
     "metadata": {},
     "output_type": "execute_result"
    }
   ],
   "source": [
    "d4=pd.read_csv('laptop.csv')\n",
    "d4.shape"
   ]
  },
  {
   "cell_type": "code",
   "execution_count": 288,
   "id": "b6675798",
   "metadata": {},
   "outputs": [
    {
     "data": {
      "text/plain": [
       "(503, 3)"
      ]
     },
     "execution_count": 288,
     "metadata": {},
     "output_type": "execute_result"
    }
   ],
   "source": [
    "d5=pd.read_csv('phone_review_2.csv')\n",
    "d5.shape"
   ]
  },
  {
   "cell_type": "code",
   "execution_count": 290,
   "id": "9e48f4f7",
   "metadata": {},
   "outputs": [
    {
     "data": {
      "text/plain": [
       "(2039, 3)"
      ]
     },
     "execution_count": 290,
     "metadata": {},
     "output_type": "execute_result"
    }
   ],
   "source": [
    "d6=pd.read_csv('phone_review_3.csv')\n",
    "d6.shape"
   ]
  },
  {
   "cell_type": "code",
   "execution_count": 292,
   "id": "ec58894d",
   "metadata": {},
   "outputs": [
    {
     "data": {
      "text/plain": [
       "(2400, 3)"
      ]
     },
     "execution_count": 292,
     "metadata": {},
     "output_type": "execute_result"
    }
   ],
   "source": [
    "d7=pd.read_csv('phone_review_4.csv')\n",
    "d7.shape"
   ]
  },
  {
   "cell_type": "code",
   "execution_count": 348,
   "id": "e0135f53",
   "metadata": {},
   "outputs": [],
   "source": [
    "pd.concat([d1,d2,d3,d4,d5,d6,d7,q,q1,q2,q3],ignore_index=True).to_csv('review_comments_data.csv')"
   ]
  },
  {
   "cell_type": "code",
   "execution_count": null,
   "id": "7e3c3d58",
   "metadata": {},
   "outputs": [],
   "source": []
  },
  {
   "cell_type": "code",
   "execution_count": null,
   "id": "cbcddc88",
   "metadata": {},
   "outputs": [],
   "source": []
  },
  {
   "cell_type": "code",
   "execution_count": null,
   "id": "b8551bac",
   "metadata": {},
   "outputs": [],
   "source": []
  },
  {
   "cell_type": "code",
   "execution_count": null,
   "id": "6d4ff9e7",
   "metadata": {},
   "outputs": [],
   "source": []
  },
  {
   "cell_type": "markdown",
   "id": "a89747ad",
   "metadata": {},
   "source": [
    "# Amazon reviews"
   ]
  },
  {
   "cell_type": "code",
   "execution_count": 296,
   "id": "1b54fea9",
   "metadata": {},
   "outputs": [],
   "source": [
    "# Connect to Driver\n",
    "\n",
    "driver= webdriver.Chrome(r'C:\\working\\chromedriver.exe')\n",
    "driver.maximize_window()\n",
    "\n",
    "url='https://www.amazon.in/BenQ-inch-Bezel-Monitor-Built/product-reviews/B073NTCT4R/ref=cm_cr_arp_d_viewopt_sr?ie=UTF8&reviewerType=all_reviews&filterByStar=two_star&pageNumber=1'\n",
    "driver.get(url)"
   ]
  },
  {
   "cell_type": "code",
   "execution_count": null,
   "id": "d06742c4",
   "metadata": {},
   "outputs": [],
   "source": []
  },
  {
   "cell_type": "code",
   "execution_count": 307,
   "id": "8e5afe24",
   "metadata": {},
   "outputs": [],
   "source": [
    "ratings= driver.find_elements_by_xpath('//i[@class=\"a-icon a-icon-star a-star-2 review-rating\"]')"
   ]
  },
  {
   "cell_type": "code",
   "execution_count": 308,
   "id": "9901ad5f",
   "metadata": {},
   "outputs": [
    {
     "name": "stdout",
     "output_type": "stream",
     "text": [
      "\n",
      "\n",
      "\n",
      "\n",
      "\n",
      "\n",
      "\n",
      "\n",
      "\n",
      "\n"
     ]
    }
   ],
   "source": [
    "for i in ratings:\n",
    "    print(i.text)"
   ]
  },
  {
   "cell_type": "code",
   "execution_count": null,
   "id": "4d6c5eef",
   "metadata": {},
   "outputs": [],
   "source": []
  },
  {
   "cell_type": "markdown",
   "id": "36994327",
   "metadata": {},
   "source": [
    "* 2 Start only"
   ]
  },
  {
   "cell_type": "code",
   "execution_count": null,
   "id": "c7487caa",
   "metadata": {},
   "outputs": [],
   "source": []
  },
  {
   "cell_type": "code",
   "execution_count": 320,
   "id": "2f9a9d03",
   "metadata": {},
   "outputs": [],
   "source": []
  },
  {
   "cell_type": "code",
   "execution_count": null,
   "id": "b222fba2",
   "metadata": {},
   "outputs": [],
   "source": []
  }
 ],
 "metadata": {
  "kernelspec": {
   "display_name": "Python 3 (ipykernel)",
   "language": "python",
   "name": "python3"
  },
  "language_info": {
   "codemirror_mode": {
    "name": "ipython",
    "version": 3
   },
   "file_extension": ".py",
   "mimetype": "text/x-python",
   "name": "python",
   "nbconvert_exporter": "python",
   "pygments_lexer": "ipython3",
   "version": "3.9.12"
  }
 },
 "nbformat": 4,
 "nbformat_minor": 5
}
