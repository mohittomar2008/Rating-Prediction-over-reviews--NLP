{
 "cells": [
  {
   "cell_type": "code",
   "execution_count": 1,
   "id": "f6461ca0",
   "metadata": {},
   "outputs": [],
   "source": [
    " # import libraraies\n",
    "\n",
    "import selenium\n",
    "from selenium import webdriver\n",
    "import pandas as pd\n",
    "\n",
    "# Importing required Exceptions which needs to handled\n",
    "from selenium.common.exceptions import StaleElementReferenceException, NoSuchElementException\n",
    "\n",
    "#Importing requests\n",
    "import requests\n",
    "\n",
    "import numpy as np\n",
    "import pandas as pd\n",
    "\n",
    "# importing regex\n",
    "import re\n",
    "\n",
    "import warnings\n",
    "warnings.filterwarnings('ignore')\n",
    "import time"
   ]
  },
  {
   "cell_type": "code",
   "execution_count": 14,
   "id": "ffc2bf6d",
   "metadata": {},
   "outputs": [],
   "source": [
    "# lets connect to driver\n",
    "\n",
    "driver= webdriver.Chrome(r'C:\\working\\chromedriver.exe')\n",
    "driver.maximize_window()\n",
    "\n",
    "url='https://www.amazon.in/Micro-Edge-Anti-Glare-Graphics-Speakers-15S-Eq2143Au/product-reviews/B09R1MMMTH/ref=cm_cr_dp_d_show_all_btm?ie=UTF8&reviewerType=all_reviews'\n",
    "driver.get(url)"
   ]
  },
  {
   "cell_type": "code",
   "execution_count": 17,
   "id": "180a62f7",
   "metadata": {},
   "outputs": [],
   "source": [
    "title=[]\n",
    "review=[]\n",
    "rating=[]"
   ]
  },
  {
   "cell_type": "code",
   "execution_count": 18,
   "id": "79158178",
   "metadata": {},
   "outputs": [],
   "source": [
    "\n",
    "\n",
    "titles= driver.find_elements_by_xpath('//a[@class=\"a-size-base a-link-normal review-title a-color-base review-title-content a-text-bold\"]')\n",
    "for i in titles:\n",
    "    title.append(i.text)\n",
    "\n",
    "reviews= driver.find_elements_by_xpath('//span[@class=\"a-size-base review-text review-text-content\"]')\n",
    "for i in reviews:\n",
    "    review.append(i.text)\n",
    "    \n"
   ]
  },
  {
   "cell_type": "code",
   "execution_count": 19,
   "id": "5c6bb171",
   "metadata": {},
   "outputs": [
    {
     "data": {
      "text/plain": [
       "(10, 10)"
      ]
     },
     "execution_count": 19,
     "metadata": {},
     "output_type": "execute_result"
    }
   ],
   "source": [
    "len(titles) , len(reviews)"
   ]
  },
  {
   "cell_type": "code",
   "execution_count": 20,
   "id": "8a38bee6",
   "metadata": {},
   "outputs": [
    {
     "data": {
      "text/plain": [
       "(10, 10)"
      ]
     },
     "execution_count": 20,
     "metadata": {},
     "output_type": "execute_result"
    }
   ],
   "source": [
    "len(title) , len(review)"
   ]
  },
  {
   "cell_type": "code",
   "execution_count": 21,
   "id": "91389268",
   "metadata": {},
   "outputs": [
    {
     "data": {
      "text/html": [
       "<div>\n",
       "<style scoped>\n",
       "    .dataframe tbody tr th:only-of-type {\n",
       "        vertical-align: middle;\n",
       "    }\n",
       "\n",
       "    .dataframe tbody tr th {\n",
       "        vertical-align: top;\n",
       "    }\n",
       "\n",
       "    .dataframe thead th {\n",
       "        text-align: right;\n",
       "    }\n",
       "</style>\n",
       "<table border=\"1\" class=\"dataframe\">\n",
       "  <thead>\n",
       "    <tr style=\"text-align: right;\">\n",
       "      <th></th>\n",
       "      <th>Title</th>\n",
       "      <th>Review</th>\n",
       "    </tr>\n",
       "  </thead>\n",
       "  <tbody>\n",
       "    <tr>\n",
       "      <th>0</th>\n",
       "      <td>Best Laptop under 40k</td>\n",
       "      <td>This laptop is perfect for home and student us...</td>\n",
       "    </tr>\n",
       "    <tr>\n",
       "      <th>1</th>\n",
       "      <td>Ryzen 3 3250U much better than core i3 10th ge...</td>\n",
       "      <td>One of the best product at this price....</td>\n",
       "    </tr>\n",
       "    <tr>\n",
       "      <th>2</th>\n",
       "      <td>All in all</td>\n",
       "      <td>Very good .... After use of 9 months (updated)</td>\n",
       "    </tr>\n",
       "    <tr>\n",
       "      <th>3</th>\n",
       "      <td>Highly recommended. Go for it.</td>\n",
       "      <td>Best laptop under 40k. 1TB HDD, 256GB SSD, 8GB...</td>\n",
       "    </tr>\n",
       "    <tr>\n",
       "      <th>4</th>\n",
       "      <td>Poor laptop for 41K - freezes with MS Teams</td>\n",
       "      <td>I bought this laptop for remote schooling of k...</td>\n",
       "    </tr>\n",
       "    <tr>\n",
       "      <th>5</th>\n",
       "      <td>Does not work with microsoft teams app. it fre...</td>\n",
       "      <td>I don't know how I missed the review given by ...</td>\n",
       "    </tr>\n",
       "    <tr>\n",
       "      <th>6</th>\n",
       "      <td>Good</td>\n",
       "      <td>Play Video\\n Super quality and display is awesome</td>\n",
       "    </tr>\n",
       "    <tr>\n",
       "      <th>7</th>\n",
       "      <td>8 gb ram and 256 ssd still laptop and its task...</td>\n",
       "      <td>Play Video\\n Laptop is having 256 ssd and 8 gb...</td>\n",
       "    </tr>\n",
       "    <tr>\n",
       "      <th>8</th>\n",
       "      <td>Damaged product received and Amazon not pickin...</td>\n",
       "      <td>Received damaged laptop and it has been two we...</td>\n",
       "    </tr>\n",
       "    <tr>\n",
       "      <th>9</th>\n",
       "      <td>Unsure of the Configuration</td>\n",
       "      <td>This laptop is overall a really good package, ...</td>\n",
       "    </tr>\n",
       "  </tbody>\n",
       "</table>\n",
       "</div>"
      ],
      "text/plain": [
       "                                               Title  \\\n",
       "0                              Best Laptop under 40k   \n",
       "1  Ryzen 3 3250U much better than core i3 10th ge...   \n",
       "2                                         All in all   \n",
       "3                     Highly recommended. Go for it.   \n",
       "4        Poor laptop for 41K - freezes with MS Teams   \n",
       "5  Does not work with microsoft teams app. it fre...   \n",
       "6                                               Good   \n",
       "7  8 gb ram and 256 ssd still laptop and its task...   \n",
       "8  Damaged product received and Amazon not pickin...   \n",
       "9                        Unsure of the Configuration   \n",
       "\n",
       "                                              Review  \n",
       "0  This laptop is perfect for home and student us...  \n",
       "1          One of the best product at this price....  \n",
       "2     Very good .... After use of 9 months (updated)  \n",
       "3  Best laptop under 40k. 1TB HDD, 256GB SSD, 8GB...  \n",
       "4  I bought this laptop for remote schooling of k...  \n",
       "5  I don't know how I missed the review given by ...  \n",
       "6  Play Video\\n Super quality and display is awesome  \n",
       "7  Play Video\\n Laptop is having 256 ssd and 8 gb...  \n",
       "8  Received damaged laptop and it has been two we...  \n",
       "9  This laptop is overall a really good package, ...  "
      ]
     },
     "execution_count": 21,
     "metadata": {},
     "output_type": "execute_result"
    }
   ],
   "source": [
    "pd.DataFrame({'Title':title,'Review':review})"
   ]
  },
  {
   "cell_type": "code",
   "execution_count": 53,
   "id": "2d951d67",
   "metadata": {},
   "outputs": [],
   "source": [
    "rating=[]\n",
    "ratings= driver.find_elements_by_xpath('//div[@class=\"a-section review aok-relative\"]/div/div/div')\n",
    "for i in ratings:\n",
    "    rating.append(i.text)"
   ]
  },
  {
   "cell_type": "code",
   "execution_count": 54,
   "id": "f07f4ef3",
   "metadata": {},
   "outputs": [
    {
     "data": {
      "text/plain": [
       "['Amazon Customer',\n",
       " 'Best Laptop under 40k',\n",
       " 'Style name: 1TB HDD + 256GB SSDPattern name: LaptopVerified Purchase',\n",
       " \"This laptop is perfect for home and student use. Don't get blindsided by the negative reviews. The item arrives in sturdy packaging which prevents it from damage during transit. I myself use this laptop for university online meetings. This laptop is not meant for high graphics gaming, low-resolution games are compatible. Rest assured is fine.\\n\\nBenefits:\\n- Heat: No heating issue. While charging only the charging adapter and battery gets warm which is quite normal.\\n- Charging time: Gets charged in 2hr 30mn (0-100). Playback time (normal usage)- 4 hrs.\\n- Boot time: 10 secs switch-on & switch-off.\\n- Writing speed: USB 3.0 (output to input) gives 80-120 Mbps writing speed.\\n- Display: FHD display, Antiglare display lets you stream Netflix, Youtube & many more from any angle of the laptop.\\n- Sound: Based on a laptop system, the sound is quite good. I hear music at volume 40/100.\\n- Touchpad: smooth.\\n- Pre-activated Office 2019.\\n\\nNote:\\n- Purchase a Saco silicon keyboard cover (black) as the visibility of the default key prints in daylight are not so efficiently visible.\\n\\n- As shown in picture, the laptop must be kept above any plain hard surface so that the air circulation keeps running and does not gets heated.\\n\\n- In many reviews, you will find that the laptop is getting heated, the worst laptop and all. But one must know how to use it properly.\\n\\n- At first, I was thinking of purchasing the same model only with Ryzen 3 4300U processor. But I changed my decision and stuck to this only. Because as compared to 4300U, in this laptop 3250U one gets 15.6 Screen, RJ-45 Port, 1TB HDD, calculator keyboard.\\n\\n- Don't confuse yourself with the processors, someone will say quad-core is better than dual-core, and don't purchase this laptop as it is dual-core. But trust me for home and student basic usage, this laptop is more than enough.\\n\\n- If one plays a game or performs multi-high tasking software, then the laptop fan runs at high speed which is a bit noisy. But don't worry its normal only.\\n\\n- DDR4 2400 mghz is sufficient for a student and basic office meetings use.\\n\\n- Do check the warranty on HP's official website by entering the serial number which is present at the laptop base or product box.\\n\\nThat's all folks!!!\",\n",
       " '',\n",
       " '',\n",
       " '806 people found this helpful\\nHelpful\\nReport abuse',\n",
       " 'Shubhankar',\n",
       " 'Ryzen 3 3250U much better than core i3 10th generation',\n",
       " 'Style name: 1TB HDD + 256GB SSDPattern name: LaptopVerified Purchase',\n",
       " 'One of the best product at this price....',\n",
       " '313 people found this helpful\\nHelpful\\nReport abuse',\n",
       " 'karthik.v',\n",
       " 'All in all',\n",
       " 'Style name: 1TB HDD + 256GB SSDPattern name: LaptopVerified Purchase',\n",
       " 'Very good .... After use of 9 months (updated)',\n",
       " '308 people found this helpful\\nHelpful\\nReport abuse',\n",
       " 'Kushal Mukherjee',\n",
       " 'Highly recommended. Go for it.',\n",
       " 'Style name: 1TB HDD + 256GB SSDPattern name: LaptopVerified Purchase',\n",
       " 'Best laptop under 40k. 1TB HDD, 256GB SSD, 8GB RAM, Ryzen 3.\\nNo matter how much dig in you wont find these specifications in any other brand at this price.',\n",
       " '',\n",
       " '',\n",
       " '89 people found this helpful\\nHelpful\\nReport abuse',\n",
       " 'Sunita',\n",
       " 'Poor laptop for 41K - freezes with MS Teams',\n",
       " 'Style name: 1TB HDD + 256GB SSDPattern name: LaptopVerified Purchase',\n",
       " 'I bought this laptop for remote schooling of kids. Observed that 10 mins into microsoft teams, the video freezes. The audio continues. But at this time, the entire laptop is in hung state. There is no option other than hard reboot. Had a call with HP Support. They asked me to update OS, BIOS, which was done promptly. Still the same issue. Do not buy this laptop.\\nCamera is also extremely poor',\n",
       " '67 people found this helpful\\nHelpful\\nReport abuse',\n",
       " 'Amazon Customer',\n",
       " 'Does not work with microsoft teams app. it freezes',\n",
       " 'Style name: 1TB HDD + 256GB SSDPattern name: LaptopVerified Purchase',\n",
       " \"I don't know how I missed the review given by fellow purchasers on hang up issues and now I am repenting about it. Bought this laptop for solely for my son's online classes thinking that it works seamlessly. the shocker came when the classes started happing on microsoft teams. this laptop can not handle this app and freezes after few minutes. tried to update all the drivers but of no use. totally disappointed. even the alphabets on the key board are not clearly visible(silver model). I can not return/ replace this one. now I need to raise the problem with the HP care. not happy by the purchase :(\",\n",
       " '57 people found this helpful\\nHelpful\\nReport abuse',\n",
       " 'Yaswanth',\n",
       " 'Good',\n",
       " 'Style name: 1TB HDD + 256GB SSDPattern name: LaptopVerified Purchase',\n",
       " 'Play Video\\n Super quality and display is awesome',\n",
       " '67 people found this helpful\\nHelpful\\nReport abuse',\n",
       " 'Rishabh sinha',\n",
       " '8 gb ram and 256 ssd still laptop and its task manager keeps hanging and then booting takes forever',\n",
       " 'Style name: 1TB HDD + 256GB SSDPattern name: LaptopVerified Purchase',\n",
       " 'Play Video\\n Laptop is having 256 ssd and 8 gb ram still hangs while opening simple application and broswsers. On top of that task manager also crashes. Only a hard reboot then fixes the issue. Attaching video poof of booting time. Disappointing.',\n",
       " '',\n",
       " '',\n",
       " '54 people found this helpful\\nHelpful\\nReport abuse',\n",
       " 'Vandana Kapoor',\n",
       " 'Damaged product received and Amazon not picking up for return - NEVER BUY',\n",
       " 'Style name: 1TB HDD + 256GB SSDPattern name: LaptopVerified Purchase',\n",
       " 'Received damaged laptop and it has been two weeks that I have been trying to get it replaced or returned. The Amazon pick up person has come 6-7 times now and each time they have a new excuse for not picking up the damaged product. The customer care service has also been absolutely useless. They keep reassuring that pick up will be done tomorrow but the same cycle keeps repeating and it has been two weeks now. The pick up person also does not pick up the calls now. Do not buy such a high value product on amazon. There is no customer service at all and I am now stuck with a damaged laptop.',\n",
       " '',\n",
       " '',\n",
       " '48 people found this helpful\\nHelpful\\nReport abuse',\n",
       " 'Jai R. Curchorcar',\n",
       " 'Unsure of the Configuration',\n",
       " 'Style name: 1TB HDD + 256GB SSDPattern name: LaptopVerified Purchase',\n",
       " 'This laptop is overall a really good package, but there is something fishy. It is not Thin and neither is it light enough. The Ryzen processor and Radeon Graphics work seamlessly, but are not for games. Im still not sure if this graphics card is a Vega 6 or Vega 8, due to the serial number. Buy it only if the price falls under 40k or else go for something better!',\n",
       " '48 people found this helpful\\nHelpful\\nReport abuse']"
      ]
     },
     "execution_count": 54,
     "metadata": {},
     "output_type": "execute_result"
    }
   ],
   "source": [
    "driver.find_element_by_css_selector(\"[title=\"\"]\")"
   ]
  },
  {
   "cell_type": "code",
   "execution_count": null,
   "id": "c8055121",
   "metadata": {},
   "outputs": [],
   "source": []
  },
  {
   "cell_type": "code",
   "execution_count": null,
   "id": "495804f8",
   "metadata": {},
   "outputs": [],
   "source": []
  },
  {
   "cell_type": "code",
   "execution_count": null,
   "id": "e947eed6",
   "metadata": {},
   "outputs": [],
   "source": []
  },
  {
   "cell_type": "code",
   "execution_count": null,
   "id": "9846ee9a",
   "metadata": {},
   "outputs": [],
   "source": []
  },
  {
   "cell_type": "markdown",
   "id": "02c856e8",
   "metadata": {},
   "source": [
    "# Flipkart"
   ]
  },
  {
   "cell_type": "code",
   "execution_count": 120,
   "id": "6e3f560e",
   "metadata": {},
   "outputs": [],
   "source": [
    "# lets connect to driver\n",
    "\n",
    "driver= webdriver.Chrome(r'C:\\working\\chromedriver.exe')\n",
    "driver.maximize_window()\n",
    "\n",
    "url='https://www.flipkart.com/acer-one-10-atom-quad-core-2-gb-32-gb-ssd-windows-home-s1003-2-1-laptop/product-reviews/itmf3s3frzugaabs?pid=COMERZGKHRUEHNPR&lid=LSTCOMERZGKHRUEHNPRWINZUF&marketplace=FLIPKART&page=2'\n",
    "driver.get(url)"
   ]
  },
  {
   "cell_type": "code",
   "execution_count": 121,
   "id": "bebcf28b",
   "metadata": {},
   "outputs": [],
   "source": [
    "title=[]\n",
    "rating=[]\n",
    "review=[]"
   ]
  },
  {
   "cell_type": "code",
   "execution_count": 122,
   "id": "8b992b97",
   "metadata": {},
   "outputs": [],
   "source": [
    "\n",
    "\n",
    "titles= driver.find_elements_by_xpath('//p[@class=\"_2-N8zT\"]')\n",
    "for i in titles:\n",
    "    title.append(i.text)\n",
    "    \n",
    "\n",
    "ratings= driver.find_elements_by_xpath('//div[@class=\"_3LWZlK _1BLPMq\" or class=\"_3LWZlK _1rdVr6 _1BLPMq\"]')\n",
    "for i in ratings:\n",
    "    rating.append(i.text)\n",
    "    \n",
    "reviews= driver.find_elements_by_xpath('//div[@class=\"t-ZTKy\"]')\n",
    "for i in reviews:\n",
    "    review.append(i.text)"
   ]
  },
  {
   "cell_type": "code",
   "execution_count": 116,
   "id": "583167a4",
   "metadata": {},
   "outputs": [],
   "source": [
    "try:\n",
    "    ratings= driver.find_elements_by_xpath('//div[@class=\"_3LWZlK _1BLPMq\" or class=\"_3LWZlK _1rdVr6 _1BLPMq\"]')\n",
    "    \n",
    "except NoSuchElementException:\n",
    "    ratings.append(None)"
   ]
  },
  {
   "cell_type": "code",
   "execution_count": 123,
   "id": "0f47c5e7",
   "metadata": {},
   "outputs": [
    {
     "data": {
      "text/plain": [
       "(10, 9, 10)"
      ]
     },
     "execution_count": 123,
     "metadata": {},
     "output_type": "execute_result"
    }
   ],
   "source": [
    "len(title) , len(rating) , len(review)"
   ]
  },
  {
   "cell_type": "code",
   "execution_count": 124,
   "id": "4c7010d0",
   "metadata": {},
   "outputs": [
    {
     "data": {
      "text/plain": [
       "['5', '5', '5', '4', '5', '3', '5', '5', '5']"
      ]
     },
     "execution_count": 124,
     "metadata": {},
     "output_type": "execute_result"
    }
   ],
   "source": [
    "rating"
   ]
  },
  {
   "cell_type": "code",
   "execution_count": null,
   "id": "5c729c5e",
   "metadata": {},
   "outputs": [],
   "source": []
  },
  {
   "cell_type": "code",
   "execution_count": null,
   "id": "d06c3261",
   "metadata": {},
   "outputs": [],
   "source": []
  },
  {
   "cell_type": "code",
   "execution_count": null,
   "id": "fc79f17f",
   "metadata": {},
   "outputs": [],
   "source": []
  }
 ],
 "metadata": {
  "kernelspec": {
   "display_name": "Python 3 (ipykernel)",
   "language": "python",
   "name": "python3"
  },
  "language_info": {
   "codemirror_mode": {
    "name": "ipython",
    "version": 3
   },
   "file_extension": ".py",
   "mimetype": "text/x-python",
   "name": "python",
   "nbconvert_exporter": "python",
   "pygments_lexer": "ipython3",
   "version": "3.9.12"
  }
 },
 "nbformat": 4,
 "nbformat_minor": 5
}
