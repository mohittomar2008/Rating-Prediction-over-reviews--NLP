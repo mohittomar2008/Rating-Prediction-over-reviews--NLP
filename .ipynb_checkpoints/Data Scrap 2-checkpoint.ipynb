{
 "cells": [
  {
   "cell_type": "code",
   "execution_count": 119,
   "id": "3e73544c",
   "metadata": {},
   "outputs": [],
   "source": [
    "import pandas as pd\n",
    "import numpy as np\n",
    "from bs4 import BeautifulSoup\n",
    "import selenium.webdriver\n",
    "from selenium import webdriver \n",
    "from datetime import date \n",
    "from selenium.webdriver.support.ui import WebDriverWait\n",
    "from selenium.webdriver.support import expected_conditions as EC \n",
    "from selenium.webdriver.common.by import By\n",
    "from dateutil.relativedelta import relativedelta\n",
    "import csv\n",
    "import linecache\n",
    "import sys\n",
    "import matplotlib.pyplot as plt\n",
    "import seaborn as sns\n",
    "import datetime as dt\n",
    "import time\n",
    "\n",
    "import warnings\n",
    "warnings.filterwarnings('ignore')"
   ]
  },
  {
   "cell_type": "code",
   "execution_count": null,
   "id": "f57423d1",
   "metadata": {},
   "outputs": [],
   "source": []
  },
  {
   "cell_type": "code",
   "execution_count": null,
   "id": "3e456c37",
   "metadata": {},
   "outputs": [],
   "source": []
  },
  {
   "cell_type": "code",
   "execution_count": 211,
   "id": "5ce136c6",
   "metadata": {},
   "outputs": [],
   "source": [
    "# Connect to Driver\n",
    "\n",
    "driver= webdriver.Chrome(r'C:\\working\\chromedriver.exe')\n",
    "driver.maximize_window()\n",
    "\n",
    "url='https://www.flipkart.com/jbl-c50hi-wired-headset/product-reviews/itm7820dc2c9653e?pid=ACCFAMFQGCNEB8HM&lid=LSTACCFAMFQGCNEB8HMY6STV6&aid=overall&certifiedBuyer=false&sortOrder=NEGATIVE_FIRST'\n",
    "driver.get(url)"
   ]
  },
  {
   "cell_type": "code",
   "execution_count": 121,
   "id": "3e45659b",
   "metadata": {},
   "outputs": [],
   "source": [
    "# Close login page\n",
    "try:\n",
    "    login_page=driver.find_element_by_xpath('/html/body/div[2]/div/div/button')\n",
    "    login_page.click()\n",
    "except: pass\n"
   ]
  },
  {
   "cell_type": "code",
   "execution_count": 226,
   "id": "a1f0a12f",
   "metadata": {},
   "outputs": [],
   "source": [
    "# How many pages to scrap\n",
    "start=0\n",
    "end=150\n",
    "\n",
    "# create empty list to save scrapped data\n",
    "\n",
    "rating=[]\n",
    "title=[]\n",
    "review=[]\n"
   ]
  },
  {
   "cell_type": "code",
   "execution_count": 227,
   "id": "6733b203",
   "metadata": {},
   "outputs": [
    {
     "data": {
      "text/plain": [
       "(2000, 2000, 2000)"
      ]
     },
     "execution_count": 227,
     "metadata": {},
     "output_type": "execute_result"
    }
   ],
   "source": [
    "start=0\n",
    "end=200\n",
    "for page in range(start, end):\n",
    "    time.sleep(4)\n",
    "    ratings= driver.find_elements_by_xpath('//div[@class=\"col _2wzgFH K0kLPL\"]/div[1]/div[1]')\n",
    "    titles= driver.find_elements_by_xpath(\"//p[@class='_2-N8zT']\")\n",
    "    reviews=driver.find_elements_by_xpath(\"//div[@class='t-ZTKy']\")\n",
    "    \n",
    "    for i in ratings:\n",
    "        rating.append(i.text)\n",
    "    for j in titles:\n",
    "        title.append(j.text)\n",
    "    for k in reviews:\n",
    "        review.append(k.text)\n",
    "    next_button= driver.find_elements_by_xpath('//a[@class=\"_1LKTO3\"]')\n",
    "    try:\n",
    "        driver.get(next_button[1].get_attribute('href'))\n",
    "        \n",
    "    except:\n",
    "        driver.get(next_button[0].get_attribute('href'))\n",
    "        \n",
    "        \n",
    "\n",
    "        \n",
    "    \n",
    "len(rating), len(title), len(review)"
   ]
  },
  {
   "cell_type": "code",
   "execution_count": 228,
   "id": "272337cc",
   "metadata": {},
   "outputs": [
    {
     "data": {
      "text/html": [
       "<div>\n",
       "<style scoped>\n",
       "    .dataframe tbody tr th:only-of-type {\n",
       "        vertical-align: middle;\n",
       "    }\n",
       "\n",
       "    .dataframe tbody tr th {\n",
       "        vertical-align: top;\n",
       "    }\n",
       "\n",
       "    .dataframe thead th {\n",
       "        text-align: right;\n",
       "    }\n",
       "</style>\n",
       "<table border=\"1\" class=\"dataframe\">\n",
       "  <thead>\n",
       "    <tr style=\"text-align: right;\">\n",
       "      <th></th>\n",
       "      <th>Title</th>\n",
       "      <th>Review</th>\n",
       "      <th>Rating</th>\n",
       "    </tr>\n",
       "  </thead>\n",
       "  <tbody>\n",
       "    <tr>\n",
       "      <th>0</th>\n",
       "      <td>Excellent</td>\n",
       "      <td>Very nice product also delivered at right time...</td>\n",
       "      <td>5</td>\n",
       "    </tr>\n",
       "    <tr>\n",
       "      <th>1</th>\n",
       "      <td>Mind-blowing purchase</td>\n",
       "      <td>Good</td>\n",
       "      <td>5</td>\n",
       "    </tr>\n",
       "    <tr>\n",
       "      <th>2</th>\n",
       "      <td>Must buy!</td>\n",
       "      <td>It's a nice earphone</td>\n",
       "      <td>5</td>\n",
       "    </tr>\n",
       "    <tr>\n",
       "      <th>3</th>\n",
       "      <td>Great product</td>\n",
       "      <td>Good</td>\n",
       "      <td>5</td>\n",
       "    </tr>\n",
       "    <tr>\n",
       "      <th>4</th>\n",
       "      <td>Just wow!</td>\n",
       "      <td>Really good product.</td>\n",
       "      <td>5</td>\n",
       "    </tr>\n",
       "    <tr>\n",
       "      <th>...</th>\n",
       "      <td>...</td>\n",
       "      <td>...</td>\n",
       "      <td>...</td>\n",
       "    </tr>\n",
       "    <tr>\n",
       "      <th>1995</th>\n",
       "      <td>Super!</td>\n",
       "      <td>The best product 499</td>\n",
       "      <td>5</td>\n",
       "    </tr>\n",
       "    <tr>\n",
       "      <th>1996</th>\n",
       "      <td>Highly recommended</td>\n",
       "      <td>Sound Clearity is good along with good base qu...</td>\n",
       "      <td>5</td>\n",
       "    </tr>\n",
       "    <tr>\n",
       "      <th>1997</th>\n",
       "      <td>Must buy!</td>\n",
       "      <td>Hi quality ear phones from JBL impressed by it...</td>\n",
       "      <td>5</td>\n",
       "    </tr>\n",
       "    <tr>\n",
       "      <th>1998</th>\n",
       "      <td>Mind-blowing purchase</td>\n",
       "      <td>Superb</td>\n",
       "      <td>5</td>\n",
       "    </tr>\n",
       "    <tr>\n",
       "      <th>1999</th>\n",
       "      <td>Classy product</td>\n",
       "      <td>Nice</td>\n",
       "      <td>5</td>\n",
       "    </tr>\n",
       "  </tbody>\n",
       "</table>\n",
       "<p>2000 rows × 3 columns</p>\n",
       "</div>"
      ],
      "text/plain": [
       "                      Title  \\\n",
       "0                 Excellent   \n",
       "1     Mind-blowing purchase   \n",
       "2                 Must buy!   \n",
       "3             Great product   \n",
       "4                 Just wow!   \n",
       "...                     ...   \n",
       "1995                 Super!   \n",
       "1996     Highly recommended   \n",
       "1997              Must buy!   \n",
       "1998  Mind-blowing purchase   \n",
       "1999         Classy product   \n",
       "\n",
       "                                                 Review Rating  \n",
       "0     Very nice product also delivered at right time...      5  \n",
       "1                                                  Good      5  \n",
       "2                                  It's a nice earphone      5  \n",
       "3                                                  Good      5  \n",
       "4                                  Really good product.      5  \n",
       "...                                                 ...    ...  \n",
       "1995                               The best product 499      5  \n",
       "1996  Sound Clearity is good along with good base qu...      5  \n",
       "1997  Hi quality ear phones from JBL impressed by it...      5  \n",
       "1998                                             Superb      5  \n",
       "1999                                               Nice      5  \n",
       "\n",
       "[2000 rows x 3 columns]"
      ]
     },
     "execution_count": 228,
     "metadata": {},
     "output_type": "execute_result"
    }
   ],
   "source": [
    "pd.DataFrame({\"Title\":title,\"Review\":review,\"Rating\":rating})"
   ]
  },
  {
   "cell_type": "code",
   "execution_count": 230,
   "id": "efe394de",
   "metadata": {},
   "outputs": [],
   "source": [
    "#boat=pd.DataFrame({\"Title\":title,\"Review\":review,\"Rating\":rating})\n",
    "#realme=pd.DataFrame({\"Title\":title,\"Review\":review,\"Rating\":rating})\n",
    "#oppo=pd.DataFrame({\"Title\":title,\"Review\":review,\"Rating\":rating})\n",
    "#boult1=pd.DataFrame({\"Title\":title,\"Review\":review,\"Rating\":rating})\n",
    "#boult2=pd.DataFrame({\"Title\":title,\"Review\":review,\"Rating\":rating})\n",
    "#noise=pd.DataFrame({\"Title\":title,\"Review\":review,\"Rating\":rating})\n",
    "#boat1=pd.DataFrame({\"Title\":title,\"Review\":review,\"Rating\":rating})\n",
    "#boat2=pd.DataFrame({\"Title\":title,\"Review\":review,\"Rating\":rating})\n",
    "#jbl=pd.DataFrame({\"Title\":title,\"Review\":review,\"Rating\":rating})\n",
    "#jbl2=pd.DataFrame({\"Title\":title,\"Review\":review,\"Rating\":rating})\n",
    "#jbl3=pd.DataFrame({\"Title\":title,\"Review\":review,\"Rating\":rating})\n",
    "jbl4=pd.DataFrame({\"Title\":title,\"Review\":review,\"Rating\":rating})\n"
   ]
  },
  {
   "cell_type": "code",
   "execution_count": 165,
   "id": "3b313091",
   "metadata": {},
   "outputs": [],
   "source": [
    "iphone_data.to_csv(\"laptop.csv\",index=False)"
   ]
  },
  {
   "cell_type": "code",
   "execution_count": 231,
   "id": "a3b6418f",
   "metadata": {},
   "outputs": [],
   "source": [
    "pd.concat([boat,realme,oppo,boult1,boult2,noise,boat1,boat2,jbl,jbl2,jbl3,jbl4], ignore_index = True).to_csv('data.csv')"
   ]
  },
  {
   "cell_type": "code",
   "execution_count": 108,
   "id": "638afa53",
   "metadata": {},
   "outputs": [],
   "source": []
  },
  {
   "cell_type": "code",
   "execution_count": null,
   "id": "179ee998",
   "metadata": {},
   "outputs": [],
   "source": []
  }
 ],
 "metadata": {
  "kernelspec": {
   "display_name": "Python 3 (ipykernel)",
   "language": "python",
   "name": "python3"
  },
  "language_info": {
   "codemirror_mode": {
    "name": "ipython",
    "version": 3
   },
   "file_extension": ".py",
   "mimetype": "text/x-python",
   "name": "python",
   "nbconvert_exporter": "python",
   "pygments_lexer": "ipython3",
   "version": "3.9.12"
  }
 },
 "nbformat": 4,
 "nbformat_minor": 5
}
